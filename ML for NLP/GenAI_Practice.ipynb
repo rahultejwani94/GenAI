{
 "cells": [
  {
   "cell_type": "markdown",
   "id": "fc2ba994-acb2-4475-97af-9a4120ab14ab",
   "metadata": {},
   "source": [
    "NLTK → Best for learning, research, and experimentation. Has many algorithms and corpora, but slower and less production-friendly.\n",
    "\n",
    "spaCy → Best for production and real-world NLP apps. Fast, efficient, comes with pretrained models, but less focused on teaching or experimenting with algorithms.\n",
    "\n",
    "👉 In short:\n",
    "\n",
    "NLTK = classroom & research\n",
    "\n",
    "spaCy = industry & production"
   ]
  },
  {
   "cell_type": "code",
   "execution_count": 1,
   "id": "26f89f56-f567-4c9a-95b2-5ab0dbdaf68d",
   "metadata": {},
   "outputs": [
    {
     "name": "stdout",
     "output_type": "stream",
     "text": [
      "Requirement already satisfied: nltk in c:\\users\\kunal.chugriya\\appdata\\local\\anaconda3\\lib\\site-packages (3.9.1)\n",
      "Requirement already satisfied: click in c:\\users\\kunal.chugriya\\appdata\\local\\anaconda3\\lib\\site-packages (from nltk) (8.1.8)\n",
      "Requirement already satisfied: joblib in c:\\users\\kunal.chugriya\\appdata\\local\\anaconda3\\lib\\site-packages (from nltk) (1.4.2)\n",
      "Requirement already satisfied: regex>=2021.8.3 in c:\\users\\kunal.chugriya\\appdata\\local\\anaconda3\\lib\\site-packages (from nltk) (2024.11.6)\n",
      "Requirement already satisfied: tqdm in c:\\users\\kunal.chugriya\\appdata\\local\\anaconda3\\lib\\site-packages (from nltk) (4.67.1)\n",
      "Requirement already satisfied: colorama in c:\\users\\kunal.chugriya\\appdata\\local\\anaconda3\\lib\\site-packages (from click->nltk) (0.4.6)\n"
     ]
    }
   ],
   "source": [
    "!pip install nltk"
   ]
  },
  {
   "cell_type": "code",
   "execution_count": 2,
   "id": "c2abbb76-505f-468c-a94e-3e4b1553b0b6",
   "metadata": {},
   "outputs": [],
   "source": [
    "corpus = \"\"\"Hello, this is the practice notebook for Gen AI. \n",
    "Excited!\n",
    "Target is End of September.\"\"\""
   ]
  },
  {
   "cell_type": "code",
   "execution_count": 3,
   "id": "cdaeff8c-b854-4521-ab07-65a4b1c57893",
   "metadata": {},
   "outputs": [
    {
     "data": {
      "text/plain": [
       "'Hello, this is the practice notebook for Gen AI. \\nExcited!\\nTarget is End of September.'"
      ]
     },
     "execution_count": 3,
     "metadata": {},
     "output_type": "execute_result"
    }
   ],
   "source": [
    "corpus"
   ]
  },
  {
   "cell_type": "code",
   "execution_count": 4,
   "id": "762d145b-123b-4c7b-a73e-f047b941120d",
   "metadata": {},
   "outputs": [
    {
     "name": "stdout",
     "output_type": "stream",
     "text": [
      "Hello, this is the practice notebook for Gen AI. \n",
      "Excited!\n",
      "Target is End of September.\n"
     ]
    }
   ],
   "source": [
    "    print(corpus)"
   ]
  },
  {
   "cell_type": "code",
   "execution_count": 5,
   "id": "d32416d3-f5fc-4cf7-81e1-6955b7dab32a",
   "metadata": {},
   "outputs": [
    {
     "name": "stderr",
     "output_type": "stream",
     "text": [
      "[nltk_data] Downloading package punkt to\n",
      "[nltk_data]     C:\\Users\\Kunal.Chugriya\\AppData\\Roaming\\nltk_data...\n",
      "[nltk_data]   Package punkt is already up-to-date!\n",
      "[nltk_data] Downloading package punkt_tab to\n",
      "[nltk_data]     C:\\Users\\Kunal.Chugriya\\AppData\\Roaming\\nltk_data...\n",
      "[nltk_data]   Package punkt_tab is already up-to-date!\n"
     ]
    },
    {
     "data": {
      "text/plain": [
       "True"
      ]
     },
     "execution_count": 5,
     "metadata": {},
     "output_type": "execute_result"
    }
   ],
   "source": [
    "##Tokenization\n",
    "## Sentence-->Paragraphs\n",
    "import nltk\n",
    "from nltk.tokenize import sent_tokenize\n",
    "nltk.download('punkt')\n",
    "nltk.download('punkt_tab')\n",
    "\n"
   ]
  },
  {
   "cell_type": "markdown",
   "id": "824adc2e-4825-4165-91ec-4c9adb8c56bc",
   "metadata": {},
   "source": [
    "Yes, exactly — Punkt is a model, specifically a pre-trained unsupervised machine learning model for sentence tokenization."
   ]
  },
  {
   "cell_type": "code",
   "execution_count": 6,
   "id": "97c1c161-c511-4304-8024-e44460c52f2a",
   "metadata": {},
   "outputs": [],
   "source": [
    "documents = sent_tokenize(corpus)"
   ]
  },
  {
   "cell_type": "code",
   "execution_count": 7,
   "id": "57b63e94-c7ba-4a24-9e88-a72cf99ea3dd",
   "metadata": {},
   "outputs": [
    {
     "data": {
      "text/plain": [
       "list"
      ]
     },
     "execution_count": 7,
     "metadata": {},
     "output_type": "execute_result"
    }
   ],
   "source": [
    "type(documents)"
   ]
  },
  {
   "cell_type": "code",
   "execution_count": 8,
   "id": "cb7ce1a5-746d-4ce8-8fb6-371b0a8f4f3c",
   "metadata": {},
   "outputs": [],
   "source": [
    "## Tokenization\n",
    "## Paragraphs-->words\n",
    "## Sentences-->words\n",
    "\n",
    "from nltk.tokenize import word_tokenize"
   ]
  },
  {
   "cell_type": "code",
   "execution_count": 9,
   "id": "f39b9e5e-fa12-4cfb-a304-9d3edc3e0818",
   "metadata": {},
   "outputs": [],
   "source": [
    "words = word_tokenize(corpus)"
   ]
  },
  {
   "cell_type": "code",
   "execution_count": 10,
   "id": "abe8a9d6-f689-4ba0-b52a-3ce41baec58c",
   "metadata": {},
   "outputs": [
    {
     "data": {
      "text/plain": [
       "['Hello',\n",
       " ',',\n",
       " 'this',\n",
       " 'is',\n",
       " 'the',\n",
       " 'practice',\n",
       " 'notebook',\n",
       " 'for',\n",
       " 'Gen',\n",
       " 'AI',\n",
       " '.',\n",
       " 'Excited',\n",
       " '!',\n",
       " 'Target',\n",
       " 'is',\n",
       " 'End',\n",
       " 'of',\n",
       " 'September',\n",
       " '.']"
      ]
     },
     "execution_count": 10,
     "metadata": {},
     "output_type": "execute_result"
    }
   ],
   "source": [
    "words"
   ]
  },
  {
   "cell_type": "code",
   "execution_count": 11,
   "id": "f629e4e7-7a0c-4e91-a513-94e9f653cc57",
   "metadata": {},
   "outputs": [
    {
     "name": "stdout",
     "output_type": "stream",
     "text": [
      "['Hello', ',', 'this', 'is', 'the', 'practice', 'notebook', 'for', 'Gen', 'AI', '.']\n",
      "['Excited', '!']\n",
      "['Target', 'is', 'End', 'of', 'September', '.']\n"
     ]
    }
   ],
   "source": [
    "for sentence in documents:\n",
    "    print(word_tokenize(sentence))"
   ]
  },
  {
   "cell_type": "markdown",
   "id": "f8dcf10d-3e71-4c60-a548-8109e7b21635",
   "metadata": {},
   "source": [
    "from nltk.tokenize import wordpunct_tokenize\n",
    "Difference is a word Kunal's was present then in first one it would have\n",
    "been entirely considered where as in this, even the punct->punctuation would have been \n",
    "considered too"
   ]
  },
  {
   "cell_type": "code",
   "execution_count": 12,
   "id": "7dd19384-47f1-49f4-82e1-852dbcfe7890",
   "metadata": {},
   "outputs": [],
   "source": [
    "from nltk.tokenize import TreebankWordTokenizer\n",
    "\n",
    "Tokenizer = TreebankWordTokenizer()"
   ]
  },
  {
   "cell_type": "code",
   "execution_count": 13,
   "id": "6e47baf4-00d2-4352-bdad-d57071f7a670",
   "metadata": {},
   "outputs": [
    {
     "data": {
      "text/plain": [
       "['Hello',\n",
       " ',',\n",
       " 'this',\n",
       " 'is',\n",
       " 'the',\n",
       " 'practice',\n",
       " 'notebook',\n",
       " 'for',\n",
       " 'Gen',\n",
       " 'AI.',\n",
       " 'Excited',\n",
       " '!',\n",
       " 'Target',\n",
       " 'is',\n",
       " 'End',\n",
       " 'of',\n",
       " 'September',\n",
       " '.']"
      ]
     },
     "execution_count": 13,
     "metadata": {},
     "output_type": "execute_result"
    }
   ],
   "source": [
    "Tokenizer.tokenize(corpus)"
   ]
  },
  {
   "cell_type": "markdown",
   "id": "344201b3-55a3-419a-9735-d8be46018bb4",
   "metadata": {},
   "source": [
    "In above and rest all the only difference is, with all the words dot is coming except for the last word"
   ]
  },
  {
   "cell_type": "markdown",
   "id": "faddd573-1b95-4828-86a0-256803fdfa6e",
   "metadata": {},
   "source": [
    "## nltk is library. tokenize is the module. sent_tokenize is a function. TreebankWordTokenizer is a class\n",
    "\n"
   ]
  },
  {
   "cell_type": "markdown",
   "id": "adf44b4a-4006-473a-92eb-503e8a94b42f",
   "metadata": {},
   "source": [
    "<p><strong>\n",
    "    In Natural Language Processing (NLP), stemming means chopping off the ends of words to get to their root form—called the stem.\n",
    "It’s like trimming a word down to its base so that similar words can be grouped together. For example:\n",
    "**- \"running\", \"runs\", and \"ran\" → all become \"run\"\n",
    "- \"happily\", \"happiness\" → might become \"happi\"\n",
    "⚠️ Stems aren’t always real words. They’re just consistent roots used for analysis.\n",
    "\n",
    "This helps computers understand that different forms of a word mean the same thing—useful for search engines, text analysis, and machine learning.\n",
    "\n",
    "DISADVANTAGE - \n",
    "One big disadvantage could be, sometimes words get converted into stems which dont make sense\n",
    "congratulation-->congratu\n",
    "\n",
    "🌨️ Snowball Stemmer\n",
    "- Think of Snowball as a smarter version of Porter.\n",
    "- It trims words to their root form, like “running” → “run”.\n",
    "- It’s more accurate and works in many languages.\n",
    "- Good balance between speed and precision.\n",
    "👍 Best for: General use when you want clean, reliable stems.\n",
    "\n",
    "🧵 RegexStemmer\n",
    "- This one uses custom rules you write with patterns (called regex).\n",
    "- Example: You can tell it to remove “ing”, “ed”, or “s” from the end of words.\n",
    "- Super flexible, but not smart—it only does what you tell it.\n",
    "👍 Best for: Simple tasks or experiments where you want full control.\n",
    "\n",
    "🧓 Porter Stemmer\n",
    "- One of the oldest and most popular stemmers.\n",
    "- It uses rules to chop off word endings.\n",
    "- Fast and lightweight, but sometimes cuts too much (e.g. “relational” → “relat”).\n",
    "👍 Best for: Quick and basic text processing\n",
    "\n",
    "\n",
    "\n",
    "</strong>\n",
    "</p>"
   ]
  },
  {
   "cell_type": "code",
   "execution_count": 14,
   "id": "04bfa0a9-e85b-47a7-8090-895f92cf36c8",
   "metadata": {},
   "outputs": [],
   "source": [
    "test_words = [\n",
    "    \"running\", \"runner\", \"ran\", \"runs\",\n",
    "    \"happiness\", \"happy\", \"happily\",\n",
    "    \"studies\", \"studying\", \"studied\", \"study\",\n",
    "    \"flies\", \"flying\", \"flew\", \"fly\",\n",
    "    \"better\", \"best\", \"good\",\n",
    "    \"organization\", \"organize\", \"organized\", \"organizing\",\n",
    "    \"national\", \"nation\", \"nationalism\",\n",
    "    \"playing\", \"played\", \"play\",\n",
    "    \"cats\", \"catlike\", \"cat\",\n",
    "    \"swimming\", \"swimmer\", \"swim\",\n",
    "    \"easily\", \"ease\", \"eased\", \"easing\",\n",
    "    \"agreement\", \"agree\", \"agreed\", \"agreeing\"\n",
    "]\n"
   ]
  },
  {
   "cell_type": "markdown",
   "id": "9a060f52-bfe4-464c-8ceb-9c88f93c3148",
   "metadata": {},
   "source": [
    "## PortStemmer"
   ]
  },
  {
   "cell_type": "code",
   "execution_count": 15,
   "id": "5cab1ba3-70ef-4ee6-aac2-624441674124",
   "metadata": {},
   "outputs": [
    {
     "name": "stdout",
     "output_type": "stream",
     "text": [
      "running---->run\n",
      "runner---->runner\n",
      "ran---->ran\n",
      "runs---->run\n",
      "happiness---->happi\n",
      "happy---->happi\n",
      "happily---->happili\n",
      "studies---->studi\n",
      "studying---->studi\n",
      "studied---->studi\n",
      "study---->studi\n",
      "flies---->fli\n",
      "flying---->fli\n",
      "flew---->flew\n",
      "fly---->fli\n",
      "better---->better\n",
      "best---->best\n",
      "good---->good\n",
      "organization---->organ\n",
      "organize---->organ\n",
      "organized---->organ\n",
      "organizing---->organ\n",
      "national---->nation\n",
      "nation---->nation\n",
      "nationalism---->nation\n",
      "playing---->play\n",
      "played---->play\n",
      "play---->play\n",
      "cats---->cat\n",
      "catlike---->catlik\n",
      "cat---->cat\n",
      "swimming---->swim\n",
      "swimmer---->swimmer\n",
      "swim---->swim\n",
      "easily---->easili\n",
      "ease---->eas\n",
      "eased---->eas\n",
      "easing---->eas\n",
      "agreement---->agreement\n",
      "agree---->agre\n",
      "agreed---->agre\n",
      "agreeing---->agre\n"
     ]
    }
   ],
   "source": [
    "from nltk.stem import PorterStemmer\n",
    "portstemmer = PorterStemmer()\n",
    "\n",
    "for word in test_words:\n",
    "    print(word+\"---->\"+portstemmer.stem(word))\n"
   ]
  },
  {
   "cell_type": "code",
   "execution_count": 16,
   "id": "1c96170d-6587-47ac-9f06-84d6158deadf",
   "metadata": {},
   "outputs": [
    {
     "data": {
      "text/plain": [
       "'congratul'"
      ]
     },
     "execution_count": 16,
     "metadata": {},
     "output_type": "execute_result"
    }
   ],
   "source": [
    "portstemmer.stem(\"congratulation\")"
   ]
  },
  {
   "cell_type": "markdown",
   "id": "7b2ed512-aff6-4be2-9bda-8bebd29cbff2",
   "metadata": {},
   "source": [
    "## RegexpStemmer class\n",
    "Takes a regex"
   ]
  },
  {
   "cell_type": "code",
   "execution_count": 17,
   "id": "10a244b6-e4bc-4745-928e-6de73efa3eef",
   "metadata": {},
   "outputs": [],
   "source": [
    "from nltk.stem import RegexpStemmer\n",
    "\n",
    "RegexpStem = RegexpStemmer(\"(ing|ed|s)$\")"
   ]
  },
  {
   "cell_type": "code",
   "execution_count": 18,
   "id": "5311f787-852d-49f9-a926-803e03484c66",
   "metadata": {},
   "outputs": [
    {
     "data": {
      "text/plain": [
       "'eat'"
      ]
     },
     "execution_count": 18,
     "metadata": {},
     "output_type": "execute_result"
    }
   ],
   "source": [
    "RegexpStem.stem(\"eating\")"
   ]
  },
  {
   "cell_type": "code",
   "execution_count": 19,
   "id": "e0b8c454-308e-4fee-bd1b-207355f3074e",
   "metadata": {},
   "outputs": [
    {
     "data": {
      "text/plain": [
       "'want'"
      ]
     },
     "execution_count": 19,
     "metadata": {},
     "output_type": "execute_result"
    }
   ],
   "source": [
    "RegexpStem.stem(\"wanted\")"
   ]
  },
  {
   "cell_type": "code",
   "execution_count": 20,
   "id": "5673c806-5ade-47b5-8ddf-0918b9b73ff0",
   "metadata": {},
   "outputs": [
    {
     "data": {
      "text/plain": [
       "'ingeat'"
      ]
     },
     "execution_count": 20,
     "metadata": {},
     "output_type": "execute_result"
    }
   ],
   "source": [
    "RegexpStem.stem(\"ingeating\")"
   ]
  },
  {
   "cell_type": "code",
   "execution_count": 21,
   "id": "bc7e2a9b-57b7-4144-9a11-e18f3f8fb5c9",
   "metadata": {},
   "outputs": [
    {
     "data": {
      "text/plain": [
       "'eat'"
      ]
     },
     "execution_count": 21,
     "metadata": {},
     "output_type": "execute_result"
    }
   ],
   "source": [
    "RegexpStem.stem(\"eats\")"
   ]
  },
  {
   "cell_type": "markdown",
   "id": "0b874c5f-953e-402c-b07b-980a3812c880",
   "metadata": {},
   "source": [
    "## Snowballstemmer"
   ]
  },
  {
   "cell_type": "code",
   "execution_count": 22,
   "id": "6b0c6268-aabc-4101-bdc8-308ba678bc33",
   "metadata": {},
   "outputs": [],
   "source": [
    "from nltk.stem import SnowballStemmer\n",
    "\n",
    "SnowballStemmer = SnowballStemmer(\"english\")"
   ]
  },
  {
   "cell_type": "code",
   "execution_count": 23,
   "id": "467f1b08-16b8-4c33-b96f-522f026d8a16",
   "metadata": {},
   "outputs": [
    {
     "name": "stdout",
     "output_type": "stream",
     "text": [
      "running--------->run\n",
      "runner--------->runner\n",
      "ran--------->ran\n",
      "runs--------->run\n",
      "happiness--------->happi\n",
      "happy--------->happi\n",
      "happily--------->happili\n",
      "studies--------->studi\n",
      "studying--------->studi\n",
      "studied--------->studi\n",
      "study--------->studi\n",
      "flies--------->fli\n",
      "flying--------->fli\n",
      "flew--------->flew\n",
      "fly--------->fli\n",
      "better--------->better\n",
      "best--------->best\n",
      "good--------->good\n",
      "organization--------->organ\n",
      "organize--------->organ\n",
      "organized--------->organ\n",
      "organizing--------->organ\n",
      "national--------->nation\n",
      "nation--------->nation\n",
      "nationalism--------->nation\n",
      "playing--------->play\n",
      "played--------->play\n",
      "play--------->play\n",
      "cats--------->cat\n",
      "catlike--------->catlik\n",
      "cat--------->cat\n",
      "swimming--------->swim\n",
      "swimmer--------->swimmer\n",
      "swim--------->swim\n",
      "easily--------->easili\n",
      "ease--------->eas\n",
      "eased--------->eas\n",
      "easing--------->eas\n",
      "agreement--------->agreement\n",
      "agree--------->agre\n",
      "agreed--------->agre\n",
      "agreeing--------->agre\n"
     ]
    }
   ],
   "source": [
    "for word in test_words:\n",
    "    print(word+\"--------->\"+SnowballStemmer.stem(word))"
   ]
  },
  {
   "cell_type": "markdown",
   "id": "697b88aa-99f7-4eae-a4b2-5ea3ede8dddb",
   "metadata": {},
   "source": [
    "## For both in Porter and Snowball, both give a lot of wrong words but Snowball is a little better compared to Porter."
   ]
  },
  {
   "cell_type": "code",
   "execution_count": 24,
   "id": "18e31762-3c8f-4f5b-bd7f-65b4cf917613",
   "metadata": {},
   "outputs": [
    {
     "data": {
      "text/plain": [
       "('fair', 'sport')"
      ]
     },
     "execution_count": 24,
     "metadata": {},
     "output_type": "execute_result"
    }
   ],
   "source": [
    "SnowballStemmer.stem(\"fairly\"),SnowballStemmer.stem(\"sportingly\")"
   ]
  },
  {
   "cell_type": "code",
   "execution_count": 25,
   "id": "4b8858b5-e030-40d4-90a8-8d8af294b273",
   "metadata": {},
   "outputs": [
    {
     "data": {
      "text/plain": [
       "('fairli', 'sportingli')"
      ]
     },
     "execution_count": 25,
     "metadata": {},
     "output_type": "execute_result"
    }
   ],
   "source": [
    "portstemmer.stem(\"fairly\"),portstemmer.stem(\"sportingly\")"
   ]
  },
  {
   "cell_type": "code",
   "execution_count": 26,
   "id": "5448c80f-12ec-4a9d-aab3-76ff1a0e02bd",
   "metadata": {},
   "outputs": [
    {
     "data": {
      "text/plain": [
       "('goe', 'goe')"
      ]
     },
     "execution_count": 26,
     "metadata": {},
     "output_type": "execute_result"
    }
   ],
   "source": [
    "SnowballStemmer.stem(\"goes\"),portstemmer.stem(\"goes\")"
   ]
  },
  {
   "cell_type": "markdown",
   "id": "f5defaf5-bfd2-4f71-bd13-c016fbfe9339",
   "metadata": {},
   "source": [
    "<p><strong>\n",
    "Lemmatization is the process of reducing a word to its base or dictionary form, called a \"lemma\". It looks at the meaning and part of speech of the word to find the correct root. For example, \"running\", \"ran\", and \"runs\" all become \"run\" — which is a real word.\n",
    "\n",
    "Stemming also reduces words to a root form, but it does so by chopping off endings using simple rules. It doesn’t care if the result is a real word. For example, \"running\" might become \"runn\", and \"happiness\" might become \"happi\".\n",
    "\n",
    "So, the key difference is:\n",
    "• Lemmatization gives you proper words (like \"run\", \"happy\").\n",
    "• Stemming gives you rough roots (like \"runn\", \"happi\").\n",
    "\n",
    "Lemmatization is smarter and more accurate, but slower. Stemming is faster and simpler, but less precise.\n",
    "</strong></p>\n",
    "\n",
    "<p><strong>\n",
    "<b>1. WordNetLemmatizer:</b><br>\n",
    "This is a class in NLTK that performs lemmatization using the WordNet lexical database. It reduces words to their base form (lemma) by checking their meaning and part of speech. For example, \"better\" becomes \"good\" because WordNet knows their semantic relationship.\n",
    "\n",
    "<b>2. WordNet Corpus:</b><br>\n",
    "WordNet is a large lexical database of English. It groups words into sets of synonyms called \"synsets\", provides definitions, and shows relationships like hypernyms (more general terms) and hyponyms (more specific terms). The lemmatizer uses this database to find the correct lemma for a word.\n",
    "\n",
    "<b>3. morphy():</b><br>\n",
    "This is a function inside WordNet that tries to find the base form of a word by applying morphological rules. For example, it strips suffixes like \"ing\", \"ed\", \"s\" and checks if the resulting word exists in WordNet. If it does, it returns that as the lemma. If not, it tries other rules.\n",
    "\n",
    "<b>4. CorpusReader Class:</b><br>\n",
    "This is a general-purpose class in NLTK used to read and manage large text corpora. It allows you to access texts, words, sentences, and tagged data from corpora like WordNet. The WordNetCorpusReader is a specific version that reads WordNet data and powers the lemmatizer and morphy().\n",
    "\n",
    "<b>Behind the Scenes:</b><br>\n",
    "When you call <code>WordNetLemmatizer().lemmatize(\"running\", pos=\"v\")</code>, here's what happens:\n",
    "<ul>\n",
    "<li>The lemmatizer checks if the word is a verb (because you passed pos=\"v\").</li>\n",
    "<li>It calls <code>morphy(\"running\", \"v\")</code> to try and find the base form.</li>\n",
    "<li><code>morphy()</code> applies rules like removing \"ing\" → \"run\".</li>\n",
    "<li>It checks if \"run\" exists in WordNet as a verb using the WordNetCorpusReader.</li>\n",
    "<li>If it does, \"run\" is returned as the lemma.</li>\n",
    "</ul>\n",
    "\n",
    "<b>Summary:</b><br>\n",
    "WordNetLemmatizer is the tool, WordNet is the brain, morphy() is the rule engine, and CorpusReader is the data loader. Together, they make lemmatization smart and linguistically accurate.\n",
    "</strong></p>"
   ]
  },
  {
   "cell_type": "code",
   "execution_count": 27,
   "id": "faf5f835-c943-4f76-8268-e8f6ba724f09",
   "metadata": {},
   "outputs": [
    {
     "name": "stderr",
     "output_type": "stream",
     "text": [
      "[nltk_data] Downloading package wordnet to\n",
      "[nltk_data]     C:\\Users\\Kunal.Chugriya\\AppData\\Roaming\\nltk_data...\n",
      "[nltk_data]   Package wordnet is already up-to-date!\n"
     ]
    },
    {
     "data": {
      "text/plain": [
       "True"
      ]
     },
     "execution_count": 27,
     "metadata": {},
     "output_type": "execute_result"
    }
   ],
   "source": [
    "from nltk.stem import WordNetLemmatizer\n",
    "\n",
    "WordNetLemmatizer = WordNetLemmatizer() ## by default considers every word to be noun\n",
    "\n",
    "nltk.download('wordnet')"
   ]
  },
  {
   "cell_type": "code",
   "execution_count": 28,
   "id": "cd06df62-61fc-4c09-8270-ad2c5c9e1c54",
   "metadata": {},
   "outputs": [
    {
     "name": "stdout",
     "output_type": "stream",
     "text": [
      "running--------->running\n",
      "runner--------->runner\n",
      "ran--------->ran\n",
      "runs--------->run\n",
      "happiness--------->happiness\n",
      "happy--------->happy\n",
      "happily--------->happily\n",
      "studies--------->study\n",
      "studying--------->studying\n",
      "studied--------->studied\n",
      "study--------->study\n",
      "flies--------->fly\n",
      "flying--------->flying\n",
      "flew--------->flew\n",
      "fly--------->fly\n",
      "better--------->better\n",
      "best--------->best\n",
      "good--------->good\n",
      "organization--------->organization\n",
      "organize--------->organize\n",
      "organized--------->organized\n",
      "organizing--------->organizing\n",
      "national--------->national\n",
      "nation--------->nation\n",
      "nationalism--------->nationalism\n",
      "playing--------->playing\n",
      "played--------->played\n",
      "play--------->play\n",
      "cats--------->cat\n",
      "catlike--------->catlike\n",
      "cat--------->cat\n",
      "swimming--------->swimming\n",
      "swimmer--------->swimmer\n",
      "swim--------->swim\n",
      "easily--------->easily\n",
      "ease--------->ease\n",
      "eased--------->eased\n",
      "easing--------->easing\n",
      "agreement--------->agreement\n",
      "agree--------->agree\n",
      "agreed--------->agreed\n",
      "agreeing--------->agreeing\n"
     ]
    }
   ],
   "source": [
    "for word in test_words:\n",
    "    print(word+\"--------->\"+WordNetLemmatizer.lemmatize(word))"
   ]
  },
  {
   "cell_type": "code",
   "execution_count": 29,
   "id": "2d9ff98f-48b9-4cb9-a6a9-4f84778617d8",
   "metadata": {
    "scrolled": true
   },
   "outputs": [
    {
     "name": "stdout",
     "output_type": "stream",
     "text": [
      "running--------->run\n",
      "runner--------->runner\n",
      "ran--------->run\n",
      "runs--------->run\n",
      "happiness--------->happiness\n",
      "happy--------->happy\n",
      "happily--------->happily\n",
      "studies--------->study\n",
      "studying--------->study\n",
      "studied--------->study\n",
      "study--------->study\n",
      "flies--------->fly\n",
      "flying--------->fly\n",
      "flew--------->fly\n",
      "fly--------->fly\n",
      "better--------->better\n",
      "best--------->best\n",
      "good--------->good\n",
      "organization--------->organization\n",
      "organize--------->organize\n",
      "organized--------->organize\n",
      "organizing--------->organize\n",
      "national--------->national\n",
      "nation--------->nation\n",
      "nationalism--------->nationalism\n",
      "playing--------->play\n",
      "played--------->play\n",
      "play--------->play\n",
      "cats--------->cat\n",
      "catlike--------->catlike\n",
      "cat--------->cat\n",
      "swimming--------->swim\n",
      "swimmer--------->swimmer\n",
      "swim--------->swim\n",
      "easily--------->easily\n",
      "ease--------->ease\n",
      "eased--------->ease\n",
      "easing--------->ease\n",
      "agreement--------->agreement\n",
      "agree--------->agree\n",
      "agreed--------->agree\n",
      "agreeing--------->agree\n"
     ]
    }
   ],
   "source": [
    "for word in test_words:\n",
    "    print(word+\"--------->\"+WordNetLemmatizer.lemmatize(word,pos='v'))"
   ]
  },
  {
   "cell_type": "markdown",
   "id": "8f76f279-394f-4fbf-bc2a-d013cb6994bc",
   "metadata": {},
   "source": [
    "<p><strong>\n",
    "<b>🔍 Stemming vs. Lemmatization</b><br><br>\n",
    "\n",
    "<b>1. Stemming:</b><br>\n",
    "Stemming is a rule-based process that chops off word endings to get to the root form. It doesn’t care if the result is a valid word.<br>\n",
    "Example: \"running\" → \"runn\", \"happiness\" → \"happi\"<br><br>\n",
    "\n",
    "<b>Pros:</b><br>\n",
    "• Fast and simple<br>\n",
    "• Useful for quick-and-dirty text preprocessing<br>\n",
    "• Works well when perfect accuracy isn’t needed<br><br>\n",
    "\n",
    "<b>Cons:</b><br>\n",
    "• Often produces non-words<br>\n",
    "• Can reduce meaning and context<br>\n",
    "• May lead to mismatches (e.g., \"university\" and \"universe\" both → \"univers\")<br><br>\n",
    "\n",
    "<b>2. Lemmatization:</b><br>\n",
    "Lemmatization uses vocabulary and grammar rules to return the base form of a word (called a lemma). It considers the word’s part of speech and meaning.<br>\n",
    "Example: \"running\", \"ran\", \"runs\" → \"run\"<br><br>\n",
    "\n",
    "<b>Pros:</b><br>\n",
    "• Produces valid dictionary words<br>\n",
    "• More accurate and meaningful<br>\n",
    "• Preserves linguistic context<br><br>\n",
    "\n",
    "<b>Cons:</b><br>\n",
    "• Slower and more computationally expensive<br>\n",
    "• Requires part-of-speech tagging for best results<br><br>\n",
    "\n",
    "<b>🧠 When to Use Which:</b><br>\n",
    "• Use <b>stemming</b> when speed matters more than precision — like in search engines or large-scale indexing.<br>\n",
    "• Use <b>lemmatization</b> when accuracy and meaning are important — like in NLP tasks, sentiment analysis, or chatbot development.<br><br>\n",
    "\n",
    "<b>Summary:</b><br>\n",
    "Stemming is like trimming branches with a machete. Lemmatization is like pruning with surgical scissors. Choose based on your task’s needs!\n",
    "</strong></p>"
   ]
  },
  {
   "cell_type": "markdown",
   "id": "d06ef6c5-d56f-4f33-bba5-23bd23246712",
   "metadata": {},
   "source": [
    "<p><strong>\n",
    "<b>🛑 What Are Stopwords?</b><br><br>\n",
    "\n",
    "Stopwords are common words in a language that carry little meaningful information on their own. Examples include: \"the\", \"is\", \"in\", \"and\", \"of\", \"to\", \"a\". These words are used frequently in sentences but don’t help much when analyzing the core meaning of the text.<br><br>\n",
    "\n",
    "<b>💡 Why Remove Stopwords?</b><br>\n",
    "In Natural Language Processing (NLP), we often remove stopwords to focus on the important words that carry meaning. For example, in the sentence \"The cat is sleeping on the mat\", the key words are \"cat\", \"sleeping\", and \"mat\". Removing stopwords helps reduce noise and improves performance in tasks like text classification, sentiment analysis, and search engines.<br><br>\n",
    "\n",
    "<b>📦 Where Do Stopwords Come From?</b><br>\n",
    "Libraries like NLTK provide built-in lists of stopwords for different languages. You can access them using:<br>\n",
    "<code>from nltk.corpus import stopwords</code><br>\n",
    "<code>stopwords.words('english')</code><br><br>\n",
    "\n",
    "<b>🧠 Customizing Stopwords:</b><br>\n",
    "You can add or remove words from the default list depending on your project. For example, in a medical context, words like \"patient\" or \"treatment\" might be too common and treated as stopwords.<br><br>\n",
    "\n",
    "<b>⚖️ Should You Always Remove Them?</b><br>\n",
    "Not always! In some tasks like translation or grammar correction, stopwords are essential. So, whether to remove them depends on your goal.<br><br>\n",
    "\n",
    "<b>Summary:</b><br>\n",
    "Stopwords are filler words that we often remove to focus on the meaningful parts of text. They help clean up data and make NLP models more efficient.\n",
    "</strong></p>\n"
   ]
  },
  {
   "cell_type": "code",
   "execution_count": 30,
   "id": "83b801e3-8c47-41ae-b21b-c2c0374ca1bc",
   "metadata": {},
   "outputs": [
    {
     "name": "stderr",
     "output_type": "stream",
     "text": [
      "[nltk_data] Downloading package stopwords to\n",
      "[nltk_data]     C:\\Users\\Kunal.Chugriya\\AppData\\Roaming\\nltk_data...\n",
      "[nltk_data]   Package stopwords is already up-to-date!\n"
     ]
    },
    {
     "data": {
      "text/plain": [
       "True"
      ]
     },
     "execution_count": 30,
     "metadata": {},
     "output_type": "execute_result"
    }
   ],
   "source": [
    "from nltk.stem import PorterStemmer\n",
    "from nltk.corpus import stopwords\n",
    "nltk.download(\"stopwords\")"
   ]
  },
  {
   "cell_type": "code",
   "execution_count": 31,
   "id": "7d55f752-96da-4fb7-a76a-bb3e51d887d9",
   "metadata": {},
   "outputs": [],
   "source": [
    "english_stopwords = stopwords.words(\"english\")"
   ]
  },
  {
   "cell_type": "code",
   "execution_count": 32,
   "id": "18ee192d-1e4d-4169-ac8b-a0c5db8d4651",
   "metadata": {},
   "outputs": [
    {
     "data": {
      "text/plain": [
       "['a',\n",
       " 'about',\n",
       " 'above',\n",
       " 'after',\n",
       " 'again',\n",
       " 'against',\n",
       " 'ain',\n",
       " 'all',\n",
       " 'am',\n",
       " 'an',\n",
       " 'and',\n",
       " 'any',\n",
       " 'are',\n",
       " 'aren',\n",
       " \"aren't\",\n",
       " 'as',\n",
       " 'at',\n",
       " 'be',\n",
       " 'because',\n",
       " 'been',\n",
       " 'before',\n",
       " 'being',\n",
       " 'below',\n",
       " 'between',\n",
       " 'both',\n",
       " 'but',\n",
       " 'by',\n",
       " 'can',\n",
       " 'couldn',\n",
       " \"couldn't\",\n",
       " 'd',\n",
       " 'did',\n",
       " 'didn',\n",
       " \"didn't\",\n",
       " 'do',\n",
       " 'does',\n",
       " 'doesn',\n",
       " \"doesn't\",\n",
       " 'doing',\n",
       " 'don',\n",
       " \"don't\",\n",
       " 'down',\n",
       " 'during',\n",
       " 'each',\n",
       " 'few',\n",
       " 'for',\n",
       " 'from',\n",
       " 'further',\n",
       " 'had',\n",
       " 'hadn',\n",
       " \"hadn't\",\n",
       " 'has',\n",
       " 'hasn',\n",
       " \"hasn't\",\n",
       " 'have',\n",
       " 'haven',\n",
       " \"haven't\",\n",
       " 'having',\n",
       " 'he',\n",
       " \"he'd\",\n",
       " \"he'll\",\n",
       " 'her',\n",
       " 'here',\n",
       " 'hers',\n",
       " 'herself',\n",
       " \"he's\",\n",
       " 'him',\n",
       " 'himself',\n",
       " 'his',\n",
       " 'how',\n",
       " 'i',\n",
       " \"i'd\",\n",
       " 'if',\n",
       " \"i'll\",\n",
       " \"i'm\",\n",
       " 'in',\n",
       " 'into',\n",
       " 'is',\n",
       " 'isn',\n",
       " \"isn't\",\n",
       " 'it',\n",
       " \"it'd\",\n",
       " \"it'll\",\n",
       " \"it's\",\n",
       " 'its',\n",
       " 'itself',\n",
       " \"i've\",\n",
       " 'just',\n",
       " 'll',\n",
       " 'm',\n",
       " 'ma',\n",
       " 'me',\n",
       " 'mightn',\n",
       " \"mightn't\",\n",
       " 'more',\n",
       " 'most',\n",
       " 'mustn',\n",
       " \"mustn't\",\n",
       " 'my',\n",
       " 'myself',\n",
       " 'needn',\n",
       " \"needn't\",\n",
       " 'no',\n",
       " 'nor',\n",
       " 'not',\n",
       " 'now',\n",
       " 'o',\n",
       " 'of',\n",
       " 'off',\n",
       " 'on',\n",
       " 'once',\n",
       " 'only',\n",
       " 'or',\n",
       " 'other',\n",
       " 'our',\n",
       " 'ours',\n",
       " 'ourselves',\n",
       " 'out',\n",
       " 'over',\n",
       " 'own',\n",
       " 're',\n",
       " 's',\n",
       " 'same',\n",
       " 'shan',\n",
       " \"shan't\",\n",
       " 'she',\n",
       " \"she'd\",\n",
       " \"she'll\",\n",
       " \"she's\",\n",
       " 'should',\n",
       " 'shouldn',\n",
       " \"shouldn't\",\n",
       " \"should've\",\n",
       " 'so',\n",
       " 'some',\n",
       " 'such',\n",
       " 't',\n",
       " 'than',\n",
       " 'that',\n",
       " \"that'll\",\n",
       " 'the',\n",
       " 'their',\n",
       " 'theirs',\n",
       " 'them',\n",
       " 'themselves',\n",
       " 'then',\n",
       " 'there',\n",
       " 'these',\n",
       " 'they',\n",
       " \"they'd\",\n",
       " \"they'll\",\n",
       " \"they're\",\n",
       " \"they've\",\n",
       " 'this',\n",
       " 'those',\n",
       " 'through',\n",
       " 'to',\n",
       " 'too',\n",
       " 'under',\n",
       " 'until',\n",
       " 'up',\n",
       " 've',\n",
       " 'very',\n",
       " 'was',\n",
       " 'wasn',\n",
       " \"wasn't\",\n",
       " 'we',\n",
       " \"we'd\",\n",
       " \"we'll\",\n",
       " \"we're\",\n",
       " 'were',\n",
       " 'weren',\n",
       " \"weren't\",\n",
       " \"we've\",\n",
       " 'what',\n",
       " 'when',\n",
       " 'where',\n",
       " 'which',\n",
       " 'while',\n",
       " 'who',\n",
       " 'whom',\n",
       " 'why',\n",
       " 'will',\n",
       " 'with',\n",
       " 'won',\n",
       " \"won't\",\n",
       " 'wouldn',\n",
       " \"wouldn't\",\n",
       " 'y',\n",
       " 'you',\n",
       " \"you'd\",\n",
       " \"you'll\",\n",
       " 'your',\n",
       " \"you're\",\n",
       " 'yours',\n",
       " 'yourself',\n",
       " 'yourselves',\n",
       " \"you've\"]"
      ]
     },
     "execution_count": 32,
     "metadata": {},
     "output_type": "execute_result"
    }
   ],
   "source": [
    "english_stopwords"
   ]
  },
  {
   "cell_type": "code",
   "execution_count": 33,
   "id": "963525f1-d43d-46f1-81cd-c4d1c78c84af",
   "metadata": {},
   "outputs": [
    {
     "data": {
      "text/plain": [
       "['au',\n",
       " 'aux',\n",
       " 'avec',\n",
       " 'ce',\n",
       " 'ces',\n",
       " 'dans',\n",
       " 'de',\n",
       " 'des',\n",
       " 'du',\n",
       " 'elle',\n",
       " 'en',\n",
       " 'et',\n",
       " 'eux',\n",
       " 'il',\n",
       " 'ils',\n",
       " 'je',\n",
       " 'la',\n",
       " 'le',\n",
       " 'les',\n",
       " 'leur',\n",
       " 'lui',\n",
       " 'ma',\n",
       " 'mais',\n",
       " 'me',\n",
       " 'même',\n",
       " 'mes',\n",
       " 'moi',\n",
       " 'mon',\n",
       " 'ne',\n",
       " 'nos',\n",
       " 'notre',\n",
       " 'nous',\n",
       " 'on',\n",
       " 'ou',\n",
       " 'par',\n",
       " 'pas',\n",
       " 'pour',\n",
       " 'qu',\n",
       " 'que',\n",
       " 'qui',\n",
       " 'sa',\n",
       " 'se',\n",
       " 'ses',\n",
       " 'son',\n",
       " 'sur',\n",
       " 'ta',\n",
       " 'te',\n",
       " 'tes',\n",
       " 'toi',\n",
       " 'ton',\n",
       " 'tu',\n",
       " 'un',\n",
       " 'une',\n",
       " 'vos',\n",
       " 'votre',\n",
       " 'vous',\n",
       " 'c',\n",
       " 'd',\n",
       " 'j',\n",
       " 'l',\n",
       " 'à',\n",
       " 'm',\n",
       " 'n',\n",
       " 's',\n",
       " 't',\n",
       " 'y',\n",
       " 'été',\n",
       " 'étée',\n",
       " 'étées',\n",
       " 'étés',\n",
       " 'étant',\n",
       " 'étante',\n",
       " 'étants',\n",
       " 'étantes',\n",
       " 'suis',\n",
       " 'es',\n",
       " 'est',\n",
       " 'sommes',\n",
       " 'êtes',\n",
       " 'sont',\n",
       " 'serai',\n",
       " 'seras',\n",
       " 'sera',\n",
       " 'serons',\n",
       " 'serez',\n",
       " 'seront',\n",
       " 'serais',\n",
       " 'serait',\n",
       " 'serions',\n",
       " 'seriez',\n",
       " 'seraient',\n",
       " 'étais',\n",
       " 'était',\n",
       " 'étions',\n",
       " 'étiez',\n",
       " 'étaient',\n",
       " 'fus',\n",
       " 'fut',\n",
       " 'fûmes',\n",
       " 'fûtes',\n",
       " 'furent',\n",
       " 'sois',\n",
       " 'soit',\n",
       " 'soyons',\n",
       " 'soyez',\n",
       " 'soient',\n",
       " 'fusse',\n",
       " 'fusses',\n",
       " 'fût',\n",
       " 'fussions',\n",
       " 'fussiez',\n",
       " 'fussent',\n",
       " 'ayant',\n",
       " 'ayante',\n",
       " 'ayantes',\n",
       " 'ayants',\n",
       " 'eu',\n",
       " 'eue',\n",
       " 'eues',\n",
       " 'eus',\n",
       " 'ai',\n",
       " 'as',\n",
       " 'avons',\n",
       " 'avez',\n",
       " 'ont',\n",
       " 'aurai',\n",
       " 'auras',\n",
       " 'aura',\n",
       " 'aurons',\n",
       " 'aurez',\n",
       " 'auront',\n",
       " 'aurais',\n",
       " 'aurait',\n",
       " 'aurions',\n",
       " 'auriez',\n",
       " 'auraient',\n",
       " 'avais',\n",
       " 'avait',\n",
       " 'avions',\n",
       " 'aviez',\n",
       " 'avaient',\n",
       " 'eut',\n",
       " 'eûmes',\n",
       " 'eûtes',\n",
       " 'eurent',\n",
       " 'aie',\n",
       " 'aies',\n",
       " 'ait',\n",
       " 'ayons',\n",
       " 'ayez',\n",
       " 'aient',\n",
       " 'eusse',\n",
       " 'eusses',\n",
       " 'eût',\n",
       " 'eussions',\n",
       " 'eussiez',\n",
       " 'eussent']"
      ]
     },
     "execution_count": 33,
     "metadata": {},
     "output_type": "execute_result"
    }
   ],
   "source": [
    "stopwords.words(\"french\")"
   ]
  },
  {
   "cell_type": "code",
   "execution_count": 34,
   "id": "2c4e4af9-274c-4359-bbf1-b5db1f509544",
   "metadata": {},
   "outputs": [],
   "source": [
    "## Below steps are executed. 1) Tokenize. 2) Take only those words which are not stopwords. 3) Apply different stemmers\n",
    "\n",
    "speech = \"\"\"I have three visions for India.\n",
    "\n",
    "In 3000 years of our history, people from all over the world have come and invaded us, captured our lands, conquered our minds. From Alexander onwards, the Greeks, the Turks, the Mughals, the Portuguese, the British, the French, the Dutch—all of them came and looted us, took over what was ours. Yet we have not done this to any other nation. We have not conquered anyone. We have not grabbed their land, their culture, and their history and tried to enforce our way of life on them. Why? Because we respect the freedom of others.\n",
    "\n",
    "That is why my first vision is that of FREEDOM. I believe that India got its first vision of this in 1857, when we started the war of Independence. It is this freedom that we must protect and nurture and build on. If we are not free, no one will respect us.\n",
    "\n",
    "My second vision for India is DEVELOPMENT. For fifty years we have been a developing nation. It is time we see ourselves as a developed nation. We are among the top five nations in the world in terms of GDP. We have 10 percent growth rate in most areas. Our poverty levels are falling. Our achievements are being globally recognized today. Yet we lack the self-confidence to see ourselves as a developed nation, self-reliant and self-assured. Isn’t this incorrect?\n",
    "\n",
    "I have a third vision. India must stand up to the world. Because I believe that unless India stands up to the world, no one will respect us. Only strength respects strength. We must be strong not only as a military power but also as an economic power. Both must go hand-in-hand.\n",
    "\n",
    "My good fortune was to have worked with three great minds—Dr. Vikram Sarabhai of the Department of Space, Professor Satish Dhawan who succeeded him, and Dr. Brahm Prakash, father of nuclear material. I was lucky to have worked with all three of them closely and consider this the great opportunity of my life.\n",
    "\n",
    "I was in Hyderabad giving this lecture, when a 14-year-old girl asked me for my autograph. I asked her what her goal in life is. She replied: “I want to live in a developed India.” For her, you and I will have to build this developed India.\n",
    "\n",
    "You must proclaim: India is not an underdeveloped nation; it is a highly developed nation.\n",
    "\n",
    "You say that our government is inefficient. You say that our laws are too old. You say that the municipality does not pick up the garbage. You say that the phones don’t work, the railways are a joke, the airline is the worst in the world, and mails never reach their destination. You say that our country has been fed to the dogs and is the absolute pits.\n",
    "\n",
    "You say, say and say. What do you do about it?\n",
    "\n",
    "Dear Indians, I am echoing J.F. Kennedy’s words to his fellow Americans: “Ask not what your country can do for you. Ask what you can do for your country.”\"\"\"\n",
    "\n",
    "from nltk.tokenize import sent_tokenize\n",
    "\n",
    "documents = nltk.sent_tokenize(speech)\n"
   ]
  },
  {
   "cell_type": "code",
   "execution_count": 35,
   "id": "9a32c3ef-ca88-4cbe-94d5-df5d2dd96b2a",
   "metadata": {},
   "outputs": [
    {
     "data": {
      "text/plain": [
       "['I have three visions for India.',\n",
       " 'In 3000 years of our history, people from all over the world have come and invaded us, captured our lands, conquered our minds.',\n",
       " 'From Alexander onwards, the Greeks, the Turks, the Mughals, the Portuguese, the British, the French, the Dutch—all of them came and looted us, took over what was ours.',\n",
       " 'Yet we have not done this to any other nation.',\n",
       " 'We have not conquered anyone.',\n",
       " 'We have not grabbed their land, their culture, and their history and tried to enforce our way of life on them.',\n",
       " 'Why?',\n",
       " 'Because we respect the freedom of others.',\n",
       " 'That is why my first vision is that of FREEDOM.',\n",
       " 'I believe that India got its first vision of this in 1857, when we started the war of Independence.',\n",
       " 'It is this freedom that we must protect and nurture and build on.',\n",
       " 'If we are not free, no one will respect us.',\n",
       " 'My second vision for India is DEVELOPMENT.',\n",
       " 'For fifty years we have been a developing nation.',\n",
       " 'It is time we see ourselves as a developed nation.',\n",
       " 'We are among the top five nations in the world in terms of GDP.',\n",
       " 'We have 10 percent growth rate in most areas.',\n",
       " 'Our poverty levels are falling.',\n",
       " 'Our achievements are being globally recognized today.',\n",
       " 'Yet we lack the self-confidence to see ourselves as a developed nation, self-reliant and self-assured.',\n",
       " 'Isn’t this incorrect?',\n",
       " 'I have a third vision.',\n",
       " 'India must stand up to the world.',\n",
       " 'Because I believe that unless India stands up to the world, no one will respect us.',\n",
       " 'Only strength respects strength.',\n",
       " 'We must be strong not only as a military power but also as an economic power.',\n",
       " 'Both must go hand-in-hand.',\n",
       " 'My good fortune was to have worked with three great minds—Dr.',\n",
       " 'Vikram Sarabhai of the Department of Space, Professor Satish Dhawan who succeeded him, and Dr. Brahm Prakash, father of nuclear material.',\n",
       " 'I was lucky to have worked with all three of them closely and consider this the great opportunity of my life.',\n",
       " 'I was in Hyderabad giving this lecture, when a 14-year-old girl asked me for my autograph.',\n",
       " 'I asked her what her goal in life is.',\n",
       " 'She replied: “I want to live in a developed India.” For her, you and I will have to build this developed India.',\n",
       " 'You must proclaim: India is not an underdeveloped nation; it is a highly developed nation.',\n",
       " 'You say that our government is inefficient.',\n",
       " 'You say that our laws are too old.',\n",
       " 'You say that the municipality does not pick up the garbage.',\n",
       " 'You say that the phones don’t work, the railways are a joke, the airline is the worst in the world, and mails never reach their destination.',\n",
       " 'You say that our country has been fed to the dogs and is the absolute pits.',\n",
       " 'You say, say and say.',\n",
       " 'What do you do about it?',\n",
       " 'Dear Indians, I am echoing J.F.',\n",
       " 'Kennedy’s words to his fellow Americans: “Ask not what your country can do for you.',\n",
       " 'Ask what you can do for your country.”']"
      ]
     },
     "execution_count": 35,
     "metadata": {},
     "output_type": "execute_result"
    }
   ],
   "source": [
    "documents"
   ]
  },
  {
   "cell_type": "code",
   "execution_count": 36,
   "id": "9a026f98-cc38-4805-a1a1-d1278bb8c344",
   "metadata": {},
   "outputs": [],
   "source": [
    "porterstem_result = []\n",
    "snowballstem_result=[]\n",
    "lemma_result=[]\n",
    "\n",
    "for i in range(len(documents)):\n",
    "    words = nltk.word_tokenize(documents[i])\n",
    "    porterstem_words= [portstemmer.stem(word) for word in words if word.lower() not in set(english_stopwords)]\n",
    "    snowballstem_words= [SnowballStemmer.stem(word) for word in words if word.lower() not in set(english_stopwords)]\n",
    "    lemma_words= [WordNetLemmatizer.lemmatize(word) for word in words if word.lower() not in set(english_stopwords)]\n",
    "    porterstem_result.append(' '.join(porterstem_words))  # Here assignment will fail as we can't assign the value at particular index in an empty list\n",
    "    snowballstem_result.append(' '.join(snowballstem_words))\n",
    "    lemma_result.append(' '.join(lemma_words))"
   ]
  },
  {
   "cell_type": "code",
   "execution_count": 37,
   "id": "f7170b9a-0bf5-4cb6-acac-683274984977",
   "metadata": {},
   "outputs": [
    {
     "name": "stdout",
     "output_type": "stream",
     "text": [
      "['three vision india .', '3000 year histori , peopl world come invad us , captur land , conquer mind .', 'alexand onward , greek , turk , mughal , portugues , british , french , dutch—al came loot us , took .', 'yet done nation .', 'conquer anyon .', 'grab land , cultur , histori tri enforc way life .', '?', 'respect freedom other .', 'first vision freedom .', 'believ india got first vision 1857 , start war independ .', 'freedom must protect nurtur build .', 'free , one respect us .', 'second vision india develop .', 'fifti year develop nation .', 'time see develop nation .', 'among top five nation world term gdp .', '10 percent growth rate area .', 'poverti level fall .', 'achiev global recogn today .', 'yet lack self-confid see develop nation , self-reli self-assur .', '’ incorrect ?', 'third vision .', 'india must stand world .', 'believ unless india stand world , one respect us .', 'strength respect strength .', 'must strong militari power also econom power .', 'must go hand-in-hand .', 'good fortun work three great minds—dr .', 'vikram sarabhai depart space , professor satish dhawan succeed , dr. brahm prakash , father nuclear materi .', 'lucki work three close consid great opportun life .', 'hyderabad give lectur , 14-year-old girl ask autograph .', 'ask goal life .', 'repli : “ want live develop india. ” , build develop india .', 'must proclaim : india underdevelop nation ; highli develop nation .', 'say govern ineffici .', 'say law old .', 'say municip pick garbag .', 'say phone ’ work , railway joke , airlin worst world , mail never reach destin .', 'say countri fed dog absolut pit .', 'say , say say .', '?', 'dear indian , echo j.f .', 'kennedi ’ word fellow american : “ ask countri .', 'ask countri . ”']\n"
     ]
    }
   ],
   "source": [
    "print(porterstem_result)"
   ]
  },
  {
   "cell_type": "code",
   "execution_count": 38,
   "id": "bb65b15c-e710-4c00-bc8c-576087575477",
   "metadata": {},
   "outputs": [
    {
     "name": "stdout",
     "output_type": "stream",
     "text": [
      "['three vision india .', '3000 year histori , peopl world come invad us , captur land , conquer mind .', 'alexand onward , greek , turk , mughal , portugues , british , french , dutch—al came loot us , took .', 'yet done nation .', 'conquer anyon .', 'grab land , cultur , histori tri enforc way life .', '?', 'respect freedom other .', 'first vision freedom .', 'believ india got first vision 1857 , start war independ .', 'freedom must protect nurtur build .', 'free , one respect us .', 'second vision india develop .', 'fifti year develop nation .', 'time see develop nation .', 'among top five nation world term gdp .', '10 percent growth rate area .', 'poverti level fall .', 'achiev global recogn today .', 'yet lack self-confid see develop nation , self-reli self-assur .', '’ incorrect ?', 'third vision .', 'india must stand world .', 'believ unless india stand world , one respect us .', 'strength respect strength .', 'must strong militari power also econom power .', 'must go hand-in-hand .', 'good fortun work three great minds—dr .', 'vikram sarabhai depart space , professor satish dhawan succeed , dr. brahm prakash , father nuclear materi .', 'lucki work three close consid great opportun life .', 'hyderabad give lectur , 14-year-old girl ask autograph .', 'ask goal life .', 'repli : “ want live develop india. ” , build develop india .', 'must proclaim : india underdevelop nation ; high develop nation .', 'say govern ineffici .', 'say law old .', 'say municip pick garbag .', 'say phone ’ work , railway joke , airlin worst world , mail never reach destin .', 'say countri fed dog absolut pit .', 'say , say say .', '?', 'dear indian , echo j.f .', 'kennedi ’ word fellow american : “ ask countri .', 'ask countri . ”']\n"
     ]
    }
   ],
   "source": [
    "print(snowballstem_result)"
   ]
  },
  {
   "cell_type": "code",
   "execution_count": 39,
   "id": "7ef3c57b-6a2b-44f2-aaa8-cd4f2fe8f40b",
   "metadata": {},
   "outputs": [
    {
     "name": "stdout",
     "output_type": "stream",
     "text": [
      "['three vision India .', '3000 year history , people world come invaded u , captured land , conquered mind .', 'Alexander onwards , Greeks , Turks , Mughals , Portuguese , British , French , Dutch—all came looted u , took .', 'Yet done nation .', 'conquered anyone .', 'grabbed land , culture , history tried enforce way life .', '?', 'respect freedom others .', 'first vision FREEDOM .', 'believe India got first vision 1857 , started war Independence .', 'freedom must protect nurture build .', 'free , one respect u .', 'second vision India DEVELOPMENT .', 'fifty year developing nation .', 'time see developed nation .', 'among top five nation world term GDP .', '10 percent growth rate area .', 'poverty level falling .', 'achievement globally recognized today .', 'Yet lack self-confidence see developed nation , self-reliant self-assured .', '’ incorrect ?', 'third vision .', 'India must stand world .', 'believe unless India stand world , one respect u .', 'strength respect strength .', 'must strong military power also economic power .', 'must go hand-in-hand .', 'good fortune worked three great minds—Dr .', 'Vikram Sarabhai Department Space , Professor Satish Dhawan succeeded , Dr. Brahm Prakash , father nuclear material .', 'lucky worked three closely consider great opportunity life .', 'Hyderabad giving lecture , 14-year-old girl asked autograph .', 'asked goal life .', 'replied : “ want live developed India. ” , build developed India .', 'must proclaim : India underdeveloped nation ; highly developed nation .', 'say government inefficient .', 'say law old .', 'say municipality pick garbage .', 'say phone ’ work , railway joke , airline worst world , mail never reach destination .', 'say country fed dog absolute pit .', 'say , say say .', '?', 'Dear Indians , echoing J.F .', 'Kennedy ’ word fellow Americans : “ Ask country .', 'Ask country . ”']\n"
     ]
    }
   ],
   "source": [
    "print(lemma_result)"
   ]
  },
  {
   "cell_type": "code",
   "execution_count": 40,
   "id": "2ec48fcd-08f9-41cc-9675-b6d5e2597b2b",
   "metadata": {},
   "outputs": [
    {
     "name": "stdout",
     "output_type": "stream",
     "text": [
      "I have three visions for India.\n",
      "\n",
      "In 3000 years of our history, people from all over the world have come and invaded us, captured our lands, conquered our minds. From Alexander onwards, the Greeks, the Turks, the Mughals, the Portuguese, the British, the French, the Dutch—all of them came and looted us, took over what was ours. Yet we have not done this to any other nation. We have not conquered anyone. We have not grabbed their land, their culture, and their history and tried to enforce our way of life on them. Why? Because we respect the freedom of others.\n",
      "\n",
      "That is why my first vision is that of FREEDOM. I believe that India got its first vision of this in 1857, when we started the war of Independence. It is this freedom that we must protect and nurture and build on. If we are not free, no one will respect us.\n",
      "\n",
      "My second vision for India is DEVELOPMENT. For fifty years we have been a developing nation. It is time we see ourselves as a developed nation. We are among the top five nations in the world in terms of GDP. We have 10 percent growth rate in most areas. Our poverty levels are falling. Our achievements are being globally recognized today. Yet we lack the self-confidence to see ourselves as a developed nation, self-reliant and self-assured. Isn’t this incorrect?\n",
      "\n",
      "I have a third vision. India must stand up to the world. Because I believe that unless India stands up to the world, no one will respect us. Only strength respects strength. We must be strong not only as a military power but also as an economic power. Both must go hand-in-hand.\n",
      "\n",
      "My good fortune was to have worked with three great minds—Dr. Vikram Sarabhai of the Department of Space, Professor Satish Dhawan who succeeded him, and Dr. Brahm Prakash, father of nuclear material. I was lucky to have worked with all three of them closely and consider this the great opportunity of my life.\n",
      "\n",
      "I was in Hyderabad giving this lecture, when a 14-year-old girl asked me for my autograph. I asked her what her goal in life is. She replied: “I want to live in a developed India.” For her, you and I will have to build this developed India.\n",
      "\n",
      "You must proclaim: India is not an underdeveloped nation; it is a highly developed nation.\n",
      "\n",
      "You say that our government is inefficient. You say that our laws are too old. You say that the municipality does not pick up the garbage. You say that the phones don’t work, the railways are a joke, the airline is the worst in the world, and mails never reach their destination. You say that our country has been fed to the dogs and is the absolute pits.\n",
      "\n",
      "You say, say and say. What do you do about it?\n",
      "\n",
      "Dear Indians, I am echoing J.F. Kennedy’s words to his fellow Americans: “Ask not what your country can do for you. Ask what you can do for your country.”\n"
     ]
    }
   ],
   "source": [
    "print(speech)"
   ]
  },
  {
   "cell_type": "markdown",
   "id": "0902e7fa-1ade-4952-a67b-d078b52000a9",
   "metadata": {},
   "source": [
    "<strong>What Are POS Tags?</strong><br>\n",
    "Part-of-Speech (POS) tags label each word in a sentence according to its grammatical role—like noun, verb, adjective, etc. They're essential for understanding sentence structure and meaning.<br><br>\n",
    "\n",
    "<strong>Common POS Tags (Penn Treebank Tagset)</strong><br>\n",
    "<strong>NN</strong>: Noun, singular (e.g., dog, car, happiness)<br>\n",
    "<strong>NNS</strong>: Noun, plural (e.g., dogs, cars)<br>\n",
    "<strong>NNP</strong>: Proper noun, singular (e.g., India, Microsoft)<br>\n",
    "<strong>VB</strong>: Verb, base form (e.g., run, eat, think)<br>\n",
    "<strong>VBD</strong>: Verb, past tense (e.g., ran, ate, thought)<br>\n",
    "<strong>VBG</strong>: Verb, gerund/present participle (e.g., running, eating)<br>\n",
    "<strong>JJ</strong>: Adjective (e.g., happy, blue, fast)<br>\n",
    "<strong>RB</strong>: Adverb (e.g., quickly, very, silently)<br>\n",
    "<strong>PRP</strong>: Personal pronoun (e.g., I, you, he, us)<br>\n",
    "<strong>IN</strong>: Preposition (e.g., in, on, at, by)<br>\n",
    "<strong>DT</strong>: Determiner (e.g., the, a, an, this)<br>\n",
    "<strong>CC</strong>: Coordinating conjunction (e.g., and, but, or)<br><br>\n",
    "\n",
    "<strong>Example Sentence with POS Tags</strong><br>\n",
    "\"The quick brown fox jumps over the lazy dog.\"<br>\n",
    "Tagged version: <br>\n",
    "<strong>The/DT</strong> <strong>quick/JJ</strong> <strong>brown/JJ</strong> <strong>fox/NN</strong> <strong>jumps/VBZ</strong> <strong>over/IN</strong> <strong>the/DT</strong> <strong>lazy/JJ</strong> <strong>dog/NN</strong><br><br>\n",
    "\n",
    "<strong>Why POS Tagging Matters</strong><br>\n",
    "- <strong>Lemmatization</strong>: Helps reduce words to their base form.<br>\n",
    "- <strong>Syntax Parsing</strong>: Builds sentence trees for deeper analysis.<br>\n",
    "- <strong>Named Entity Recognition</strong>: Distinguishes between “Apple” as a fruit vs. a company.<br>\n",
    "- <strong>Text Classification & Sentiment Analysis</strong>: Adjectives and adverbs often carry emotional weight.<br><br>\n",
    "\n",
    "<strong>POS Tagging in Python (NLTK)</strong><br>\n",
    "<code>\n",
    "import nltk<br>\n",
    "nltk.download('punkt')<br>\n",
    "nltk.download('averaged_perceptron_tagger')<br><br>\n",
    "sentence = \"This is us\"<br>\n",
    "tokens = nltk.word_tokenize(sentence)<br>\n",
    "pos_tags = nltk.pos_tag(tokens)<br>\n",
    "print(pos_tags)\n",
    "</code><br>\n",
    "Output: [('This', 'DT'), ('is', 'VBZ'), ('us', 'PRP')]"
   ]
  },
  {
   "cell_type": "code",
   "execution_count": 41,
   "id": "a3b0d17e-1148-4687-b375-044b175eddb5",
   "metadata": {},
   "outputs": [
    {
     "name": "stderr",
     "output_type": "stream",
     "text": [
      "[nltk_data] Downloading package averaged_perceptron_tagger_eng to\n",
      "[nltk_data]     C:\\Users\\Kunal.Chugriya\\AppData\\Roaming\\nltk_data...\n",
      "[nltk_data]   Package averaged_perceptron_tagger_eng is already up-to-\n",
      "[nltk_data]       date!\n"
     ]
    },
    {
     "name": "stdout",
     "output_type": "stream",
     "text": [
      "<class 'list'>\n",
      "[('Taj', 'NNP'), ('Mahal', 'NNP'), ('is', 'VBZ'), ('beautiful', 'JJ')]\n",
      "NNP\n"
     ]
    }
   ],
   "source": [
    "nltk.download('averaged_perceptron_tagger_eng')\n",
    "test_pos = nltk.pos_tag(\"Taj Mahal is beautiful\".split()) # pos tag accepts a list of words\n",
    "\n",
    "print(type(test_pos))\n",
    "print(test_pos)\n",
    "print(test_pos[1][1])"
   ]
  },
  {
   "cell_type": "code",
   "execution_count": 42,
   "id": "1cb1dc7b-4cc8-40eb-a7eb-cff526cd3ac4",
   "metadata": {},
   "outputs": [],
   "source": [
    "from nltk.corpus import wordnet\n",
    "\n",
    "def get_wordnet_pos(treebank_tag):\n",
    "    if treebank_tag.startswith('J'):\n",
    "        return wordnet.ADJ\n",
    "    elif treebank_tag.startswith('V'):\n",
    "        return wordnet.VERB\n",
    "    elif treebank_tag.startswith('N'):\n",
    "        return wordnet.NOUN\n",
    "    elif treebank_tag.startswith('R'):\n",
    "        return wordnet.ADV\n",
    "    else:\n",
    "        return wordnet.NOUN  # default fallback"
   ]
  },
  {
   "cell_type": "code",
   "execution_count": 43,
   "id": "7728ccfb-eb75-4c81-a3ab-673c6574f913",
   "metadata": {},
   "outputs": [],
   "source": [
    "lemma_result_using_pos=[]\n",
    "\n",
    "for i in range(len(documents)):\n",
    "    words = nltk.word_tokenize(documents[i])\n",
    "    current_word_pos = nltk.pos_tag(words)\n",
    "    lemma_words= [WordNetLemmatizer.lemmatize(word,pos=get_wordnet_pos(nltk.pos_tag(list(word))[0][1])) for word in words if word.lower() not in set(english_stopwords)]\n",
    "    porterstem_result.append(' '.join(porterstem_words))  # Here assignment will fail as we can't assign the value at particular index in an empty list\n",
    "    snowballstem_result.append(' '.join(snowballstem_words))\n",
    "    lemma_result_using_pos.append(' '.join(lemma_words))"
   ]
  },
  {
   "cell_type": "code",
   "execution_count": 44,
   "id": "3d0d20aa-1373-40dc-9b06-c219b89bc1b1",
   "metadata": {
    "scrolled": true
   },
   "outputs": [
    {
     "data": {
      "text/plain": [
       "['three vision India .',\n",
       " '3000 year history , people world come invaded us , capture land , conquered mind .',\n",
       " 'Alexander onwards , Greeks , Turks , Mughals , Portuguese , British , French , Dutch—all come looted us , took .',\n",
       " 'Yet done nation .',\n",
       " 'conquered anyone .',\n",
       " 'grabbed land , culture , history tried enforce way life .',\n",
       " '?',\n",
       " 'respect freedom others .',\n",
       " 'first vision FREEDOM .',\n",
       " 'believe India got first vision 1857 , started war Independence .',\n",
       " 'freedom must protect nurture build .',\n",
       " 'free , one respect us .',\n",
       " 'second vision India DEVELOPMENT .',\n",
       " 'fifty year developing nation .',\n",
       " 'time see developed nation .',\n",
       " 'among top five nations world term GDP .',\n",
       " '10 percent growth rate area .',\n",
       " 'poverty level fall .',\n",
       " 'achievement globally recognized today .',\n",
       " 'Yet lack self-confidence see developed nation , self-reliant self-assured .',\n",
       " '’ incorrect ?',\n",
       " 'third vision .',\n",
       " 'India must stand world .',\n",
       " 'believe unless India stand world , one respect us .',\n",
       " 'strength respect strength .',\n",
       " 'must strong military power also economic power .',\n",
       " 'must go hand-in-hand .',\n",
       " 'good fortune worked three great minds—Dr .',\n",
       " 'Vikram Sarabhai Department Space , Professor Satish Dhawan succeeded , Dr. Brahm Prakash , father nuclear material .',\n",
       " 'lucky worked three closely consider great opportunity life .',\n",
       " 'Hyderabad giving lecture , 14-year-old girl asked autograph .',\n",
       " 'asked goal life .',\n",
       " 'replied : “ want live developed India. ” , build developed India .',\n",
       " 'must proclaim : India underdeveloped nation ; highly developed nation .',\n",
       " 'say government inefficient .',\n",
       " 'say law old .',\n",
       " 'say municipality pick garbage .',\n",
       " 'say phone ’ work , railways joke , airline worst world , mail never reach destination .',\n",
       " 'say country fed dog absolute pit .',\n",
       " 'say , say say .',\n",
       " '?',\n",
       " 'Dear Indians , echoing J.F .',\n",
       " 'Kennedy ’ word fellow Americans : “ Ask country .',\n",
       " 'Ask country . ”']"
      ]
     },
     "execution_count": 44,
     "metadata": {},
     "output_type": "execute_result"
    }
   ],
   "source": [
    "lemma_result_using_pos"
   ]
  },
  {
   "cell_type": "code",
   "execution_count": 45,
   "id": "6894bdc0-1af8-4be1-a777-6e5e86fab96c",
   "metadata": {},
   "outputs": [
    {
     "data": {
      "text/plain": [
       "['three vision India .',\n",
       " '3000 year history , people world come invaded u , captured land , conquered mind .',\n",
       " 'Alexander onwards , Greeks , Turks , Mughals , Portuguese , British , French , Dutch—all came looted u , took .',\n",
       " 'Yet done nation .',\n",
       " 'conquered anyone .',\n",
       " 'grabbed land , culture , history tried enforce way life .',\n",
       " '?',\n",
       " 'respect freedom others .',\n",
       " 'first vision FREEDOM .',\n",
       " 'believe India got first vision 1857 , started war Independence .',\n",
       " 'freedom must protect nurture build .',\n",
       " 'free , one respect u .',\n",
       " 'second vision India DEVELOPMENT .',\n",
       " 'fifty year developing nation .',\n",
       " 'time see developed nation .',\n",
       " 'among top five nation world term GDP .',\n",
       " '10 percent growth rate area .',\n",
       " 'poverty level falling .',\n",
       " 'achievement globally recognized today .',\n",
       " 'Yet lack self-confidence see developed nation , self-reliant self-assured .',\n",
       " '’ incorrect ?',\n",
       " 'third vision .',\n",
       " 'India must stand world .',\n",
       " 'believe unless India stand world , one respect u .',\n",
       " 'strength respect strength .',\n",
       " 'must strong military power also economic power .',\n",
       " 'must go hand-in-hand .',\n",
       " 'good fortune worked three great minds—Dr .',\n",
       " 'Vikram Sarabhai Department Space , Professor Satish Dhawan succeeded , Dr. Brahm Prakash , father nuclear material .',\n",
       " 'lucky worked three closely consider great opportunity life .',\n",
       " 'Hyderabad giving lecture , 14-year-old girl asked autograph .',\n",
       " 'asked goal life .',\n",
       " 'replied : “ want live developed India. ” , build developed India .',\n",
       " 'must proclaim : India underdeveloped nation ; highly developed nation .',\n",
       " 'say government inefficient .',\n",
       " 'say law old .',\n",
       " 'say municipality pick garbage .',\n",
       " 'say phone ’ work , railway joke , airline worst world , mail never reach destination .',\n",
       " 'say country fed dog absolute pit .',\n",
       " 'say , say say .',\n",
       " '?',\n",
       " 'Dear Indians , echoing J.F .',\n",
       " 'Kennedy ’ word fellow Americans : “ Ask country .',\n",
       " 'Ask country . ”']"
      ]
     },
     "execution_count": 45,
     "metadata": {},
     "output_type": "execute_result"
    }
   ],
   "source": [
    "lemma_result"
   ]
  },
  {
   "cell_type": "markdown",
   "id": "7eaad22a-d20f-456f-9c1f-9d941a2bc743",
   "metadata": {},
   "source": [
    "<p><strong>\n",
    "<b>🧠 What is Named Entity Recognition (NER)?</b><br>\n",
    "Named Entity Recognition is a Natural Language Processing (NLP) technique that identifies and classifies key elements in text into predefined categories such as names of people, organizations, locations, dates, and more.<br><br>\n",
    "\n",
    "<b>🔍 What Does NER Detect?</b><br>\n",
    "NER systems typically look for:<br>\n",
    "• <strong>Person</strong> – Names of individuals (e.g., \"Elon Musk\")<br>\n",
    "• <strong>Organization</strong> – Companies, institutions (e.g., \"Microsoft\", \"UN\")<br>\n",
    "• <strong>Location</strong> – Cities, countries, landmarks (e.g., \"Paris\", \"Mount Everest\")<br>\n",
    "• <strong>Date</strong> – Specific dates or time expressions (e.g., \"August 20, 2025\")<br>\n",
    "• <strong>Money</strong> – Currency amounts (e.g., \"$1 million\")<br>\n",
    "• <strong>Percent</strong> – Percentages (e.g., \"75%\")<br><br>\n",
    "\n",
    "<b>📚 Example:</b><br>\n",
    "Sentence: <i>\"Apple Inc. was founded by Steve Jobs in California.\"</i><br>\n",
    "NER Output:<br>\n",
    "• <strong>Apple Inc.</strong> → Organization<br>\n",
    "• <strong>Steve Jobs</strong> → Person<br>\n",
    "• <strong>California</strong> → Location<br><br>\n",
    "\n",
    "<b>⚙️ How It Works:</b><br>\n",
    "NER uses machine learning models or rule-based systems to scan text and tag entities. Libraries like <code>spaCy</code>, <code>NLTK</code>, and <code>Stanford NLP</code> offer built-in NER capabilities.<br><br>\n",
    "\n",
    "<b>💡 Why NER Matters:</b><br>\n",
    "• Improves search engines and recommendation systems<br>\n",
    "• Powers chatbots and virtual assistants<br>\n",
    "• Enables information extraction from large text datasets<br>\n",
    "• Helps in document classification and summarization<br><br>\n",
    "\n",
    "<b>Summary:</b><br>\n",
    "Named Entity Recognition helps machines understand \"who\", \"where\", and \"when\" in text. It's a key step in making raw language data useful and intelligent.\n",
    "</strong></p>"
   ]
  },
  {
   "cell_type": "code",
   "execution_count": 46,
   "id": "3903db46-931d-43ab-8f4b-144edd24dd4d",
   "metadata": {},
   "outputs": [],
   "source": [
    "NER_text = \"\"\"On July 20, 1969, astronaut Neil Armstrong became the first human to walk on the Moon during NASA's Apollo 11 mission. The spacecraft launched from Kennedy Space Center in Florida and was watched live by millions around the world. Meanwhile, back on Earth, President Richard Nixon called the astronauts from the White House. Today, companies like SpaceX and Blue Origin, led by Elon Musk and Jeff Bezos respectively, are pushing the boundaries of space exploration. The global space industry is projected to reach $1 trillion by 2040, according to analysts at Morgan Stanley.\"\"\""
   ]
  },
  {
   "cell_type": "code",
   "execution_count": 47,
   "id": "fca1eeb7-ff32-430b-850d-9c06b1090f2b",
   "metadata": {},
   "outputs": [
    {
     "data": {
      "text/plain": [
       "['On',\n",
       " 'July',\n",
       " '20',\n",
       " ',',\n",
       " '1969',\n",
       " ',',\n",
       " 'astronaut',\n",
       " 'Neil',\n",
       " 'Armstrong',\n",
       " 'became',\n",
       " 'the',\n",
       " 'first',\n",
       " 'human',\n",
       " 'to',\n",
       " 'walk',\n",
       " 'on',\n",
       " 'the',\n",
       " 'Moon',\n",
       " 'during',\n",
       " 'NASA',\n",
       " \"'s\",\n",
       " 'Apollo',\n",
       " '11',\n",
       " 'mission',\n",
       " '.',\n",
       " 'The',\n",
       " 'spacecraft',\n",
       " 'launched',\n",
       " 'from',\n",
       " 'Kennedy',\n",
       " 'Space',\n",
       " 'Center',\n",
       " 'in',\n",
       " 'Florida',\n",
       " 'and',\n",
       " 'was',\n",
       " 'watched',\n",
       " 'live',\n",
       " 'by',\n",
       " 'millions',\n",
       " 'around',\n",
       " 'the',\n",
       " 'world',\n",
       " '.',\n",
       " 'Meanwhile',\n",
       " ',',\n",
       " 'back',\n",
       " 'on',\n",
       " 'Earth',\n",
       " ',',\n",
       " 'President',\n",
       " 'Richard',\n",
       " 'Nixon',\n",
       " 'called',\n",
       " 'the',\n",
       " 'astronauts',\n",
       " 'from',\n",
       " 'the',\n",
       " 'White',\n",
       " 'House',\n",
       " '.',\n",
       " 'Today',\n",
       " ',',\n",
       " 'companies',\n",
       " 'like',\n",
       " 'SpaceX',\n",
       " 'and',\n",
       " 'Blue',\n",
       " 'Origin',\n",
       " ',',\n",
       " 'led',\n",
       " 'by',\n",
       " 'Elon',\n",
       " 'Musk',\n",
       " 'and',\n",
       " 'Jeff',\n",
       " 'Bezos',\n",
       " 'respectively',\n",
       " ',',\n",
       " 'are',\n",
       " 'pushing',\n",
       " 'the',\n",
       " 'boundaries',\n",
       " 'of',\n",
       " 'space',\n",
       " 'exploration',\n",
       " '.',\n",
       " 'The',\n",
       " 'global',\n",
       " 'space',\n",
       " 'industry',\n",
       " 'is',\n",
       " 'projected',\n",
       " 'to',\n",
       " 'reach',\n",
       " '$',\n",
       " '1',\n",
       " 'trillion',\n",
       " 'by',\n",
       " '2040',\n",
       " ',',\n",
       " 'according',\n",
       " 'to',\n",
       " 'analysts',\n",
       " 'at',\n",
       " 'Morgan',\n",
       " 'Stanley',\n",
       " '.']"
      ]
     },
     "execution_count": 47,
     "metadata": {},
     "output_type": "execute_result"
    }
   ],
   "source": [
    "NER_words = nltk.word_tokenize(NER_text)\n",
    "NER_words"
   ]
  },
  {
   "cell_type": "code",
   "execution_count": 48,
   "id": "9a617733-6776-4bc0-8ccc-ead116e0bec8",
   "metadata": {
    "scrolled": true
   },
   "outputs": [
    {
     "data": {
      "text/plain": [
       "[('On', 'IN'),\n",
       " ('July', 'NNP'),\n",
       " ('20', 'CD'),\n",
       " (',', ','),\n",
       " ('1969', 'CD'),\n",
       " (',', ','),\n",
       " ('astronaut', 'FW'),\n",
       " ('Neil', 'NNP'),\n",
       " ('Armstrong', 'NNP'),\n",
       " ('became', 'VBD'),\n",
       " ('the', 'DT'),\n",
       " ('first', 'JJ'),\n",
       " ('human', 'NN'),\n",
       " ('to', 'TO'),\n",
       " ('walk', 'VB'),\n",
       " ('on', 'IN'),\n",
       " ('the', 'DT'),\n",
       " ('Moon', 'NNP'),\n",
       " ('during', 'IN'),\n",
       " ('NASA', 'NNP'),\n",
       " (\"'s\", 'POS'),\n",
       " ('Apollo', 'NNP'),\n",
       " ('11', 'CD'),\n",
       " ('mission', 'NN'),\n",
       " ('.', '.'),\n",
       " ('The', 'DT'),\n",
       " ('spacecraft', 'NN'),\n",
       " ('launched', 'VBN'),\n",
       " ('from', 'IN'),\n",
       " ('Kennedy', 'NNP'),\n",
       " ('Space', 'NNP'),\n",
       " ('Center', 'NNP'),\n",
       " ('in', 'IN'),\n",
       " ('Florida', 'NNP'),\n",
       " ('and', 'CC'),\n",
       " ('was', 'VBD'),\n",
       " ('watched', 'VBN'),\n",
       " ('live', 'JJ'),\n",
       " ('by', 'IN'),\n",
       " ('millions', 'NNS'),\n",
       " ('around', 'IN'),\n",
       " ('the', 'DT'),\n",
       " ('world', 'NN'),\n",
       " ('.', '.'),\n",
       " ('Meanwhile', 'RB'),\n",
       " (',', ','),\n",
       " ('back', 'RB'),\n",
       " ('on', 'IN'),\n",
       " ('Earth', 'NNP'),\n",
       " (',', ','),\n",
       " ('President', 'NNP'),\n",
       " ('Richard', 'NNP'),\n",
       " ('Nixon', 'NNP'),\n",
       " ('called', 'VBD'),\n",
       " ('the', 'DT'),\n",
       " ('astronauts', 'NNS'),\n",
       " ('from', 'IN'),\n",
       " ('the', 'DT'),\n",
       " ('White', 'NNP'),\n",
       " ('House', 'NNP'),\n",
       " ('.', '.'),\n",
       " ('Today', 'NN'),\n",
       " (',', ','),\n",
       " ('companies', 'NNS'),\n",
       " ('like', 'IN'),\n",
       " ('SpaceX', 'NNP'),\n",
       " ('and', 'CC'),\n",
       " ('Blue', 'NNP'),\n",
       " ('Origin', 'NNP'),\n",
       " (',', ','),\n",
       " ('led', 'VBN'),\n",
       " ('by', 'IN'),\n",
       " ('Elon', 'NNP'),\n",
       " ('Musk', 'NNP'),\n",
       " ('and', 'CC'),\n",
       " ('Jeff', 'NNP'),\n",
       " ('Bezos', 'NNP'),\n",
       " ('respectively', 'RB'),\n",
       " (',', ','),\n",
       " ('are', 'VBP'),\n",
       " ('pushing', 'VBG'),\n",
       " ('the', 'DT'),\n",
       " ('boundaries', 'NNS'),\n",
       " ('of', 'IN'),\n",
       " ('space', 'NN'),\n",
       " ('exploration', 'NN'),\n",
       " ('.', '.'),\n",
       " ('The', 'DT'),\n",
       " ('global', 'JJ'),\n",
       " ('space', 'NN'),\n",
       " ('industry', 'NN'),\n",
       " ('is', 'VBZ'),\n",
       " ('projected', 'VBN'),\n",
       " ('to', 'TO'),\n",
       " ('reach', 'VB'),\n",
       " ('$', '$'),\n",
       " ('1', 'CD'),\n",
       " ('trillion', 'CD'),\n",
       " ('by', 'IN'),\n",
       " ('2040', 'CD'),\n",
       " (',', ','),\n",
       " ('according', 'VBG'),\n",
       " ('to', 'TO'),\n",
       " ('analysts', 'NNS'),\n",
       " ('at', 'IN'),\n",
       " ('Morgan', 'NNP'),\n",
       " ('Stanley', 'NNP'),\n",
       " ('.', '.')]"
      ]
     },
     "execution_count": 48,
     "metadata": {},
     "output_type": "execute_result"
    }
   ],
   "source": [
    " tag_elements = nltk.pos_tag(NER_words)\n",
    "tag_elements"
   ]
  },
  {
   "cell_type": "code",
   "execution_count": 49,
   "id": "0685c52e-e627-4251-b16e-8f846604d562",
   "metadata": {},
   "outputs": [
    {
     "name": "stderr",
     "output_type": "stream",
     "text": [
      "[nltk_data] Downloading package maxent_ne_chunker_tab to\n",
      "[nltk_data]     C:\\Users\\Kunal.Chugriya\\AppData\\Roaming\\nltk_data...\n",
      "[nltk_data]   Package maxent_ne_chunker_tab is already up-to-date!\n",
      "[nltk_data] Downloading package words to\n",
      "[nltk_data]     C:\\Users\\Kunal.Chugriya\\AppData\\Roaming\\nltk_data...\n",
      "[nltk_data]   Package words is already up-to-date!\n"
     ]
    },
    {
     "name": "stdout",
     "output_type": "stream",
     "text": [
      "Requirement already satisfied: svgling in c:\\users\\kunal.chugriya\\appdata\\local\\anaconda3\\lib\\site-packages (0.5.0)\n",
      "Requirement already satisfied: svgwrite in c:\\users\\kunal.chugriya\\appdata\\local\\anaconda3\\lib\\site-packages (from svgling) (1.4.3)\n"
     ]
    }
   ],
   "source": [
    "nltk.download('maxent_ne_chunker_tab')\n",
    "nltk.download('words')\n",
    "!pip install svgling\n"
   ]
  },
  {
   "cell_type": "code",
   "execution_count": 50,
   "id": "3a3de8d3-e54e-4fc6-bfc6-e97eaed4b765",
   "metadata": {},
   "outputs": [
    {
     "data": {
      "image/svg+xml": [
       "<svg baseProfile=\"full\" height=\"168px\" preserveAspectRatio=\"xMidYMid meet\" style=\"font-family: times, serif; font-weight: normal; font-style: normal; font-size: 16px\" version=\"1.1\" viewBox=\"0,0,5792.0,168.0\" width=\"5792px\" xmlns=\"http://www.w3.org/2000/svg\" xmlns:ev=\"http://www.w3.org/2001/xml-events\" xmlns:xlink=\"http://www.w3.org/1999/xlink\"><defs /><svg width=\"100%\" x=\"0\" y=\"0px\"><defs /><text text-anchor=\"middle\" x=\"50%\" y=\"16px\">S</text></svg><svg width=\"0.552486%\" x=\"0%\" y=\"48px\"><defs /><svg width=\"100%\" x=\"0\" y=\"0px\"><defs /><text text-anchor=\"middle\" x=\"50%\" y=\"16px\">On</text></svg><svg width=\"100%\" x=\"0%\" y=\"48px\"><defs /><svg width=\"100%\" x=\"0\" y=\"0px\"><defs /><text text-anchor=\"middle\" x=\"50%\" y=\"16px\">IN</text></svg></svg><line stroke=\"black\" x1=\"50%\" x2=\"50%\" y1=\"20px\" y2=\"48px\" /></svg><line stroke=\"black\" x1=\"50%\" x2=\"0.276243%\" y1=\"20px\" y2=\"48px\" /><svg width=\"0.828729%\" x=\"0.552486%\" y=\"48px\"><defs /><svg width=\"100%\" x=\"0\" y=\"0px\"><defs /><text text-anchor=\"middle\" x=\"50%\" y=\"16px\">July</text></svg><svg width=\"100%\" x=\"0%\" y=\"48px\"><defs /><svg width=\"100%\" x=\"0\" y=\"0px\"><defs /><text text-anchor=\"middle\" x=\"50%\" y=\"16px\">NNP</text></svg></svg><line stroke=\"black\" x1=\"50%\" x2=\"50%\" y1=\"20px\" y2=\"48px\" /></svg><line stroke=\"black\" x1=\"50%\" x2=\"0.966851%\" y1=\"20px\" y2=\"48px\" /><svg width=\"0.552486%\" x=\"1.38122%\" y=\"48px\"><defs /><svg width=\"100%\" x=\"0\" y=\"0px\"><defs /><text text-anchor=\"middle\" x=\"50%\" y=\"16px\">20</text></svg><svg width=\"100%\" x=\"0%\" y=\"48px\"><defs /><svg width=\"100%\" x=\"0\" y=\"0px\"><defs /><text text-anchor=\"middle\" x=\"50%\" y=\"16px\">CD</text></svg></svg><line stroke=\"black\" x1=\"50%\" x2=\"50%\" y1=\"20px\" y2=\"48px\" /></svg><line stroke=\"black\" x1=\"50%\" x2=\"1.65746%\" y1=\"20px\" y2=\"48px\" /><svg width=\"0.414365%\" x=\"1.9337%\" y=\"48px\"><defs /><svg width=\"100%\" x=\"0\" y=\"0px\"><defs /><text text-anchor=\"middle\" x=\"50%\" y=\"16px\">,</text></svg><svg width=\"100%\" x=\"0%\" y=\"48px\"><defs /><svg width=\"100%\" x=\"0\" y=\"0px\"><defs /><text text-anchor=\"middle\" x=\"50%\" y=\"16px\">,</text></svg></svg><line stroke=\"black\" x1=\"50%\" x2=\"50%\" y1=\"20px\" y2=\"48px\" /></svg><line stroke=\"black\" x1=\"50%\" x2=\"2.14088%\" y1=\"20px\" y2=\"48px\" /><svg width=\"0.828729%\" x=\"2.34807%\" y=\"48px\"><defs /><svg width=\"100%\" x=\"0\" y=\"0px\"><defs /><text text-anchor=\"middle\" x=\"50%\" y=\"16px\">1969</text></svg><svg width=\"100%\" x=\"0%\" y=\"48px\"><defs /><svg width=\"100%\" x=\"0\" y=\"0px\"><defs /><text text-anchor=\"middle\" x=\"50%\" y=\"16px\">CD</text></svg></svg><line stroke=\"black\" x1=\"50%\" x2=\"50%\" y1=\"20px\" y2=\"48px\" /></svg><line stroke=\"black\" x1=\"50%\" x2=\"2.76243%\" y1=\"20px\" y2=\"48px\" /><svg width=\"0.414365%\" x=\"3.1768%\" y=\"48px\"><defs /><svg width=\"100%\" x=\"0\" y=\"0px\"><defs /><text text-anchor=\"middle\" x=\"50%\" y=\"16px\">,</text></svg><svg width=\"100%\" x=\"0%\" y=\"48px\"><defs /><svg width=\"100%\" x=\"0\" y=\"0px\"><defs /><text text-anchor=\"middle\" x=\"50%\" y=\"16px\">,</text></svg></svg><line stroke=\"black\" x1=\"50%\" x2=\"50%\" y1=\"20px\" y2=\"48px\" /></svg><line stroke=\"black\" x1=\"50%\" x2=\"3.38398%\" y1=\"20px\" y2=\"48px\" /><svg width=\"1.51934%\" x=\"3.59116%\" y=\"48px\"><defs /><svg width=\"100%\" x=\"0\" y=\"0px\"><defs /><text text-anchor=\"middle\" x=\"50%\" y=\"16px\">astronaut</text></svg><svg width=\"100%\" x=\"0%\" y=\"48px\"><defs /><svg width=\"100%\" x=\"0\" y=\"0px\"><defs /><text text-anchor=\"middle\" x=\"50%\" y=\"16px\">FW</text></svg></svg><line stroke=\"black\" x1=\"50%\" x2=\"50%\" y1=\"20px\" y2=\"48px\" /></svg><line stroke=\"black\" x1=\"50%\" x2=\"4.35083%\" y1=\"20px\" y2=\"48px\" /><svg width=\"2.34807%\" x=\"5.1105%\" y=\"48px\"><defs /><svg width=\"100%\" x=\"0\" y=\"0px\"><defs /><text text-anchor=\"middle\" x=\"50%\" y=\"16px\">PERSON</text></svg><svg width=\"35.2941%\" x=\"0%\" y=\"48px\"><defs /><svg width=\"100%\" x=\"0\" y=\"0px\"><defs /><text text-anchor=\"middle\" x=\"50%\" y=\"16px\">Neil</text></svg><svg width=\"100%\" x=\"0%\" y=\"48px\"><defs /><svg width=\"100%\" x=\"0\" y=\"0px\"><defs /><text text-anchor=\"middle\" x=\"50%\" y=\"16px\">NNP</text></svg></svg><line stroke=\"black\" x1=\"50%\" x2=\"50%\" y1=\"20px\" y2=\"48px\" /></svg><line stroke=\"black\" x1=\"50%\" x2=\"17.6471%\" y1=\"20px\" y2=\"48px\" /><svg width=\"64.7059%\" x=\"35.2941%\" y=\"48px\"><defs /><svg width=\"100%\" x=\"0\" y=\"0px\"><defs /><text text-anchor=\"middle\" x=\"50%\" y=\"16px\">Armstrong</text></svg><svg width=\"100%\" x=\"0%\" y=\"48px\"><defs /><svg width=\"100%\" x=\"0\" y=\"0px\"><defs /><text text-anchor=\"middle\" x=\"50%\" y=\"16px\">NNP</text></svg></svg><line stroke=\"black\" x1=\"50%\" x2=\"50%\" y1=\"20px\" y2=\"48px\" /></svg><line stroke=\"black\" x1=\"50%\" x2=\"67.6471%\" y1=\"20px\" y2=\"48px\" /></svg><line stroke=\"black\" x1=\"50%\" x2=\"6.28453%\" y1=\"20px\" y2=\"48px\" /><svg width=\"1.10497%\" x=\"7.45856%\" y=\"48px\"><defs /><svg width=\"100%\" x=\"0\" y=\"0px\"><defs /><text text-anchor=\"middle\" x=\"50%\" y=\"16px\">became</text></svg><svg width=\"100%\" x=\"0%\" y=\"48px\"><defs /><svg width=\"100%\" x=\"0\" y=\"0px\"><defs /><text text-anchor=\"middle\" x=\"50%\" y=\"16px\">VBD</text></svg></svg><line stroke=\"black\" x1=\"50%\" x2=\"50%\" y1=\"20px\" y2=\"48px\" /></svg><line stroke=\"black\" x1=\"50%\" x2=\"8.01105%\" y1=\"20px\" y2=\"48px\" /><svg width=\"0.690608%\" x=\"8.56354%\" y=\"48px\"><defs /><svg width=\"100%\" x=\"0\" y=\"0px\"><defs /><text text-anchor=\"middle\" x=\"50%\" y=\"16px\">the</text></svg><svg width=\"100%\" x=\"0%\" y=\"48px\"><defs /><svg width=\"100%\" x=\"0\" y=\"0px\"><defs /><text text-anchor=\"middle\" x=\"50%\" y=\"16px\">DT</text></svg></svg><line stroke=\"black\" x1=\"50%\" x2=\"50%\" y1=\"20px\" y2=\"48px\" /></svg><line stroke=\"black\" x1=\"50%\" x2=\"8.90884%\" y1=\"20px\" y2=\"48px\" /><svg width=\"0.966851%\" x=\"9.25414%\" y=\"48px\"><defs /><svg width=\"100%\" x=\"0\" y=\"0px\"><defs /><text text-anchor=\"middle\" x=\"50%\" y=\"16px\">first</text></svg><svg width=\"100%\" x=\"0%\" y=\"48px\"><defs /><svg width=\"100%\" x=\"0\" y=\"0px\"><defs /><text text-anchor=\"middle\" x=\"50%\" y=\"16px\">JJ</text></svg></svg><line stroke=\"black\" x1=\"50%\" x2=\"50%\" y1=\"20px\" y2=\"48px\" /></svg><line stroke=\"black\" x1=\"50%\" x2=\"9.73757%\" y1=\"20px\" y2=\"48px\" /><svg width=\"0.966851%\" x=\"10.221%\" y=\"48px\"><defs /><svg width=\"100%\" x=\"0\" y=\"0px\"><defs /><text text-anchor=\"middle\" x=\"50%\" y=\"16px\">human</text></svg><svg width=\"100%\" x=\"0%\" y=\"48px\"><defs /><svg width=\"100%\" x=\"0\" y=\"0px\"><defs /><text text-anchor=\"middle\" x=\"50%\" y=\"16px\">NN</text></svg></svg><line stroke=\"black\" x1=\"50%\" x2=\"50%\" y1=\"20px\" y2=\"48px\" /></svg><line stroke=\"black\" x1=\"50%\" x2=\"10.7044%\" y1=\"20px\" y2=\"48px\" /><svg width=\"0.552486%\" x=\"11.1878%\" y=\"48px\"><defs /><svg width=\"100%\" x=\"0\" y=\"0px\"><defs /><text text-anchor=\"middle\" x=\"50%\" y=\"16px\">to</text></svg><svg width=\"100%\" x=\"0%\" y=\"48px\"><defs /><svg width=\"100%\" x=\"0\" y=\"0px\"><defs /><text text-anchor=\"middle\" x=\"50%\" y=\"16px\">TO</text></svg></svg><line stroke=\"black\" x1=\"50%\" x2=\"50%\" y1=\"20px\" y2=\"48px\" /></svg><line stroke=\"black\" x1=\"50%\" x2=\"11.4641%\" y1=\"20px\" y2=\"48px\" /><svg width=\"0.828729%\" x=\"11.7403%\" y=\"48px\"><defs /><svg width=\"100%\" x=\"0\" y=\"0px\"><defs /><text text-anchor=\"middle\" x=\"50%\" y=\"16px\">walk</text></svg><svg width=\"100%\" x=\"0%\" y=\"48px\"><defs /><svg width=\"100%\" x=\"0\" y=\"0px\"><defs /><text text-anchor=\"middle\" x=\"50%\" y=\"16px\">VB</text></svg></svg><line stroke=\"black\" x1=\"50%\" x2=\"50%\" y1=\"20px\" y2=\"48px\" /></svg><line stroke=\"black\" x1=\"50%\" x2=\"12.1547%\" y1=\"20px\" y2=\"48px\" /><svg width=\"0.552486%\" x=\"12.5691%\" y=\"48px\"><defs /><svg width=\"100%\" x=\"0\" y=\"0px\"><defs /><text text-anchor=\"middle\" x=\"50%\" y=\"16px\">on</text></svg><svg width=\"100%\" x=\"0%\" y=\"48px\"><defs /><svg width=\"100%\" x=\"0\" y=\"0px\"><defs /><text text-anchor=\"middle\" x=\"50%\" y=\"16px\">IN</text></svg></svg><line stroke=\"black\" x1=\"50%\" x2=\"50%\" y1=\"20px\" y2=\"48px\" /></svg><line stroke=\"black\" x1=\"50%\" x2=\"12.8453%\" y1=\"20px\" y2=\"48px\" /><svg width=\"0.690608%\" x=\"13.1215%\" y=\"48px\"><defs /><svg width=\"100%\" x=\"0\" y=\"0px\"><defs /><text text-anchor=\"middle\" x=\"50%\" y=\"16px\">the</text></svg><svg width=\"100%\" x=\"0%\" y=\"48px\"><defs /><svg width=\"100%\" x=\"0\" y=\"0px\"><defs /><text text-anchor=\"middle\" x=\"50%\" y=\"16px\">DT</text></svg></svg><line stroke=\"black\" x1=\"50%\" x2=\"50%\" y1=\"20px\" y2=\"48px\" /></svg><line stroke=\"black\" x1=\"50%\" x2=\"13.4669%\" y1=\"20px\" y2=\"48px\" /><svg width=\"1.9337%\" x=\"13.8122%\" y=\"48px\"><defs /><svg width=\"100%\" x=\"0\" y=\"0px\"><defs /><text text-anchor=\"middle\" x=\"50%\" y=\"16px\">ORGANIZATION</text></svg><svg width=\"100%\" x=\"0%\" y=\"48px\"><defs /><svg width=\"100%\" x=\"0\" y=\"0px\"><defs /><text text-anchor=\"middle\" x=\"50%\" y=\"16px\">Moon</text></svg><svg width=\"100%\" x=\"0%\" y=\"48px\"><defs /><svg width=\"100%\" x=\"0\" y=\"0px\"><defs /><text text-anchor=\"middle\" x=\"50%\" y=\"16px\">NNP</text></svg></svg><line stroke=\"black\" x1=\"50%\" x2=\"50%\" y1=\"20px\" y2=\"48px\" /></svg><line stroke=\"black\" x1=\"50%\" x2=\"50%\" y1=\"20px\" y2=\"48px\" /></svg><line stroke=\"black\" x1=\"50%\" x2=\"14.779%\" y1=\"20px\" y2=\"48px\" /><svg width=\"1.10497%\" x=\"15.7459%\" y=\"48px\"><defs /><svg width=\"100%\" x=\"0\" y=\"0px\"><defs /><text text-anchor=\"middle\" x=\"50%\" y=\"16px\">during</text></svg><svg width=\"100%\" x=\"0%\" y=\"48px\"><defs /><svg width=\"100%\" x=\"0\" y=\"0px\"><defs /><text text-anchor=\"middle\" x=\"50%\" y=\"16px\">IN</text></svg></svg><line stroke=\"black\" x1=\"50%\" x2=\"50%\" y1=\"20px\" y2=\"48px\" /></svg><line stroke=\"black\" x1=\"50%\" x2=\"16.2983%\" y1=\"20px\" y2=\"48px\" /><svg width=\"1.9337%\" x=\"16.8508%\" y=\"48px\"><defs /><svg width=\"100%\" x=\"0\" y=\"0px\"><defs /><text text-anchor=\"middle\" x=\"50%\" y=\"16px\">ORGANIZATION</text></svg><svg width=\"100%\" x=\"0%\" y=\"48px\"><defs /><svg width=\"100%\" x=\"0\" y=\"0px\"><defs /><text text-anchor=\"middle\" x=\"50%\" y=\"16px\">NASA</text></svg><svg width=\"100%\" x=\"0%\" y=\"48px\"><defs /><svg width=\"100%\" x=\"0\" y=\"0px\"><defs /><text text-anchor=\"middle\" x=\"50%\" y=\"16px\">NNP</text></svg></svg><line stroke=\"black\" x1=\"50%\" x2=\"50%\" y1=\"20px\" y2=\"48px\" /></svg><line stroke=\"black\" x1=\"50%\" x2=\"50%\" y1=\"20px\" y2=\"48px\" /></svg><line stroke=\"black\" x1=\"50%\" x2=\"17.8177%\" y1=\"20px\" y2=\"48px\" /><svg width=\"0.690608%\" x=\"18.7845%\" y=\"48px\"><defs /><svg width=\"100%\" x=\"0\" y=\"0px\"><defs /><text text-anchor=\"middle\" x=\"50%\" y=\"16px\">'s</text></svg><svg width=\"100%\" x=\"0%\" y=\"48px\"><defs /><svg width=\"100%\" x=\"0\" y=\"0px\"><defs /><text text-anchor=\"middle\" x=\"50%\" y=\"16px\">POS</text></svg></svg><line stroke=\"black\" x1=\"50%\" x2=\"50%\" y1=\"20px\" y2=\"48px\" /></svg><line stroke=\"black\" x1=\"50%\" x2=\"19.1298%\" y1=\"20px\" y2=\"48px\" /><svg width=\"1.10497%\" x=\"19.4751%\" y=\"48px\"><defs /><svg width=\"100%\" x=\"0\" y=\"0px\"><defs /><text text-anchor=\"middle\" x=\"50%\" y=\"16px\">Apollo</text></svg><svg width=\"100%\" x=\"0%\" y=\"48px\"><defs /><svg width=\"100%\" x=\"0\" y=\"0px\"><defs /><text text-anchor=\"middle\" x=\"50%\" y=\"16px\">NNP</text></svg></svg><line stroke=\"black\" x1=\"50%\" x2=\"50%\" y1=\"20px\" y2=\"48px\" /></svg><line stroke=\"black\" x1=\"50%\" x2=\"20.0276%\" y1=\"20px\" y2=\"48px\" /><svg width=\"0.552486%\" x=\"20.5801%\" y=\"48px\"><defs /><svg width=\"100%\" x=\"0\" y=\"0px\"><defs /><text text-anchor=\"middle\" x=\"50%\" y=\"16px\">11</text></svg><svg width=\"100%\" x=\"0%\" y=\"48px\"><defs /><svg width=\"100%\" x=\"0\" y=\"0px\"><defs /><text text-anchor=\"middle\" x=\"50%\" y=\"16px\">CD</text></svg></svg><line stroke=\"black\" x1=\"50%\" x2=\"50%\" y1=\"20px\" y2=\"48px\" /></svg><line stroke=\"black\" x1=\"50%\" x2=\"20.8564%\" y1=\"20px\" y2=\"48px\" /><svg width=\"1.24309%\" x=\"21.1326%\" y=\"48px\"><defs /><svg width=\"100%\" x=\"0\" y=\"0px\"><defs /><text text-anchor=\"middle\" x=\"50%\" y=\"16px\">mission</text></svg><svg width=\"100%\" x=\"0%\" y=\"48px\"><defs /><svg width=\"100%\" x=\"0\" y=\"0px\"><defs /><text text-anchor=\"middle\" x=\"50%\" y=\"16px\">NN</text></svg></svg><line stroke=\"black\" x1=\"50%\" x2=\"50%\" y1=\"20px\" y2=\"48px\" /></svg><line stroke=\"black\" x1=\"50%\" x2=\"21.7541%\" y1=\"20px\" y2=\"48px\" /><svg width=\"0.414365%\" x=\"22.3757%\" y=\"48px\"><defs /><svg width=\"100%\" x=\"0\" y=\"0px\"><defs /><text text-anchor=\"middle\" x=\"50%\" y=\"16px\">.</text></svg><svg width=\"100%\" x=\"0%\" y=\"48px\"><defs /><svg width=\"100%\" x=\"0\" y=\"0px\"><defs /><text text-anchor=\"middle\" x=\"50%\" y=\"16px\">.</text></svg></svg><line stroke=\"black\" x1=\"50%\" x2=\"50%\" y1=\"20px\" y2=\"48px\" /></svg><line stroke=\"black\" x1=\"50%\" x2=\"22.5829%\" y1=\"20px\" y2=\"48px\" /><svg width=\"0.690608%\" x=\"22.7901%\" y=\"48px\"><defs /><svg width=\"100%\" x=\"0\" y=\"0px\"><defs /><text text-anchor=\"middle\" x=\"50%\" y=\"16px\">The</text></svg><svg width=\"100%\" x=\"0%\" y=\"48px\"><defs /><svg width=\"100%\" x=\"0\" y=\"0px\"><defs /><text text-anchor=\"middle\" x=\"50%\" y=\"16px\">DT</text></svg></svg><line stroke=\"black\" x1=\"50%\" x2=\"50%\" y1=\"20px\" y2=\"48px\" /></svg><line stroke=\"black\" x1=\"50%\" x2=\"23.1354%\" y1=\"20px\" y2=\"48px\" /><svg width=\"1.65746%\" x=\"23.4807%\" y=\"48px\"><defs /><svg width=\"100%\" x=\"0\" y=\"0px\"><defs /><text text-anchor=\"middle\" x=\"50%\" y=\"16px\">spacecraft</text></svg><svg width=\"100%\" x=\"0%\" y=\"48px\"><defs /><svg width=\"100%\" x=\"0\" y=\"0px\"><defs /><text text-anchor=\"middle\" x=\"50%\" y=\"16px\">NN</text></svg></svg><line stroke=\"black\" x1=\"50%\" x2=\"50%\" y1=\"20px\" y2=\"48px\" /></svg><line stroke=\"black\" x1=\"50%\" x2=\"24.3094%\" y1=\"20px\" y2=\"48px\" /><svg width=\"1.38122%\" x=\"25.1381%\" y=\"48px\"><defs /><svg width=\"100%\" x=\"0\" y=\"0px\"><defs /><text text-anchor=\"middle\" x=\"50%\" y=\"16px\">launched</text></svg><svg width=\"100%\" x=\"0%\" y=\"48px\"><defs /><svg width=\"100%\" x=\"0\" y=\"0px\"><defs /><text text-anchor=\"middle\" x=\"50%\" y=\"16px\">VBN</text></svg></svg><line stroke=\"black\" x1=\"50%\" x2=\"50%\" y1=\"20px\" y2=\"48px\" /></svg><line stroke=\"black\" x1=\"50%\" x2=\"25.8287%\" y1=\"20px\" y2=\"48px\" /><svg width=\"0.828729%\" x=\"26.5193%\" y=\"48px\"><defs /><svg width=\"100%\" x=\"0\" y=\"0px\"><defs /><text text-anchor=\"middle\" x=\"50%\" y=\"16px\">from</text></svg><svg width=\"100%\" x=\"0%\" y=\"48px\"><defs /><svg width=\"100%\" x=\"0\" y=\"0px\"><defs /><text text-anchor=\"middle\" x=\"50%\" y=\"16px\">IN</text></svg></svg><line stroke=\"black\" x1=\"50%\" x2=\"50%\" y1=\"20px\" y2=\"48px\" /></svg><line stroke=\"black\" x1=\"50%\" x2=\"26.9337%\" y1=\"20px\" y2=\"48px\" /><svg width=\"3.31492%\" x=\"27.3481%\" y=\"48px\"><defs /><svg width=\"100%\" x=\"0\" y=\"0px\"><defs /><text text-anchor=\"middle\" x=\"50%\" y=\"16px\">PERSON</text></svg><svg width=\"37.5%\" x=\"0%\" y=\"48px\"><defs /><svg width=\"100%\" x=\"0\" y=\"0px\"><defs /><text text-anchor=\"middle\" x=\"50%\" y=\"16px\">Kennedy</text></svg><svg width=\"100%\" x=\"0%\" y=\"48px\"><defs /><svg width=\"100%\" x=\"0\" y=\"0px\"><defs /><text text-anchor=\"middle\" x=\"50%\" y=\"16px\">NNP</text></svg></svg><line stroke=\"black\" x1=\"50%\" x2=\"50%\" y1=\"20px\" y2=\"48px\" /></svg><line stroke=\"black\" x1=\"50%\" x2=\"18.75%\" y1=\"20px\" y2=\"48px\" /><svg width=\"29.1667%\" x=\"37.5%\" y=\"48px\"><defs /><svg width=\"100%\" x=\"0\" y=\"0px\"><defs /><text text-anchor=\"middle\" x=\"50%\" y=\"16px\">Space</text></svg><svg width=\"100%\" x=\"0%\" y=\"48px\"><defs /><svg width=\"100%\" x=\"0\" y=\"0px\"><defs /><text text-anchor=\"middle\" x=\"50%\" y=\"16px\">NNP</text></svg></svg><line stroke=\"black\" x1=\"50%\" x2=\"50%\" y1=\"20px\" y2=\"48px\" /></svg><line stroke=\"black\" x1=\"50%\" x2=\"52.0833%\" y1=\"20px\" y2=\"48px\" /><svg width=\"33.3333%\" x=\"66.6667%\" y=\"48px\"><defs /><svg width=\"100%\" x=\"0\" y=\"0px\"><defs /><text text-anchor=\"middle\" x=\"50%\" y=\"16px\">Center</text></svg><svg width=\"100%\" x=\"0%\" y=\"48px\"><defs /><svg width=\"100%\" x=\"0\" y=\"0px\"><defs /><text text-anchor=\"middle\" x=\"50%\" y=\"16px\">NNP</text></svg></svg><line stroke=\"black\" x1=\"50%\" x2=\"50%\" y1=\"20px\" y2=\"48px\" /></svg><line stroke=\"black\" x1=\"50%\" x2=\"83.3333%\" y1=\"20px\" y2=\"48px\" /></svg><line stroke=\"black\" x1=\"50%\" x2=\"29.0055%\" y1=\"20px\" y2=\"48px\" /><svg width=\"0.552486%\" x=\"30.663%\" y=\"48px\"><defs /><svg width=\"100%\" x=\"0\" y=\"0px\"><defs /><text text-anchor=\"middle\" x=\"50%\" y=\"16px\">in</text></svg><svg width=\"100%\" x=\"0%\" y=\"48px\"><defs /><svg width=\"100%\" x=\"0\" y=\"0px\"><defs /><text text-anchor=\"middle\" x=\"50%\" y=\"16px\">IN</text></svg></svg><line stroke=\"black\" x1=\"50%\" x2=\"50%\" y1=\"20px\" y2=\"48px\" /></svg><line stroke=\"black\" x1=\"50%\" x2=\"30.9392%\" y1=\"20px\" y2=\"48px\" /><svg width=\"1.24309%\" x=\"31.2155%\" y=\"48px\"><defs /><svg width=\"100%\" x=\"0\" y=\"0px\"><defs /><text text-anchor=\"middle\" x=\"50%\" y=\"16px\">GPE</text></svg><svg width=\"100%\" x=\"0%\" y=\"48px\"><defs /><svg width=\"100%\" x=\"0\" y=\"0px\"><defs /><text text-anchor=\"middle\" x=\"50%\" y=\"16px\">Florida</text></svg><svg width=\"100%\" x=\"0%\" y=\"48px\"><defs /><svg width=\"100%\" x=\"0\" y=\"0px\"><defs /><text text-anchor=\"middle\" x=\"50%\" y=\"16px\">NNP</text></svg></svg><line stroke=\"black\" x1=\"50%\" x2=\"50%\" y1=\"20px\" y2=\"48px\" /></svg><line stroke=\"black\" x1=\"50%\" x2=\"50%\" y1=\"20px\" y2=\"48px\" /></svg><line stroke=\"black\" x1=\"50%\" x2=\"31.837%\" y1=\"20px\" y2=\"48px\" /><svg width=\"0.690608%\" x=\"32.4586%\" y=\"48px\"><defs /><svg width=\"100%\" x=\"0\" y=\"0px\"><defs /><text text-anchor=\"middle\" x=\"50%\" y=\"16px\">and</text></svg><svg width=\"100%\" x=\"0%\" y=\"48px\"><defs /><svg width=\"100%\" x=\"0\" y=\"0px\"><defs /><text text-anchor=\"middle\" x=\"50%\" y=\"16px\">CC</text></svg></svg><line stroke=\"black\" x1=\"50%\" x2=\"50%\" y1=\"20px\" y2=\"48px\" /></svg><line stroke=\"black\" x1=\"50%\" x2=\"32.8039%\" y1=\"20px\" y2=\"48px\" /><svg width=\"0.690608%\" x=\"33.1492%\" y=\"48px\"><defs /><svg width=\"100%\" x=\"0\" y=\"0px\"><defs /><text text-anchor=\"middle\" x=\"50%\" y=\"16px\">was</text></svg><svg width=\"100%\" x=\"0%\" y=\"48px\"><defs /><svg width=\"100%\" x=\"0\" y=\"0px\"><defs /><text text-anchor=\"middle\" x=\"50%\" y=\"16px\">VBD</text></svg></svg><line stroke=\"black\" x1=\"50%\" x2=\"50%\" y1=\"20px\" y2=\"48px\" /></svg><line stroke=\"black\" x1=\"50%\" x2=\"33.4945%\" y1=\"20px\" y2=\"48px\" /><svg width=\"1.24309%\" x=\"33.8398%\" y=\"48px\"><defs /><svg width=\"100%\" x=\"0\" y=\"0px\"><defs /><text text-anchor=\"middle\" x=\"50%\" y=\"16px\">watched</text></svg><svg width=\"100%\" x=\"0%\" y=\"48px\"><defs /><svg width=\"100%\" x=\"0\" y=\"0px\"><defs /><text text-anchor=\"middle\" x=\"50%\" y=\"16px\">VBN</text></svg></svg><line stroke=\"black\" x1=\"50%\" x2=\"50%\" y1=\"20px\" y2=\"48px\" /></svg><line stroke=\"black\" x1=\"50%\" x2=\"34.4613%\" y1=\"20px\" y2=\"48px\" /><svg width=\"0.828729%\" x=\"35.0829%\" y=\"48px\"><defs /><svg width=\"100%\" x=\"0\" y=\"0px\"><defs /><text text-anchor=\"middle\" x=\"50%\" y=\"16px\">live</text></svg><svg width=\"100%\" x=\"0%\" y=\"48px\"><defs /><svg width=\"100%\" x=\"0\" y=\"0px\"><defs /><text text-anchor=\"middle\" x=\"50%\" y=\"16px\">JJ</text></svg></svg><line stroke=\"black\" x1=\"50%\" x2=\"50%\" y1=\"20px\" y2=\"48px\" /></svg><line stroke=\"black\" x1=\"50%\" x2=\"35.4972%\" y1=\"20px\" y2=\"48px\" /><svg width=\"0.552486%\" x=\"35.9116%\" y=\"48px\"><defs /><svg width=\"100%\" x=\"0\" y=\"0px\"><defs /><text text-anchor=\"middle\" x=\"50%\" y=\"16px\">by</text></svg><svg width=\"100%\" x=\"0%\" y=\"48px\"><defs /><svg width=\"100%\" x=\"0\" y=\"0px\"><defs /><text text-anchor=\"middle\" x=\"50%\" y=\"16px\">IN</text></svg></svg><line stroke=\"black\" x1=\"50%\" x2=\"50%\" y1=\"20px\" y2=\"48px\" /></svg><line stroke=\"black\" x1=\"50%\" x2=\"36.1878%\" y1=\"20px\" y2=\"48px\" /><svg width=\"1.38122%\" x=\"36.4641%\" y=\"48px\"><defs /><svg width=\"100%\" x=\"0\" y=\"0px\"><defs /><text text-anchor=\"middle\" x=\"50%\" y=\"16px\">millions</text></svg><svg width=\"100%\" x=\"0%\" y=\"48px\"><defs /><svg width=\"100%\" x=\"0\" y=\"0px\"><defs /><text text-anchor=\"middle\" x=\"50%\" y=\"16px\">NNS</text></svg></svg><line stroke=\"black\" x1=\"50%\" x2=\"50%\" y1=\"20px\" y2=\"48px\" /></svg><line stroke=\"black\" x1=\"50%\" x2=\"37.1547%\" y1=\"20px\" y2=\"48px\" /><svg width=\"1.10497%\" x=\"37.8453%\" y=\"48px\"><defs /><svg width=\"100%\" x=\"0\" y=\"0px\"><defs /><text text-anchor=\"middle\" x=\"50%\" y=\"16px\">around</text></svg><svg width=\"100%\" x=\"0%\" y=\"48px\"><defs /><svg width=\"100%\" x=\"0\" y=\"0px\"><defs /><text text-anchor=\"middle\" x=\"50%\" y=\"16px\">IN</text></svg></svg><line stroke=\"black\" x1=\"50%\" x2=\"50%\" y1=\"20px\" y2=\"48px\" /></svg><line stroke=\"black\" x1=\"50%\" x2=\"38.3978%\" y1=\"20px\" y2=\"48px\" /><svg width=\"0.690608%\" x=\"38.9503%\" y=\"48px\"><defs /><svg width=\"100%\" x=\"0\" y=\"0px\"><defs /><text text-anchor=\"middle\" x=\"50%\" y=\"16px\">the</text></svg><svg width=\"100%\" x=\"0%\" y=\"48px\"><defs /><svg width=\"100%\" x=\"0\" y=\"0px\"><defs /><text text-anchor=\"middle\" x=\"50%\" y=\"16px\">DT</text></svg></svg><line stroke=\"black\" x1=\"50%\" x2=\"50%\" y1=\"20px\" y2=\"48px\" /></svg><line stroke=\"black\" x1=\"50%\" x2=\"39.2956%\" y1=\"20px\" y2=\"48px\" /><svg width=\"0.966851%\" x=\"39.6409%\" y=\"48px\"><defs /><svg width=\"100%\" x=\"0\" y=\"0px\"><defs /><text text-anchor=\"middle\" x=\"50%\" y=\"16px\">world</text></svg><svg width=\"100%\" x=\"0%\" y=\"48px\"><defs /><svg width=\"100%\" x=\"0\" y=\"0px\"><defs /><text text-anchor=\"middle\" x=\"50%\" y=\"16px\">NN</text></svg></svg><line stroke=\"black\" x1=\"50%\" x2=\"50%\" y1=\"20px\" y2=\"48px\" /></svg><line stroke=\"black\" x1=\"50%\" x2=\"40.1243%\" y1=\"20px\" y2=\"48px\" /><svg width=\"0.414365%\" x=\"40.6077%\" y=\"48px\"><defs /><svg width=\"100%\" x=\"0\" y=\"0px\"><defs /><text text-anchor=\"middle\" x=\"50%\" y=\"16px\">.</text></svg><svg width=\"100%\" x=\"0%\" y=\"48px\"><defs /><svg width=\"100%\" x=\"0\" y=\"0px\"><defs /><text text-anchor=\"middle\" x=\"50%\" y=\"16px\">.</text></svg></svg><line stroke=\"black\" x1=\"50%\" x2=\"50%\" y1=\"20px\" y2=\"48px\" /></svg><line stroke=\"black\" x1=\"50%\" x2=\"40.8149%\" y1=\"20px\" y2=\"48px\" /><svg width=\"1.51934%\" x=\"41.0221%\" y=\"48px\"><defs /><svg width=\"100%\" x=\"0\" y=\"0px\"><defs /><text text-anchor=\"middle\" x=\"50%\" y=\"16px\">Meanwhile</text></svg><svg width=\"100%\" x=\"0%\" y=\"48px\"><defs /><svg width=\"100%\" x=\"0\" y=\"0px\"><defs /><text text-anchor=\"middle\" x=\"50%\" y=\"16px\">RB</text></svg></svg><line stroke=\"black\" x1=\"50%\" x2=\"50%\" y1=\"20px\" y2=\"48px\" /></svg><line stroke=\"black\" x1=\"50%\" x2=\"41.7818%\" y1=\"20px\" y2=\"48px\" /><svg width=\"0.414365%\" x=\"42.5414%\" y=\"48px\"><defs /><svg width=\"100%\" x=\"0\" y=\"0px\"><defs /><text text-anchor=\"middle\" x=\"50%\" y=\"16px\">,</text></svg><svg width=\"100%\" x=\"0%\" y=\"48px\"><defs /><svg width=\"100%\" x=\"0\" y=\"0px\"><defs /><text text-anchor=\"middle\" x=\"50%\" y=\"16px\">,</text></svg></svg><line stroke=\"black\" x1=\"50%\" x2=\"50%\" y1=\"20px\" y2=\"48px\" /></svg><line stroke=\"black\" x1=\"50%\" x2=\"42.7486%\" y1=\"20px\" y2=\"48px\" /><svg width=\"0.828729%\" x=\"42.9558%\" y=\"48px\"><defs /><svg width=\"100%\" x=\"0\" y=\"0px\"><defs /><text text-anchor=\"middle\" x=\"50%\" y=\"16px\">back</text></svg><svg width=\"100%\" x=\"0%\" y=\"48px\"><defs /><svg width=\"100%\" x=\"0\" y=\"0px\"><defs /><text text-anchor=\"middle\" x=\"50%\" y=\"16px\">RB</text></svg></svg><line stroke=\"black\" x1=\"50%\" x2=\"50%\" y1=\"20px\" y2=\"48px\" /></svg><line stroke=\"black\" x1=\"50%\" x2=\"43.3702%\" y1=\"20px\" y2=\"48px\" /><svg width=\"0.552486%\" x=\"43.7845%\" y=\"48px\"><defs /><svg width=\"100%\" x=\"0\" y=\"0px\"><defs /><text text-anchor=\"middle\" x=\"50%\" y=\"16px\">on</text></svg><svg width=\"100%\" x=\"0%\" y=\"48px\"><defs /><svg width=\"100%\" x=\"0\" y=\"0px\"><defs /><text text-anchor=\"middle\" x=\"50%\" y=\"16px\">IN</text></svg></svg><line stroke=\"black\" x1=\"50%\" x2=\"50%\" y1=\"20px\" y2=\"48px\" /></svg><line stroke=\"black\" x1=\"50%\" x2=\"44.0608%\" y1=\"20px\" y2=\"48px\" /><svg width=\"0.966851%\" x=\"44.337%\" y=\"48px\"><defs /><svg width=\"100%\" x=\"0\" y=\"0px\"><defs /><text text-anchor=\"middle\" x=\"50%\" y=\"16px\">GPE</text></svg><svg width=\"100%\" x=\"0%\" y=\"48px\"><defs /><svg width=\"100%\" x=\"0\" y=\"0px\"><defs /><text text-anchor=\"middle\" x=\"50%\" y=\"16px\">Earth</text></svg><svg width=\"100%\" x=\"0%\" y=\"48px\"><defs /><svg width=\"100%\" x=\"0\" y=\"0px\"><defs /><text text-anchor=\"middle\" x=\"50%\" y=\"16px\">NNP</text></svg></svg><line stroke=\"black\" x1=\"50%\" x2=\"50%\" y1=\"20px\" y2=\"48px\" /></svg><line stroke=\"black\" x1=\"50%\" x2=\"50%\" y1=\"20px\" y2=\"48px\" /></svg><line stroke=\"black\" x1=\"50%\" x2=\"44.8204%\" y1=\"20px\" y2=\"48px\" /><svg width=\"0.414365%\" x=\"45.3039%\" y=\"48px\"><defs /><svg width=\"100%\" x=\"0\" y=\"0px\"><defs /><text text-anchor=\"middle\" x=\"50%\" y=\"16px\">,</text></svg><svg width=\"100%\" x=\"0%\" y=\"48px\"><defs /><svg width=\"100%\" x=\"0\" y=\"0px\"><defs /><text text-anchor=\"middle\" x=\"50%\" y=\"16px\">,</text></svg></svg><line stroke=\"black\" x1=\"50%\" x2=\"50%\" y1=\"20px\" y2=\"48px\" /></svg><line stroke=\"black\" x1=\"50%\" x2=\"45.511%\" y1=\"20px\" y2=\"48px\" /><svg width=\"1.51934%\" x=\"45.7182%\" y=\"48px\"><defs /><svg width=\"100%\" x=\"0\" y=\"0px\"><defs /><text text-anchor=\"middle\" x=\"50%\" y=\"16px\">President</text></svg><svg width=\"100%\" x=\"0%\" y=\"48px\"><defs /><svg width=\"100%\" x=\"0\" y=\"0px\"><defs /><text text-anchor=\"middle\" x=\"50%\" y=\"16px\">NNP</text></svg></svg><line stroke=\"black\" x1=\"50%\" x2=\"50%\" y1=\"20px\" y2=\"48px\" /></svg><line stroke=\"black\" x1=\"50%\" x2=\"46.4779%\" y1=\"20px\" y2=\"48px\" /><svg width=\"2.20994%\" x=\"47.2376%\" y=\"48px\"><defs /><svg width=\"100%\" x=\"0\" y=\"0px\"><defs /><text text-anchor=\"middle\" x=\"50%\" y=\"16px\">PERSON</text></svg><svg width=\"56.25%\" x=\"0%\" y=\"48px\"><defs /><svg width=\"100%\" x=\"0\" y=\"0px\"><defs /><text text-anchor=\"middle\" x=\"50%\" y=\"16px\">Richard</text></svg><svg width=\"100%\" x=\"0%\" y=\"48px\"><defs /><svg width=\"100%\" x=\"0\" y=\"0px\"><defs /><text text-anchor=\"middle\" x=\"50%\" y=\"16px\">NNP</text></svg></svg><line stroke=\"black\" x1=\"50%\" x2=\"50%\" y1=\"20px\" y2=\"48px\" /></svg><line stroke=\"black\" x1=\"50%\" x2=\"28.125%\" y1=\"20px\" y2=\"48px\" /><svg width=\"43.75%\" x=\"56.25%\" y=\"48px\"><defs /><svg width=\"100%\" x=\"0\" y=\"0px\"><defs /><text text-anchor=\"middle\" x=\"50%\" y=\"16px\">Nixon</text></svg><svg width=\"100%\" x=\"0%\" y=\"48px\"><defs /><svg width=\"100%\" x=\"0\" y=\"0px\"><defs /><text text-anchor=\"middle\" x=\"50%\" y=\"16px\">NNP</text></svg></svg><line stroke=\"black\" x1=\"50%\" x2=\"50%\" y1=\"20px\" y2=\"48px\" /></svg><line stroke=\"black\" x1=\"50%\" x2=\"78.125%\" y1=\"20px\" y2=\"48px\" /></svg><line stroke=\"black\" x1=\"50%\" x2=\"48.3425%\" y1=\"20px\" y2=\"48px\" /><svg width=\"1.10497%\" x=\"49.4475%\" y=\"48px\"><defs /><svg width=\"100%\" x=\"0\" y=\"0px\"><defs /><text text-anchor=\"middle\" x=\"50%\" y=\"16px\">called</text></svg><svg width=\"100%\" x=\"0%\" y=\"48px\"><defs /><svg width=\"100%\" x=\"0\" y=\"0px\"><defs /><text text-anchor=\"middle\" x=\"50%\" y=\"16px\">VBD</text></svg></svg><line stroke=\"black\" x1=\"50%\" x2=\"50%\" y1=\"20px\" y2=\"48px\" /></svg><line stroke=\"black\" x1=\"50%\" x2=\"50%\" y1=\"20px\" y2=\"48px\" /><svg width=\"0.690608%\" x=\"50.5525%\" y=\"48px\"><defs /><svg width=\"100%\" x=\"0\" y=\"0px\"><defs /><text text-anchor=\"middle\" x=\"50%\" y=\"16px\">the</text></svg><svg width=\"100%\" x=\"0%\" y=\"48px\"><defs /><svg width=\"100%\" x=\"0\" y=\"0px\"><defs /><text text-anchor=\"middle\" x=\"50%\" y=\"16px\">DT</text></svg></svg><line stroke=\"black\" x1=\"50%\" x2=\"50%\" y1=\"20px\" y2=\"48px\" /></svg><line stroke=\"black\" x1=\"50%\" x2=\"50.8978%\" y1=\"20px\" y2=\"48px\" /><svg width=\"1.65746%\" x=\"51.2431%\" y=\"48px\"><defs /><svg width=\"100%\" x=\"0\" y=\"0px\"><defs /><text text-anchor=\"middle\" x=\"50%\" y=\"16px\">astronauts</text></svg><svg width=\"100%\" x=\"0%\" y=\"48px\"><defs /><svg width=\"100%\" x=\"0\" y=\"0px\"><defs /><text text-anchor=\"middle\" x=\"50%\" y=\"16px\">NNS</text></svg></svg><line stroke=\"black\" x1=\"50%\" x2=\"50%\" y1=\"20px\" y2=\"48px\" /></svg><line stroke=\"black\" x1=\"50%\" x2=\"52.0718%\" y1=\"20px\" y2=\"48px\" /><svg width=\"0.828729%\" x=\"52.9006%\" y=\"48px\"><defs /><svg width=\"100%\" x=\"0\" y=\"0px\"><defs /><text text-anchor=\"middle\" x=\"50%\" y=\"16px\">from</text></svg><svg width=\"100%\" x=\"0%\" y=\"48px\"><defs /><svg width=\"100%\" x=\"0\" y=\"0px\"><defs /><text text-anchor=\"middle\" x=\"50%\" y=\"16px\">IN</text></svg></svg><line stroke=\"black\" x1=\"50%\" x2=\"50%\" y1=\"20px\" y2=\"48px\" /></svg><line stroke=\"black\" x1=\"50%\" x2=\"53.3149%\" y1=\"20px\" y2=\"48px\" /><svg width=\"0.690608%\" x=\"53.7293%\" y=\"48px\"><defs /><svg width=\"100%\" x=\"0\" y=\"0px\"><defs /><text text-anchor=\"middle\" x=\"50%\" y=\"16px\">the</text></svg><svg width=\"100%\" x=\"0%\" y=\"48px\"><defs /><svg width=\"100%\" x=\"0\" y=\"0px\"><defs /><text text-anchor=\"middle\" x=\"50%\" y=\"16px\">DT</text></svg></svg><line stroke=\"black\" x1=\"50%\" x2=\"50%\" y1=\"20px\" y2=\"48px\" /></svg><line stroke=\"black\" x1=\"50%\" x2=\"54.0746%\" y1=\"20px\" y2=\"48px\" /><svg width=\"1.9337%\" x=\"54.4199%\" y=\"48px\"><defs /><svg width=\"100%\" x=\"0\" y=\"0px\"><defs /><text text-anchor=\"middle\" x=\"50%\" y=\"16px\">FACILITY</text></svg><svg width=\"50%\" x=\"0%\" y=\"48px\"><defs /><svg width=\"100%\" x=\"0\" y=\"0px\"><defs /><text text-anchor=\"middle\" x=\"50%\" y=\"16px\">White</text></svg><svg width=\"100%\" x=\"0%\" y=\"48px\"><defs /><svg width=\"100%\" x=\"0\" y=\"0px\"><defs /><text text-anchor=\"middle\" x=\"50%\" y=\"16px\">NNP</text></svg></svg><line stroke=\"black\" x1=\"50%\" x2=\"50%\" y1=\"20px\" y2=\"48px\" /></svg><line stroke=\"black\" x1=\"50%\" x2=\"25%\" y1=\"20px\" y2=\"48px\" /><svg width=\"50%\" x=\"50%\" y=\"48px\"><defs /><svg width=\"100%\" x=\"0\" y=\"0px\"><defs /><text text-anchor=\"middle\" x=\"50%\" y=\"16px\">House</text></svg><svg width=\"100%\" x=\"0%\" y=\"48px\"><defs /><svg width=\"100%\" x=\"0\" y=\"0px\"><defs /><text text-anchor=\"middle\" x=\"50%\" y=\"16px\">NNP</text></svg></svg><line stroke=\"black\" x1=\"50%\" x2=\"50%\" y1=\"20px\" y2=\"48px\" /></svg><line stroke=\"black\" x1=\"50%\" x2=\"75%\" y1=\"20px\" y2=\"48px\" /></svg><line stroke=\"black\" x1=\"50%\" x2=\"55.3867%\" y1=\"20px\" y2=\"48px\" /><svg width=\"0.414365%\" x=\"56.3536%\" y=\"48px\"><defs /><svg width=\"100%\" x=\"0\" y=\"0px\"><defs /><text text-anchor=\"middle\" x=\"50%\" y=\"16px\">.</text></svg><svg width=\"100%\" x=\"0%\" y=\"48px\"><defs /><svg width=\"100%\" x=\"0\" y=\"0px\"><defs /><text text-anchor=\"middle\" x=\"50%\" y=\"16px\">.</text></svg></svg><line stroke=\"black\" x1=\"50%\" x2=\"50%\" y1=\"20px\" y2=\"48px\" /></svg><line stroke=\"black\" x1=\"50%\" x2=\"56.5608%\" y1=\"20px\" y2=\"48px\" /><svg width=\"0.966851%\" x=\"56.768%\" y=\"48px\"><defs /><svg width=\"100%\" x=\"0\" y=\"0px\"><defs /><text text-anchor=\"middle\" x=\"50%\" y=\"16px\">Today</text></svg><svg width=\"100%\" x=\"0%\" y=\"48px\"><defs /><svg width=\"100%\" x=\"0\" y=\"0px\"><defs /><text text-anchor=\"middle\" x=\"50%\" y=\"16px\">NN</text></svg></svg><line stroke=\"black\" x1=\"50%\" x2=\"50%\" y1=\"20px\" y2=\"48px\" /></svg><line stroke=\"black\" x1=\"50%\" x2=\"57.2514%\" y1=\"20px\" y2=\"48px\" /><svg width=\"0.414365%\" x=\"57.7348%\" y=\"48px\"><defs /><svg width=\"100%\" x=\"0\" y=\"0px\"><defs /><text text-anchor=\"middle\" x=\"50%\" y=\"16px\">,</text></svg><svg width=\"100%\" x=\"0%\" y=\"48px\"><defs /><svg width=\"100%\" x=\"0\" y=\"0px\"><defs /><text text-anchor=\"middle\" x=\"50%\" y=\"16px\">,</text></svg></svg><line stroke=\"black\" x1=\"50%\" x2=\"50%\" y1=\"20px\" y2=\"48px\" /></svg><line stroke=\"black\" x1=\"50%\" x2=\"57.942%\" y1=\"20px\" y2=\"48px\" /><svg width=\"1.51934%\" x=\"58.1492%\" y=\"48px\"><defs /><svg width=\"100%\" x=\"0\" y=\"0px\"><defs /><text text-anchor=\"middle\" x=\"50%\" y=\"16px\">companies</text></svg><svg width=\"100%\" x=\"0%\" y=\"48px\"><defs /><svg width=\"100%\" x=\"0\" y=\"0px\"><defs /><text text-anchor=\"middle\" x=\"50%\" y=\"16px\">NNS</text></svg></svg><line stroke=\"black\" x1=\"50%\" x2=\"50%\" y1=\"20px\" y2=\"48px\" /></svg><line stroke=\"black\" x1=\"50%\" x2=\"58.9088%\" y1=\"20px\" y2=\"48px\" /><svg width=\"0.828729%\" x=\"59.6685%\" y=\"48px\"><defs /><svg width=\"100%\" x=\"0\" y=\"0px\"><defs /><text text-anchor=\"middle\" x=\"50%\" y=\"16px\">like</text></svg><svg width=\"100%\" x=\"0%\" y=\"48px\"><defs /><svg width=\"100%\" x=\"0\" y=\"0px\"><defs /><text text-anchor=\"middle\" x=\"50%\" y=\"16px\">IN</text></svg></svg><line stroke=\"black\" x1=\"50%\" x2=\"50%\" y1=\"20px\" y2=\"48px\" /></svg><line stroke=\"black\" x1=\"50%\" x2=\"60.0829%\" y1=\"20px\" y2=\"48px\" /><svg width=\"1.9337%\" x=\"60.4972%\" y=\"48px\"><defs /><svg width=\"100%\" x=\"0\" y=\"0px\"><defs /><text text-anchor=\"middle\" x=\"50%\" y=\"16px\">ORGANIZATION</text></svg><svg width=\"100%\" x=\"0%\" y=\"48px\"><defs /><svg width=\"100%\" x=\"0\" y=\"0px\"><defs /><text text-anchor=\"middle\" x=\"50%\" y=\"16px\">SpaceX</text></svg><svg width=\"100%\" x=\"0%\" y=\"48px\"><defs /><svg width=\"100%\" x=\"0\" y=\"0px\"><defs /><text text-anchor=\"middle\" x=\"50%\" y=\"16px\">NNP</text></svg></svg><line stroke=\"black\" x1=\"50%\" x2=\"50%\" y1=\"20px\" y2=\"48px\" /></svg><line stroke=\"black\" x1=\"50%\" x2=\"50%\" y1=\"20px\" y2=\"48px\" /></svg><line stroke=\"black\" x1=\"50%\" x2=\"61.4641%\" y1=\"20px\" y2=\"48px\" /><svg width=\"0.690608%\" x=\"62.4309%\" y=\"48px\"><defs /><svg width=\"100%\" x=\"0\" y=\"0px\"><defs /><text text-anchor=\"middle\" x=\"50%\" y=\"16px\">and</text></svg><svg width=\"100%\" x=\"0%\" y=\"48px\"><defs /><svg width=\"100%\" x=\"0\" y=\"0px\"><defs /><text text-anchor=\"middle\" x=\"50%\" y=\"16px\">CC</text></svg></svg><line stroke=\"black\" x1=\"50%\" x2=\"50%\" y1=\"20px\" y2=\"48px\" /></svg><line stroke=\"black\" x1=\"50%\" x2=\"62.7762%\" y1=\"20px\" y2=\"48px\" /><svg width=\"1.9337%\" x=\"63.1215%\" y=\"48px\"><defs /><svg width=\"100%\" x=\"0\" y=\"0px\"><defs /><text text-anchor=\"middle\" x=\"50%\" y=\"16px\">PERSON</text></svg><svg width=\"42.8571%\" x=\"0%\" y=\"48px\"><defs /><svg width=\"100%\" x=\"0\" y=\"0px\"><defs /><text text-anchor=\"middle\" x=\"50%\" y=\"16px\">Blue</text></svg><svg width=\"100%\" x=\"0%\" y=\"48px\"><defs /><svg width=\"100%\" x=\"0\" y=\"0px\"><defs /><text text-anchor=\"middle\" x=\"50%\" y=\"16px\">NNP</text></svg></svg><line stroke=\"black\" x1=\"50%\" x2=\"50%\" y1=\"20px\" y2=\"48px\" /></svg><line stroke=\"black\" x1=\"50%\" x2=\"21.4286%\" y1=\"20px\" y2=\"48px\" /><svg width=\"57.1429%\" x=\"42.8571%\" y=\"48px\"><defs /><svg width=\"100%\" x=\"0\" y=\"0px\"><defs /><text text-anchor=\"middle\" x=\"50%\" y=\"16px\">Origin</text></svg><svg width=\"100%\" x=\"0%\" y=\"48px\"><defs /><svg width=\"100%\" x=\"0\" y=\"0px\"><defs /><text text-anchor=\"middle\" x=\"50%\" y=\"16px\">NNP</text></svg></svg><line stroke=\"black\" x1=\"50%\" x2=\"50%\" y1=\"20px\" y2=\"48px\" /></svg><line stroke=\"black\" x1=\"50%\" x2=\"71.4286%\" y1=\"20px\" y2=\"48px\" /></svg><line stroke=\"black\" x1=\"50%\" x2=\"64.0884%\" y1=\"20px\" y2=\"48px\" /><svg width=\"0.414365%\" x=\"65.0552%\" y=\"48px\"><defs /><svg width=\"100%\" x=\"0\" y=\"0px\"><defs /><text text-anchor=\"middle\" x=\"50%\" y=\"16px\">,</text></svg><svg width=\"100%\" x=\"0%\" y=\"48px\"><defs /><svg width=\"100%\" x=\"0\" y=\"0px\"><defs /><text text-anchor=\"middle\" x=\"50%\" y=\"16px\">,</text></svg></svg><line stroke=\"black\" x1=\"50%\" x2=\"50%\" y1=\"20px\" y2=\"48px\" /></svg><line stroke=\"black\" x1=\"50%\" x2=\"65.2624%\" y1=\"20px\" y2=\"48px\" /><svg width=\"0.690608%\" x=\"65.4696%\" y=\"48px\"><defs /><svg width=\"100%\" x=\"0\" y=\"0px\"><defs /><text text-anchor=\"middle\" x=\"50%\" y=\"16px\">led</text></svg><svg width=\"100%\" x=\"0%\" y=\"48px\"><defs /><svg width=\"100%\" x=\"0\" y=\"0px\"><defs /><text text-anchor=\"middle\" x=\"50%\" y=\"16px\">VBN</text></svg></svg><line stroke=\"black\" x1=\"50%\" x2=\"50%\" y1=\"20px\" y2=\"48px\" /></svg><line stroke=\"black\" x1=\"50%\" x2=\"65.8149%\" y1=\"20px\" y2=\"48px\" /><svg width=\"0.552486%\" x=\"66.1602%\" y=\"48px\"><defs /><svg width=\"100%\" x=\"0\" y=\"0px\"><defs /><text text-anchor=\"middle\" x=\"50%\" y=\"16px\">by</text></svg><svg width=\"100%\" x=\"0%\" y=\"48px\"><defs /><svg width=\"100%\" x=\"0\" y=\"0px\"><defs /><text text-anchor=\"middle\" x=\"50%\" y=\"16px\">IN</text></svg></svg><line stroke=\"black\" x1=\"50%\" x2=\"50%\" y1=\"20px\" y2=\"48px\" /></svg><line stroke=\"black\" x1=\"50%\" x2=\"66.4365%\" y1=\"20px\" y2=\"48px\" /><svg width=\"1.65746%\" x=\"66.7127%\" y=\"48px\"><defs /><svg width=\"100%\" x=\"0\" y=\"0px\"><defs /><text text-anchor=\"middle\" x=\"50%\" y=\"16px\">PERSON</text></svg><svg width=\"50%\" x=\"0%\" y=\"48px\"><defs /><svg width=\"100%\" x=\"0\" y=\"0px\"><defs /><text text-anchor=\"middle\" x=\"50%\" y=\"16px\">Elon</text></svg><svg width=\"100%\" x=\"0%\" y=\"48px\"><defs /><svg width=\"100%\" x=\"0\" y=\"0px\"><defs /><text text-anchor=\"middle\" x=\"50%\" y=\"16px\">NNP</text></svg></svg><line stroke=\"black\" x1=\"50%\" x2=\"50%\" y1=\"20px\" y2=\"48px\" /></svg><line stroke=\"black\" x1=\"50%\" x2=\"25%\" y1=\"20px\" y2=\"48px\" /><svg width=\"50%\" x=\"50%\" y=\"48px\"><defs /><svg width=\"100%\" x=\"0\" y=\"0px\"><defs /><text text-anchor=\"middle\" x=\"50%\" y=\"16px\">Musk</text></svg><svg width=\"100%\" x=\"0%\" y=\"48px\"><defs /><svg width=\"100%\" x=\"0\" y=\"0px\"><defs /><text text-anchor=\"middle\" x=\"50%\" y=\"16px\">NNP</text></svg></svg><line stroke=\"black\" x1=\"50%\" x2=\"50%\" y1=\"20px\" y2=\"48px\" /></svg><line stroke=\"black\" x1=\"50%\" x2=\"75%\" y1=\"20px\" y2=\"48px\" /></svg><line stroke=\"black\" x1=\"50%\" x2=\"67.5414%\" y1=\"20px\" y2=\"48px\" /><svg width=\"0.690608%\" x=\"68.3702%\" y=\"48px\"><defs /><svg width=\"100%\" x=\"0\" y=\"0px\"><defs /><text text-anchor=\"middle\" x=\"50%\" y=\"16px\">and</text></svg><svg width=\"100%\" x=\"0%\" y=\"48px\"><defs /><svg width=\"100%\" x=\"0\" y=\"0px\"><defs /><text text-anchor=\"middle\" x=\"50%\" y=\"16px\">CC</text></svg></svg><line stroke=\"black\" x1=\"50%\" x2=\"50%\" y1=\"20px\" y2=\"48px\" /></svg><line stroke=\"black\" x1=\"50%\" x2=\"68.7155%\" y1=\"20px\" y2=\"48px\" /><svg width=\"1.79558%\" x=\"69.0608%\" y=\"48px\"><defs /><svg width=\"100%\" x=\"0\" y=\"0px\"><defs /><text text-anchor=\"middle\" x=\"50%\" y=\"16px\">PERSON</text></svg><svg width=\"46.1538%\" x=\"0%\" y=\"48px\"><defs /><svg width=\"100%\" x=\"0\" y=\"0px\"><defs /><text text-anchor=\"middle\" x=\"50%\" y=\"16px\">Jeff</text></svg><svg width=\"100%\" x=\"0%\" y=\"48px\"><defs /><svg width=\"100%\" x=\"0\" y=\"0px\"><defs /><text text-anchor=\"middle\" x=\"50%\" y=\"16px\">NNP</text></svg></svg><line stroke=\"black\" x1=\"50%\" x2=\"50%\" y1=\"20px\" y2=\"48px\" /></svg><line stroke=\"black\" x1=\"50%\" x2=\"23.0769%\" y1=\"20px\" y2=\"48px\" /><svg width=\"53.8462%\" x=\"46.1538%\" y=\"48px\"><defs /><svg width=\"100%\" x=\"0\" y=\"0px\"><defs /><text text-anchor=\"middle\" x=\"50%\" y=\"16px\">Bezos</text></svg><svg width=\"100%\" x=\"0%\" y=\"48px\"><defs /><svg width=\"100%\" x=\"0\" y=\"0px\"><defs /><text text-anchor=\"middle\" x=\"50%\" y=\"16px\">NNP</text></svg></svg><line stroke=\"black\" x1=\"50%\" x2=\"50%\" y1=\"20px\" y2=\"48px\" /></svg><line stroke=\"black\" x1=\"50%\" x2=\"73.0769%\" y1=\"20px\" y2=\"48px\" /></svg><line stroke=\"black\" x1=\"50%\" x2=\"69.9586%\" y1=\"20px\" y2=\"48px\" /><svg width=\"1.9337%\" x=\"70.8564%\" y=\"48px\"><defs /><svg width=\"100%\" x=\"0\" y=\"0px\"><defs /><text text-anchor=\"middle\" x=\"50%\" y=\"16px\">respectively</text></svg><svg width=\"100%\" x=\"0%\" y=\"48px\"><defs /><svg width=\"100%\" x=\"0\" y=\"0px\"><defs /><text text-anchor=\"middle\" x=\"50%\" y=\"16px\">RB</text></svg></svg><line stroke=\"black\" x1=\"50%\" x2=\"50%\" y1=\"20px\" y2=\"48px\" /></svg><line stroke=\"black\" x1=\"50%\" x2=\"71.8232%\" y1=\"20px\" y2=\"48px\" /><svg width=\"0.414365%\" x=\"72.7901%\" y=\"48px\"><defs /><svg width=\"100%\" x=\"0\" y=\"0px\"><defs /><text text-anchor=\"middle\" x=\"50%\" y=\"16px\">,</text></svg><svg width=\"100%\" x=\"0%\" y=\"48px\"><defs /><svg width=\"100%\" x=\"0\" y=\"0px\"><defs /><text text-anchor=\"middle\" x=\"50%\" y=\"16px\">,</text></svg></svg><line stroke=\"black\" x1=\"50%\" x2=\"50%\" y1=\"20px\" y2=\"48px\" /></svg><line stroke=\"black\" x1=\"50%\" x2=\"72.9972%\" y1=\"20px\" y2=\"48px\" /><svg width=\"0.690608%\" x=\"73.2044%\" y=\"48px\"><defs /><svg width=\"100%\" x=\"0\" y=\"0px\"><defs /><text text-anchor=\"middle\" x=\"50%\" y=\"16px\">are</text></svg><svg width=\"100%\" x=\"0%\" y=\"48px\"><defs /><svg width=\"100%\" x=\"0\" y=\"0px\"><defs /><text text-anchor=\"middle\" x=\"50%\" y=\"16px\">VBP</text></svg></svg><line stroke=\"black\" x1=\"50%\" x2=\"50%\" y1=\"20px\" y2=\"48px\" /></svg><line stroke=\"black\" x1=\"50%\" x2=\"73.5497%\" y1=\"20px\" y2=\"48px\" /><svg width=\"1.24309%\" x=\"73.895%\" y=\"48px\"><defs /><svg width=\"100%\" x=\"0\" y=\"0px\"><defs /><text text-anchor=\"middle\" x=\"50%\" y=\"16px\">pushing</text></svg><svg width=\"100%\" x=\"0%\" y=\"48px\"><defs /><svg width=\"100%\" x=\"0\" y=\"0px\"><defs /><text text-anchor=\"middle\" x=\"50%\" y=\"16px\">VBG</text></svg></svg><line stroke=\"black\" x1=\"50%\" x2=\"50%\" y1=\"20px\" y2=\"48px\" /></svg><line stroke=\"black\" x1=\"50%\" x2=\"74.5166%\" y1=\"20px\" y2=\"48px\" /><svg width=\"0.690608%\" x=\"75.1381%\" y=\"48px\"><defs /><svg width=\"100%\" x=\"0\" y=\"0px\"><defs /><text text-anchor=\"middle\" x=\"50%\" y=\"16px\">the</text></svg><svg width=\"100%\" x=\"0%\" y=\"48px\"><defs /><svg width=\"100%\" x=\"0\" y=\"0px\"><defs /><text text-anchor=\"middle\" x=\"50%\" y=\"16px\">DT</text></svg></svg><line stroke=\"black\" x1=\"50%\" x2=\"50%\" y1=\"20px\" y2=\"48px\" /></svg><line stroke=\"black\" x1=\"50%\" x2=\"75.4834%\" y1=\"20px\" y2=\"48px\" /><svg width=\"1.65746%\" x=\"75.8287%\" y=\"48px\"><defs /><svg width=\"100%\" x=\"0\" y=\"0px\"><defs /><text text-anchor=\"middle\" x=\"50%\" y=\"16px\">boundaries</text></svg><svg width=\"100%\" x=\"0%\" y=\"48px\"><defs /><svg width=\"100%\" x=\"0\" y=\"0px\"><defs /><text text-anchor=\"middle\" x=\"50%\" y=\"16px\">NNS</text></svg></svg><line stroke=\"black\" x1=\"50%\" x2=\"50%\" y1=\"20px\" y2=\"48px\" /></svg><line stroke=\"black\" x1=\"50%\" x2=\"76.6575%\" y1=\"20px\" y2=\"48px\" /><svg width=\"0.552486%\" x=\"77.4862%\" y=\"48px\"><defs /><svg width=\"100%\" x=\"0\" y=\"0px\"><defs /><text text-anchor=\"middle\" x=\"50%\" y=\"16px\">of</text></svg><svg width=\"100%\" x=\"0%\" y=\"48px\"><defs /><svg width=\"100%\" x=\"0\" y=\"0px\"><defs /><text text-anchor=\"middle\" x=\"50%\" y=\"16px\">IN</text></svg></svg><line stroke=\"black\" x1=\"50%\" x2=\"50%\" y1=\"20px\" y2=\"48px\" /></svg><line stroke=\"black\" x1=\"50%\" x2=\"77.7624%\" y1=\"20px\" y2=\"48px\" /><svg width=\"0.966851%\" x=\"78.0387%\" y=\"48px\"><defs /><svg width=\"100%\" x=\"0\" y=\"0px\"><defs /><text text-anchor=\"middle\" x=\"50%\" y=\"16px\">space</text></svg><svg width=\"100%\" x=\"0%\" y=\"48px\"><defs /><svg width=\"100%\" x=\"0\" y=\"0px\"><defs /><text text-anchor=\"middle\" x=\"50%\" y=\"16px\">NN</text></svg></svg><line stroke=\"black\" x1=\"50%\" x2=\"50%\" y1=\"20px\" y2=\"48px\" /></svg><line stroke=\"black\" x1=\"50%\" x2=\"78.5221%\" y1=\"20px\" y2=\"48px\" /><svg width=\"1.79558%\" x=\"79.0055%\" y=\"48px\"><defs /><svg width=\"100%\" x=\"0\" y=\"0px\"><defs /><text text-anchor=\"middle\" x=\"50%\" y=\"16px\">exploration</text></svg><svg width=\"100%\" x=\"0%\" y=\"48px\"><defs /><svg width=\"100%\" x=\"0\" y=\"0px\"><defs /><text text-anchor=\"middle\" x=\"50%\" y=\"16px\">NN</text></svg></svg><line stroke=\"black\" x1=\"50%\" x2=\"50%\" y1=\"20px\" y2=\"48px\" /></svg><line stroke=\"black\" x1=\"50%\" x2=\"79.9033%\" y1=\"20px\" y2=\"48px\" /><svg width=\"0.414365%\" x=\"80.8011%\" y=\"48px\"><defs /><svg width=\"100%\" x=\"0\" y=\"0px\"><defs /><text text-anchor=\"middle\" x=\"50%\" y=\"16px\">.</text></svg><svg width=\"100%\" x=\"0%\" y=\"48px\"><defs /><svg width=\"100%\" x=\"0\" y=\"0px\"><defs /><text text-anchor=\"middle\" x=\"50%\" y=\"16px\">.</text></svg></svg><line stroke=\"black\" x1=\"50%\" x2=\"50%\" y1=\"20px\" y2=\"48px\" /></svg><line stroke=\"black\" x1=\"50%\" x2=\"81.0083%\" y1=\"20px\" y2=\"48px\" /><svg width=\"0.690608%\" x=\"81.2155%\" y=\"48px\"><defs /><svg width=\"100%\" x=\"0\" y=\"0px\"><defs /><text text-anchor=\"middle\" x=\"50%\" y=\"16px\">The</text></svg><svg width=\"100%\" x=\"0%\" y=\"48px\"><defs /><svg width=\"100%\" x=\"0\" y=\"0px\"><defs /><text text-anchor=\"middle\" x=\"50%\" y=\"16px\">DT</text></svg></svg><line stroke=\"black\" x1=\"50%\" x2=\"50%\" y1=\"20px\" y2=\"48px\" /></svg><line stroke=\"black\" x1=\"50%\" x2=\"81.5608%\" y1=\"20px\" y2=\"48px\" /><svg width=\"1.10497%\" x=\"81.9061%\" y=\"48px\"><defs /><svg width=\"100%\" x=\"0\" y=\"0px\"><defs /><text text-anchor=\"middle\" x=\"50%\" y=\"16px\">global</text></svg><svg width=\"100%\" x=\"0%\" y=\"48px\"><defs /><svg width=\"100%\" x=\"0\" y=\"0px\"><defs /><text text-anchor=\"middle\" x=\"50%\" y=\"16px\">JJ</text></svg></svg><line stroke=\"black\" x1=\"50%\" x2=\"50%\" y1=\"20px\" y2=\"48px\" /></svg><line stroke=\"black\" x1=\"50%\" x2=\"82.4586%\" y1=\"20px\" y2=\"48px\" /><svg width=\"0.966851%\" x=\"83.011%\" y=\"48px\"><defs /><svg width=\"100%\" x=\"0\" y=\"0px\"><defs /><text text-anchor=\"middle\" x=\"50%\" y=\"16px\">space</text></svg><svg width=\"100%\" x=\"0%\" y=\"48px\"><defs /><svg width=\"100%\" x=\"0\" y=\"0px\"><defs /><text text-anchor=\"middle\" x=\"50%\" y=\"16px\">NN</text></svg></svg><line stroke=\"black\" x1=\"50%\" x2=\"50%\" y1=\"20px\" y2=\"48px\" /></svg><line stroke=\"black\" x1=\"50%\" x2=\"83.4945%\" y1=\"20px\" y2=\"48px\" /><svg width=\"1.38122%\" x=\"83.9779%\" y=\"48px\"><defs /><svg width=\"100%\" x=\"0\" y=\"0px\"><defs /><text text-anchor=\"middle\" x=\"50%\" y=\"16px\">industry</text></svg><svg width=\"100%\" x=\"0%\" y=\"48px\"><defs /><svg width=\"100%\" x=\"0\" y=\"0px\"><defs /><text text-anchor=\"middle\" x=\"50%\" y=\"16px\">NN</text></svg></svg><line stroke=\"black\" x1=\"50%\" x2=\"50%\" y1=\"20px\" y2=\"48px\" /></svg><line stroke=\"black\" x1=\"50%\" x2=\"84.6685%\" y1=\"20px\" y2=\"48px\" /><svg width=\"0.690608%\" x=\"85.3591%\" y=\"48px\"><defs /><svg width=\"100%\" x=\"0\" y=\"0px\"><defs /><text text-anchor=\"middle\" x=\"50%\" y=\"16px\">is</text></svg><svg width=\"100%\" x=\"0%\" y=\"48px\"><defs /><svg width=\"100%\" x=\"0\" y=\"0px\"><defs /><text text-anchor=\"middle\" x=\"50%\" y=\"16px\">VBZ</text></svg></svg><line stroke=\"black\" x1=\"50%\" x2=\"50%\" y1=\"20px\" y2=\"48px\" /></svg><line stroke=\"black\" x1=\"50%\" x2=\"85.7044%\" y1=\"20px\" y2=\"48px\" /><svg width=\"1.51934%\" x=\"86.0497%\" y=\"48px\"><defs /><svg width=\"100%\" x=\"0\" y=\"0px\"><defs /><text text-anchor=\"middle\" x=\"50%\" y=\"16px\">projected</text></svg><svg width=\"100%\" x=\"0%\" y=\"48px\"><defs /><svg width=\"100%\" x=\"0\" y=\"0px\"><defs /><text text-anchor=\"middle\" x=\"50%\" y=\"16px\">VBN</text></svg></svg><line stroke=\"black\" x1=\"50%\" x2=\"50%\" y1=\"20px\" y2=\"48px\" /></svg><line stroke=\"black\" x1=\"50%\" x2=\"86.8094%\" y1=\"20px\" y2=\"48px\" /><svg width=\"0.552486%\" x=\"87.5691%\" y=\"48px\"><defs /><svg width=\"100%\" x=\"0\" y=\"0px\"><defs /><text text-anchor=\"middle\" x=\"50%\" y=\"16px\">to</text></svg><svg width=\"100%\" x=\"0%\" y=\"48px\"><defs /><svg width=\"100%\" x=\"0\" y=\"0px\"><defs /><text text-anchor=\"middle\" x=\"50%\" y=\"16px\">TO</text></svg></svg><line stroke=\"black\" x1=\"50%\" x2=\"50%\" y1=\"20px\" y2=\"48px\" /></svg><line stroke=\"black\" x1=\"50%\" x2=\"87.8453%\" y1=\"20px\" y2=\"48px\" /><svg width=\"0.966851%\" x=\"88.1215%\" y=\"48px\"><defs /><svg width=\"100%\" x=\"0\" y=\"0px\"><defs /><text text-anchor=\"middle\" x=\"50%\" y=\"16px\">reach</text></svg><svg width=\"100%\" x=\"0%\" y=\"48px\"><defs /><svg width=\"100%\" x=\"0\" y=\"0px\"><defs /><text text-anchor=\"middle\" x=\"50%\" y=\"16px\">VB</text></svg></svg><line stroke=\"black\" x1=\"50%\" x2=\"50%\" y1=\"20px\" y2=\"48px\" /></svg><line stroke=\"black\" x1=\"50%\" x2=\"88.605%\" y1=\"20px\" y2=\"48px\" /><svg width=\"0.414365%\" x=\"89.0884%\" y=\"48px\"><defs /><svg width=\"100%\" x=\"0\" y=\"0px\"><defs /><text text-anchor=\"middle\" x=\"50%\" y=\"16px\">$</text></svg><svg width=\"100%\" x=\"0%\" y=\"48px\"><defs /><svg width=\"100%\" x=\"0\" y=\"0px\"><defs /><text text-anchor=\"middle\" x=\"50%\" y=\"16px\">$</text></svg></svg><line stroke=\"black\" x1=\"50%\" x2=\"50%\" y1=\"20px\" y2=\"48px\" /></svg><line stroke=\"black\" x1=\"50%\" x2=\"89.2956%\" y1=\"20px\" y2=\"48px\" /><svg width=\"0.552486%\" x=\"89.5028%\" y=\"48px\"><defs /><svg width=\"100%\" x=\"0\" y=\"0px\"><defs /><text text-anchor=\"middle\" x=\"50%\" y=\"16px\">1</text></svg><svg width=\"100%\" x=\"0%\" y=\"48px\"><defs /><svg width=\"100%\" x=\"0\" y=\"0px\"><defs /><text text-anchor=\"middle\" x=\"50%\" y=\"16px\">CD</text></svg></svg><line stroke=\"black\" x1=\"50%\" x2=\"50%\" y1=\"20px\" y2=\"48px\" /></svg><line stroke=\"black\" x1=\"50%\" x2=\"89.779%\" y1=\"20px\" y2=\"48px\" /><svg width=\"1.38122%\" x=\"90.0552%\" y=\"48px\"><defs /><svg width=\"100%\" x=\"0\" y=\"0px\"><defs /><text text-anchor=\"middle\" x=\"50%\" y=\"16px\">trillion</text></svg><svg width=\"100%\" x=\"0%\" y=\"48px\"><defs /><svg width=\"100%\" x=\"0\" y=\"0px\"><defs /><text text-anchor=\"middle\" x=\"50%\" y=\"16px\">CD</text></svg></svg><line stroke=\"black\" x1=\"50%\" x2=\"50%\" y1=\"20px\" y2=\"48px\" /></svg><line stroke=\"black\" x1=\"50%\" x2=\"90.7459%\" y1=\"20px\" y2=\"48px\" /><svg width=\"0.552486%\" x=\"91.4365%\" y=\"48px\"><defs /><svg width=\"100%\" x=\"0\" y=\"0px\"><defs /><text text-anchor=\"middle\" x=\"50%\" y=\"16px\">by</text></svg><svg width=\"100%\" x=\"0%\" y=\"48px\"><defs /><svg width=\"100%\" x=\"0\" y=\"0px\"><defs /><text text-anchor=\"middle\" x=\"50%\" y=\"16px\">IN</text></svg></svg><line stroke=\"black\" x1=\"50%\" x2=\"50%\" y1=\"20px\" y2=\"48px\" /></svg><line stroke=\"black\" x1=\"50%\" x2=\"91.7127%\" y1=\"20px\" y2=\"48px\" /><svg width=\"0.828729%\" x=\"91.989%\" y=\"48px\"><defs /><svg width=\"100%\" x=\"0\" y=\"0px\"><defs /><text text-anchor=\"middle\" x=\"50%\" y=\"16px\">2040</text></svg><svg width=\"100%\" x=\"0%\" y=\"48px\"><defs /><svg width=\"100%\" x=\"0\" y=\"0px\"><defs /><text text-anchor=\"middle\" x=\"50%\" y=\"16px\">CD</text></svg></svg><line stroke=\"black\" x1=\"50%\" x2=\"50%\" y1=\"20px\" y2=\"48px\" /></svg><line stroke=\"black\" x1=\"50%\" x2=\"92.4033%\" y1=\"20px\" y2=\"48px\" /><svg width=\"0.414365%\" x=\"92.8177%\" y=\"48px\"><defs /><svg width=\"100%\" x=\"0\" y=\"0px\"><defs /><text text-anchor=\"middle\" x=\"50%\" y=\"16px\">,</text></svg><svg width=\"100%\" x=\"0%\" y=\"48px\"><defs /><svg width=\"100%\" x=\"0\" y=\"0px\"><defs /><text text-anchor=\"middle\" x=\"50%\" y=\"16px\">,</text></svg></svg><line stroke=\"black\" x1=\"50%\" x2=\"50%\" y1=\"20px\" y2=\"48px\" /></svg><line stroke=\"black\" x1=\"50%\" x2=\"93.0249%\" y1=\"20px\" y2=\"48px\" /><svg width=\"1.51934%\" x=\"93.232%\" y=\"48px\"><defs /><svg width=\"100%\" x=\"0\" y=\"0px\"><defs /><text text-anchor=\"middle\" x=\"50%\" y=\"16px\">according</text></svg><svg width=\"100%\" x=\"0%\" y=\"48px\"><defs /><svg width=\"100%\" x=\"0\" y=\"0px\"><defs /><text text-anchor=\"middle\" x=\"50%\" y=\"16px\">VBG</text></svg></svg><line stroke=\"black\" x1=\"50%\" x2=\"50%\" y1=\"20px\" y2=\"48px\" /></svg><line stroke=\"black\" x1=\"50%\" x2=\"93.9917%\" y1=\"20px\" y2=\"48px\" /><svg width=\"0.552486%\" x=\"94.7514%\" y=\"48px\"><defs /><svg width=\"100%\" x=\"0\" y=\"0px\"><defs /><text text-anchor=\"middle\" x=\"50%\" y=\"16px\">to</text></svg><svg width=\"100%\" x=\"0%\" y=\"48px\"><defs /><svg width=\"100%\" x=\"0\" y=\"0px\"><defs /><text text-anchor=\"middle\" x=\"50%\" y=\"16px\">TO</text></svg></svg><line stroke=\"black\" x1=\"50%\" x2=\"50%\" y1=\"20px\" y2=\"48px\" /></svg><line stroke=\"black\" x1=\"50%\" x2=\"95.0276%\" y1=\"20px\" y2=\"48px\" /><svg width=\"1.38122%\" x=\"95.3039%\" y=\"48px\"><defs /><svg width=\"100%\" x=\"0\" y=\"0px\"><defs /><text text-anchor=\"middle\" x=\"50%\" y=\"16px\">analysts</text></svg><svg width=\"100%\" x=\"0%\" y=\"48px\"><defs /><svg width=\"100%\" x=\"0\" y=\"0px\"><defs /><text text-anchor=\"middle\" x=\"50%\" y=\"16px\">NNS</text></svg></svg><line stroke=\"black\" x1=\"50%\" x2=\"50%\" y1=\"20px\" y2=\"48px\" /></svg><line stroke=\"black\" x1=\"50%\" x2=\"95.9945%\" y1=\"20px\" y2=\"48px\" /><svg width=\"0.552486%\" x=\"96.6851%\" y=\"48px\"><defs /><svg width=\"100%\" x=\"0\" y=\"0px\"><defs /><text text-anchor=\"middle\" x=\"50%\" y=\"16px\">at</text></svg><svg width=\"100%\" x=\"0%\" y=\"48px\"><defs /><svg width=\"100%\" x=\"0\" y=\"0px\"><defs /><text text-anchor=\"middle\" x=\"50%\" y=\"16px\">IN</text></svg></svg><line stroke=\"black\" x1=\"50%\" x2=\"50%\" y1=\"20px\" y2=\"48px\" /></svg><line stroke=\"black\" x1=\"50%\" x2=\"96.9613%\" y1=\"20px\" y2=\"48px\" /><svg width=\"2.34807%\" x=\"97.2376%\" y=\"48px\"><defs /><svg width=\"100%\" x=\"0\" y=\"0px\"><defs /><text text-anchor=\"middle\" x=\"50%\" y=\"16px\">ORGANIZATION</text></svg><svg width=\"47.0588%\" x=\"0%\" y=\"48px\"><defs /><svg width=\"100%\" x=\"0\" y=\"0px\"><defs /><text text-anchor=\"middle\" x=\"50%\" y=\"16px\">Morgan</text></svg><svg width=\"100%\" x=\"0%\" y=\"48px\"><defs /><svg width=\"100%\" x=\"0\" y=\"0px\"><defs /><text text-anchor=\"middle\" x=\"50%\" y=\"16px\">NNP</text></svg></svg><line stroke=\"black\" x1=\"50%\" x2=\"50%\" y1=\"20px\" y2=\"48px\" /></svg><line stroke=\"black\" x1=\"50%\" x2=\"23.5294%\" y1=\"20px\" y2=\"48px\" /><svg width=\"52.9412%\" x=\"47.0588%\" y=\"48px\"><defs /><svg width=\"100%\" x=\"0\" y=\"0px\"><defs /><text text-anchor=\"middle\" x=\"50%\" y=\"16px\">Stanley</text></svg><svg width=\"100%\" x=\"0%\" y=\"48px\"><defs /><svg width=\"100%\" x=\"0\" y=\"0px\"><defs /><text text-anchor=\"middle\" x=\"50%\" y=\"16px\">NNP</text></svg></svg><line stroke=\"black\" x1=\"50%\" x2=\"50%\" y1=\"20px\" y2=\"48px\" /></svg><line stroke=\"black\" x1=\"50%\" x2=\"73.5294%\" y1=\"20px\" y2=\"48px\" /></svg><line stroke=\"black\" x1=\"50%\" x2=\"98.4116%\" y1=\"20px\" y2=\"48px\" /><svg width=\"0.414365%\" x=\"99.5856%\" y=\"48px\"><defs /><svg width=\"100%\" x=\"0\" y=\"0px\"><defs /><text text-anchor=\"middle\" x=\"50%\" y=\"16px\">.</text></svg><svg width=\"100%\" x=\"0%\" y=\"48px\"><defs /><svg width=\"100%\" x=\"0\" y=\"0px\"><defs /><text text-anchor=\"middle\" x=\"50%\" y=\"16px\">.</text></svg></svg><line stroke=\"black\" x1=\"50%\" x2=\"50%\" y1=\"20px\" y2=\"48px\" /></svg><line stroke=\"black\" x1=\"50%\" x2=\"99.7928%\" y1=\"20px\" y2=\"48px\" /></svg>"
      ],
      "text/plain": [
       "Tree('S', [('On', 'IN'), ('July', 'NNP'), ('20', 'CD'), (',', ','), ('1969', 'CD'), (',', ','), ('astronaut', 'FW'), Tree('PERSON', [('Neil', 'NNP'), ('Armstrong', 'NNP')]), ('became', 'VBD'), ('the', 'DT'), ('first', 'JJ'), ('human', 'NN'), ('to', 'TO'), ('walk', 'VB'), ('on', 'IN'), ('the', 'DT'), Tree('ORGANIZATION', [('Moon', 'NNP')]), ('during', 'IN'), Tree('ORGANIZATION', [('NASA', 'NNP')]), (\"'s\", 'POS'), ('Apollo', 'NNP'), ('11', 'CD'), ('mission', 'NN'), ('.', '.'), ('The', 'DT'), ('spacecraft', 'NN'), ('launched', 'VBN'), ('from', 'IN'), Tree('PERSON', [('Kennedy', 'NNP'), ('Space', 'NNP'), ('Center', 'NNP')]), ('in', 'IN'), Tree('GPE', [('Florida', 'NNP')]), ('and', 'CC'), ('was', 'VBD'), ('watched', 'VBN'), ('live', 'JJ'), ('by', 'IN'), ('millions', 'NNS'), ('around', 'IN'), ('the', 'DT'), ('world', 'NN'), ('.', '.'), ('Meanwhile', 'RB'), (',', ','), ('back', 'RB'), ('on', 'IN'), Tree('GPE', [('Earth', 'NNP')]), (',', ','), ('President', 'NNP'), Tree('PERSON', [('Richard', 'NNP'), ('Nixon', 'NNP')]), ('called', 'VBD'), ('the', 'DT'), ('astronauts', 'NNS'), ('from', 'IN'), ('the', 'DT'), Tree('FACILITY', [('White', 'NNP'), ('House', 'NNP')]), ('.', '.'), ('Today', 'NN'), (',', ','), ('companies', 'NNS'), ('like', 'IN'), Tree('ORGANIZATION', [('SpaceX', 'NNP')]), ('and', 'CC'), Tree('PERSON', [('Blue', 'NNP'), ('Origin', 'NNP')]), (',', ','), ('led', 'VBN'), ('by', 'IN'), Tree('PERSON', [('Elon', 'NNP'), ('Musk', 'NNP')]), ('and', 'CC'), Tree('PERSON', [('Jeff', 'NNP'), ('Bezos', 'NNP')]), ('respectively', 'RB'), (',', ','), ('are', 'VBP'), ('pushing', 'VBG'), ('the', 'DT'), ('boundaries', 'NNS'), ('of', 'IN'), ('space', 'NN'), ('exploration', 'NN'), ('.', '.'), ('The', 'DT'), ('global', 'JJ'), ('space', 'NN'), ('industry', 'NN'), ('is', 'VBZ'), ('projected', 'VBN'), ('to', 'TO'), ('reach', 'VB'), ('$', '$'), ('1', 'CD'), ('trillion', 'CD'), ('by', 'IN'), ('2040', 'CD'), (',', ','), ('according', 'VBG'), ('to', 'TO'), ('analysts', 'NNS'), ('at', 'IN'), Tree('ORGANIZATION', [('Morgan', 'NNP'), ('Stanley', 'NNP')]), ('.', '.')])"
      ]
     },
     "execution_count": 50,
     "metadata": {},
     "output_type": "execute_result"
    }
   ],
   "source": [
    "nltk.ne_chunk(tag_elements)"
   ]
  },
  {
   "cell_type": "markdown",
   "id": "306a9c79-efa6-4a92-9ed6-d18409e4fc46",
   "metadata": {},
   "source": [
    "<!DOCTYPE html>\n",
    "<html lang=\"en\">\n",
    "<head>\n",
    "  <meta charset=\"UTF-8\">\n",
    "  <title>One-Hot Encoding Explained</title>\n",
    "</head>\n",
    "<body>\n",
    "\n",
    "  <h1>🔢 One-Hot Encoding</h1>\n",
    "\n",
    "  <p>\n",
    "    One-hot encoding is a technique used to convert categorical variables into a format that can be provided to machine learning algorithms. It transforms each category into a binary vector where only one bit is \"hot\" (i.e., set to 1) and the rest are 0.\n",
    "  </p>\n",
    "\n",
    "  <h2>📌 Example</h2>\n",
    "  <p>Suppose we have a categorical feature called <strong>Color</strong> with three possible values:</p>\n",
    "  <ul>\n",
    "    <li>Red</li>\n",
    "    <li>Green</li>\n",
    "    <li>Blue</li>\n",
    "  </ul>\n",
    "\n",
    "  <p>One-hot encoding would transform this into:</p>\n",
    "  <table border=\"1\" cellpadding=\"5\">\n",
    "    <tr>\n",
    "      <th>Color</th>\n",
    "      <th>Red</th>\n",
    "      <th>Green</th>\n",
    "      <th>Blue</th>\n",
    "    </tr>\n",
    "    <tr>\n",
    "      <td>Red</td>\n",
    "      <td>1</td>\n",
    "      <td>0</td>\n",
    "      <td>0</td>\n",
    "    </tr>\n",
    "    <tr>\n",
    "      <td>Green</td>\n",
    "      <td>0</td>\n",
    "      <td>1</td>\n",
    "      <td>0</td>\n",
    "    </tr>\n",
    "    <tr>\n",
    "      <td>Blue</td>\n",
    "      <td>0</td>\n",
    "      <td>0</td>\n",
    "      <td>1</td>\n",
    "    </tr>\n",
    "  </table>\n",
    "\n",
    "  <h2>💻 Python Code Example</h2>\n",
    "  <pre>\n",
    "from sklearn.preprocessing import OneHotEncoder\n",
    "import pandas as pd\n",
    "\n",
    "# Sample data\n",
    "df = pd.DataFrame({'Color': ['Red', 'Green', 'Blue', 'Red']})\n",
    "\n",
    "# Initialize encoder\n",
    "encoder = OneHotEncoder(sparse=False)\n",
    "\n",
    "# Fit and transform\n",
    "encoded = encoder.fit_transform(df[['Color']])\n",
    "\n",
    "# Convert to DataFrame for readability\n",
    "encoded_df = pd.DataFrame(encoded, columns=encoder.get_feature_names_out(['Color']))\n",
    "print(encoded_df)\n",
    "  </pre>\n",
    "\n",
    "  <h2>✅ Advantages</h2>\n",
    "  <ul>\n",
    "    <li><strong>No ordinal relationship:</strong> Prevents algorithms from assuming any order between categories.</li>\n",
    "    <li><strong>Widely supported:</strong> Most machine learning models handle binary inputs well.</li>\n",
    "    <li><strong>Simple and effective:</strong> Easy to implement and interpret.</li>\n",
    "  </ul>\n",
    "\n",
    "  <h2>⚠️ Disadvantages</h2>\n",
    "  <ul>\n",
    "    <li><strong>High dimensionality:</strong> Can lead to a large number of features if the category has many unique values (e.g., countries, zip codes).</li>\n",
    "    <li><strong>Sparse data:</strong> Most values are zero, which can be inefficient in terms of memory and computation.</li>\n",
    "    <li><strong>Not suitable for tree-based models:</strong> Sometimes label encoding works better for decision trees and random forests.</li>\n",
    "  </ul>\n",
    "\n",
    "\n",
    "  <h2>📚 Use Case Example</h2>\n",
    "  <p>\n",
    "    If you're building a model to predict customer churn and one of the features is \"Contract Type\" with values like \"Monthly\", \"Yearly\", and \"Two-Year\", one-hot encoding ensures the model doesn't assume \"Two-Year\" is greater than \"Monthly\"—it treats them as distinct categories.\n",
    "  </p>\n",
    "\n",
    "</body>\n",
    "</html>"
   ]
  },
  {
   "cell_type": "markdown",
   "id": "21854c7e-9cdc-4cb6-89ca-de76b38d691d",
   "metadata": {},
   "source": [
    "## OHE is not used mostly in any company as there are better techniques for text to vector conversation but having a basic idea is good"
   ]
  },
  {
   "cell_type": "markdown",
   "id": "1b36da4c-0b01-4a0e-8ac5-8c86d1efc3c0",
   "metadata": {},
   "source": [
    "<!DOCTYPE html>\n",
    "<html lang=\"en\">\n",
    "<head>\n",
    "  <meta charset=\"UTF-8\">\n",
    "  <title>Bag of Words Explained</title>\n",
    "</head>\n",
    "<body>\n",
    "\n",
    "  <h1>🧠 Bag of Words (BoW) Model</h1>\n",
    "\n",
    "  <p>\n",
    "    The Bag of Words model is a simple and widely used technique in Natural Language Processing (NLP) to convert text into numerical features. It treats each document as a collection (or \"bag\") of individual words, disregarding grammar and word order but keeping multiplicity.\n",
    "  </p>\n",
    "\n",
    "  <h2>📦 Types of Bag of Words</h2>\n",
    "  <ul>\n",
    "    <li><strong>Binary Bag of Words:</strong> Each word is represented as 1 if it appears in the document, 0 otherwise. It ignores word frequency.</li>\n",
    "    <li><strong>Count-based Bag of Words:</strong> Each word is represented by the number of times it appears in the document.</li>\n",
    "  </ul>\n",
    "\n",
    "  <h2>📌 Example</h2>\n",
    "  <p>Consider two sentences:</p>\n",
    "  <ul>\n",
    "    <li>\"Food is good\"</li>\n",
    "    <li>\"Food is not good\"</li>\n",
    "  </ul>\n",
    "\n",
    "  <p>The vocabulary is: [Food, is, good, not]</p>\n",
    "\n",
    "  <p><strong>Count-based BoW:</strong></p>\n",
    "  <table border=\"1\" cellpadding=\"5\">\n",
    "    <tr>\n",
    "      <th>Sentence</th>\n",
    "      <th>Food</th>\n",
    "      <th>is</th>\n",
    "      <th>good</th>\n",
    "      <th>not</th>\n",
    "    </tr>\n",
    "    <tr>\n",
    "      <td>Food is good</td>\n",
    "      <td>1</td>\n",
    "      <td>1</td>\n",
    "      <td>1</td>\n",
    "      <td>0</td>\n",
    "    </tr>\n",
    "    <tr>\n",
    "      <td>Food is not good</td>\n",
    "      <td>1</td>\n",
    "      <td>1</td>\n",
    "      <td>1</td>\n",
    "      <td>1</td>\n",
    "    </tr>\n",
    "  </table>\n",
    "\n",
    "  <h2>✅ Advantages</h2>\n",
    "  <ul>\n",
    "    <li><strong>Simple and intuitive:</strong> Easy to implement and understand.</li>\n",
    "    <li><strong>Effective for small datasets:</strong> Works well when vocabulary size is limited.</li>\n",
    "    <li><strong>Compatible with many ML models:</strong> Can be used with algorithms like Naive Bayes, Logistic Regression, and SVM.</li>\n",
    "  </ul>\n",
    "\n",
    "  <h2>⚠️ Disadvantages</h2>\n",
    "  <ul>\n",
    "    <li>\n",
    "      <strong>Sparse Matrix & Overfitting:</strong>\n",
    "      BoW creates high-dimensional vectors with mostly zeros, especially when the vocabulary is large. This sparsity can lead to overfitting, where the model learns noise instead of meaningful patterns.\n",
    "    </li>\n",
    "    <li>\n",
    "      <strong>Fixed Size Input for ML Algorithms:</strong>\n",
    "      Machine learning models require fixed-size input vectors. BoW forces all documents to conform to the same vector length, which can be inefficient and inflexible.\n",
    "    </li>\n",
    "    <li>\n",
    "      <strong>No Semantic Meaning Captured:</strong>\n",
    "      BoW ignores word order and context. For example, \"Food is good\" and \"Food is not good\" will have very similar vectors, even though their meanings are opposite. This can mislead models into treating them as equivalent.\n",
    "    </li>\n",
    "    <li>\n",
    "      <strong>Out of Vocabulary (OOV) Issue:</strong>\n",
    "      If a word appears in a new document but wasn't in the training vocabulary, it gets ignored. This limits the model’s ability to generalize to unseen data.\n",
    "    </li>\n",
    "  </ul>\n",
    "\n",
    "  <h2>📚 Use Case</h2>\n",
    "  <p>\n",
    "    BoW is often used in spam detection, sentiment analysis, and document classification. For example, in spam filtering, frequent words like \"free\", \"win\", or \"money\" can be strong indicators when encoded using BoW.\n",
    "  </p>\n",
    "\n",
    "</body>\n",
    "</html>"
   ]
  },
  {
   "cell_type": "markdown",
   "id": "1f926f43-cd29-4459-845e-9a3629f45e18",
   "metadata": {},
   "source": [
    "<!DOCTYPE html>\n",
    "<html lang=\"en\">\n",
    "<head>\n",
    "  <meta charset=\"UTF-8\">\n",
    "  <title>Disadvantages of One-Hot Encoding and Bag of Words</title>\n",
    "  <style>\n",
    "    body {\n",
    "      font-family: Arial, sans-serif;\n",
    "      line-height: 1.6;\n",
    "      margin: 20px;\n",
    "      background-color: #f9f9f9;\n",
    "    }\n",
    "    h1, h2 {\n",
    "      color: #333;\n",
    "    }\n",
    "    .technique {\n",
    "      background: #fff;\n",
    "      border: 2px solid #ddd;\n",
    "      border-radius: 10px;\n",
    "      padding: 20px;\n",
    "      margin-bottom: 20px;\n",
    "      box-shadow: 0px 2px 5px rgba(0,0,0,0.1);\n",
    "    }\n",
    "    .disadvantage {\n",
    "      margin-bottom: 15px;\n",
    "      padding: 10px;\n",
    "      background: #f1f1f1;\n",
    "      border-left: 5px solid #ff6666;\n",
    "      border-radius: 5px;\n",
    "    }\n",
    "    .example {\n",
    "      margin-top: 5px;\n",
    "      color: #555;\n",
    "      font-style: italic;\n",
    "    }\n",
    "  </style>\n",
    "</head>\n",
    "<body>\n",
    "\n",
    "  <h1>Disadvantages of One-Hot Encoding and Bag of Words</h1>\n",
    "\n",
    "  <div class=\"technique\">\n",
    "    <h2>📌 Disadvantage 1: Sparse Matrix → Overfitting</h2>\n",
    "    <p><b>Technique:</b> Both One-Hot Encoding & Bag of Words</p>\n",
    "    <p>\n",
    "      A <b>sparse matrix</b> means most of the values are zero. Since there are many columns \n",
    "      (features) with very few non-zero values, machine learning models may pick up \n",
    "      random noise, leading to <b>overfitting</b>.\n",
    "    </p>\n",
    "    <p><b>Overfitting:</b> When a model learns the training data too well, including noise, and fails on new data.</p>\n",
    "    <div class=\"example\">\n",
    "      Example:  \n",
    "      \"I like apples\" → [1,0,0,0,0...]  \n",
    "      \"I like oranges\" → [0,1,0,0,0...]  \n",
    "      Both create huge vectors mostly filled with 0. A model may start memorizing instead of generalizing.\n",
    "    </div>\n",
    "  </div>\n",
    "\n",
    "  <div class=\"technique\">\n",
    "    <h2>📌 Disadvantage 2: Fixed Length Vectors</h2>\n",
    "    <p><b>Technique:</b> Both One-Hot Encoding & Bag of Words</p>\n",
    "    <p>\n",
    "      Machine learning algorithms require input vectors of the same length.  \n",
    "      To achieve this, we must fix a vocabulary size, which may cut off new words \n",
    "      or make vectors unnecessarily large.\n",
    "    </p>\n",
    "    <div class=\"example\">\n",
    "      Example: If vocabulary = {cat, dog, apple}, then  \n",
    "      \"cat\" → [1,0,0]  \n",
    "      \"dog\" → [0,1,0]  \n",
    "      \"apple\" → [0,0,1]  \n",
    "      But if a new word \"banana\" appears, we cannot represent it without rebuilding the vocabulary.\n",
    "    </div>\n",
    "  </div>\n",
    "\n",
    "  <div class=\"technique\">\n",
    "    <h2>📌 Disadvantage 3: No Semantic Meaning Captured</h2>\n",
    "    <p><b>Technique:</b> Mainly Bag of Words</p>\n",
    "    <p>\n",
    "      Bag of Words ignores the context and meaning of words.  \n",
    "      Sentences with opposite meanings can end up with very similar vectors.\n",
    "    </p>\n",
    "    <div class=\"example\">\n",
    "      Example:  \n",
    "      \"Food is good\" → [1,1,1,0,...]  \n",
    "      \"Food is not good\" → [1,1,1,1,...]  \n",
    "      The difference is only one word (\"not\"), but the vectors look very similar even though \n",
    "      the meanings are completely opposite.\n",
    "    </div>\n",
    "  </div>\n",
    "\n",
    "  <div class=\"technique\">\n",
    "    <h2>📌 Disadvantage 4: Out of Vocabulary (OOV)</h2>\n",
    "    <p><b>Technique:</b> Both One-Hot Encoding & Bag of Words</p>\n",
    "    <p>\n",
    "      If a word is not present in the training vocabulary, the model cannot handle it \n",
    "      and represents it as unknown.\n",
    "    </p>\n",
    "    <div class=\"example\">\n",
    "      Example: If training vocabulary is {dog, cat},  \n",
    "      then sentence \"lion is strong\" cannot be represented properly, \n",
    "      since \"lion\" and \"strong\" are missing.\n",
    "    </div>\n",
    "  </div>\n",
    "\n",
    "  <div class=\"technique\">\n",
    "    <h2>📌 Disadvantage 5: Loss of Word Order</h2>\n",
    "    <p><b>Technique:</b> Bag of Words</p>\n",
    "    <p>\n",
    "      Bag of Words ignores the sequence of words. This means that two sentences with \n",
    "      completely different meanings but same words in different orders will have identical vectors.\n",
    "    </p>\n",
    "    <div class=\"example\">\n",
    "      Example:  \n",
    "      \"Dog bites man\" → [1,1,1,...]  \n",
    "      \"Man bites dog\" → [1,1,1,...]  \n",
    "      Both get the same vector, even though the meaning is different.\n",
    "    </div>\n",
    "  </div>\n",
    "\n",
    "</body>\n",
    "</html>\n"
   ]
  },
  {
   "cell_type": "code",
   "execution_count": 51,
   "id": "d15a9275-8d2c-40a6-9516-1c7fd8d6f716",
   "metadata": {},
   "outputs": [],
   "source": [
    "BOW_documents = [\n",
    "    \"I luv this phone!!! It's sooo good 😊🔥\",\n",
    "    \"Worst phone ever... battery dies in 2 hrs :(\",\n",
    "    \"Pretty decent. Camera ok, but screen cracked easily.\",\n",
    "    \"LOVE the design, but hate the software updates 😤\",\n",
    "    \"idk why ppl hype this. not worth $$ imo\",\n",
    "    \"Service was good, product was average lol\",\n",
    "    \"Best purchase ever!!! will recommend 100%\",\n",
    "    \"bad bad bad quality. waste of money!!!\",\n",
    "    \"Camera is gr8, but charger stopped working in a week :/\",\n",
    "    \"super fast delivery!! thx 👍👍👍\"\n",
    "]"
   ]
  },
  {
   "cell_type": "code",
   "execution_count": 52,
   "id": "e746085c-ec03-4015-9a4c-e8a29bf81d3e",
   "metadata": {
    "scrolled": true
   },
   "outputs": [
    {
     "data": {
      "text/plain": [
       "['luv phone sooo good',\n",
       " 'worst phone ever battery dy hr',\n",
       " 'pretty decent camera ok screen cracked easily',\n",
       " 'love design hate software update',\n",
       " 'idk ppl hype worth imo',\n",
       " 'service good product average lol',\n",
       " 'best purchase ever recommend',\n",
       " 'bad bad bad quality waste money',\n",
       " 'camera gr charger stopped working week',\n",
       " 'super fast delivery thx']"
      ]
     },
     "execution_count": 52,
     "metadata": {},
     "output_type": "execute_result"
    }
   ],
   "source": [
    "import re\n",
    "import nltk\n",
    "\n",
    "from nltk.stem import WordNetLemmatizer\n",
    "from nltk.corpus import stopwords\n",
    "lemmatizer = WordNetLemmatizer()\n",
    "corpus=[]\n",
    "\n",
    "for i in BOW_documents:\n",
    "    mid_data = re.sub('[^a-zA-Z]',' ',i)\n",
    "    mid_data=mid_data.lower().replace(\"  \",\" \").split()\n",
    "    mid_data = [lemmatizer.lemmatize(word) for word in mid_data if word not in set(stopwords.words(\"english\"))]\n",
    "    mid_data = ' '.join(mid_data)\n",
    "    corpus.append(mid_data)\n",
    "\n",
    "\n",
    "corpus"
   ]
  },
  {
   "cell_type": "code",
   "execution_count": 53,
   "id": "abc5573e-39a5-4f97-9ae6-86c36b4fc4a0",
   "metadata": {},
   "outputs": [],
   "source": [
    "from sklearn.feature_extraction.text import CountVectorizer\n"
   ]
  },
  {
   "cell_type": "markdown",
   "id": "8a486b06-abd6-450a-8ce9-708afd8ed7bd",
   "metadata": {},
   "source": [
    "Breaking it down:\n",
    "\n",
    "sklearn → Stands for scikit-learn, a Python library for Machine Learning.\n",
    "\n",
    "feature_extraction → Module inside scikit-learn that provides tools to convert raw data (like text, images) into numerical features that ML algorithms can understand.\n",
    "\n",
    "text → Submodule that specifically deals with text data.\n",
    "\n",
    "CountVectorizer → A class (tool) that transforms a collection of text documents into a matrix of token counts (Bag of Words model)."
   ]
  },
  {
   "cell_type": "code",
   "execution_count": 54,
   "id": "fd88e8fe-106f-4e3a-a006-e5c620dbaa86",
   "metadata": {},
   "outputs": [
    {
     "data": {
      "text/plain": [
       "<Compressed Sparse Row sparse matrix of dtype 'int64'\n",
       "\twith 19 stored elements and shape (10, 15)>"
      ]
     },
     "execution_count": 54,
     "metadata": {},
     "output_type": "execute_result"
    }
   ],
   "source": [
    "cv=CountVectorizer(max_features=15,binary=True)  # here a lot features like lower, binary(if binary BOW or count BOW), stopwords, ngram, max_features like how many top featurs are needed\n",
    "\n",
    "X=cv.fit_transform(corpus)\n",
    "X"
   ]
  },
  {
   "cell_type": "code",
   "execution_count": 55,
   "id": "db6b1cb6-1dcb-4d34-9cd8-b538d0263d88",
   "metadata": {
    "scrolled": true
   },
   "outputs": [
    {
     "data": {
      "text/plain": [
       "array([[0, 0, 0, 0, 0, 0, 0, 0, 0, 0, 0, 0, 0, 1, 1],\n",
       "       [0, 1, 0, 0, 0, 0, 0, 0, 0, 1, 0, 1, 0, 0, 1],\n",
       "       [0, 0, 0, 1, 0, 1, 1, 0, 0, 0, 1, 0, 0, 0, 0],\n",
       "       [0, 0, 0, 0, 0, 0, 0, 0, 1, 0, 0, 0, 0, 0, 0],\n",
       "       [0, 0, 0, 0, 0, 0, 0, 0, 0, 0, 0, 0, 0, 0, 0],\n",
       "       [1, 0, 0, 0, 0, 0, 0, 0, 0, 0, 0, 0, 0, 1, 0],\n",
       "       [0, 0, 1, 0, 0, 0, 0, 0, 0, 0, 0, 1, 0, 0, 0],\n",
       "       [0, 0, 0, 0, 0, 0, 0, 0, 0, 0, 0, 0, 0, 0, 0],\n",
       "       [0, 0, 0, 1, 1, 0, 0, 0, 0, 0, 0, 0, 0, 0, 0],\n",
       "       [0, 0, 0, 0, 0, 0, 0, 1, 0, 0, 0, 0, 1, 0, 0]])"
      ]
     },
     "execution_count": 55,
     "metadata": {},
     "output_type": "execute_result"
    }
   ],
   "source": [
    "X.toarray()"
   ]
  },
  {
   "cell_type": "markdown",
   "id": "ddb32559-7bca-4b0a-aa45-3c5f8248f079",
   "metadata": {},
   "source": [
    "<!DOCTYPE html>\n",
    "<html lang=\"en\">\n",
    "<head>\n",
    "  <meta charset=\"UTF-8\">\n",
    "  <title>N-grams Explained</title>\n",
    "  <style>\n",
    "    body {\n",
    "      font-family: Arial, sans-serif;\n",
    "      margin: 20px;\n",
    "      background-color: #f9f9f9;\n",
    "      line-height: 1.6;\n",
    "    }\n",
    "    h1, h2 {\n",
    "      color: #333;\n",
    "    }\n",
    "    .card {\n",
    "      background: #fff;\n",
    "      border: 1px solid #ddd;\n",
    "      border-radius: 8px;\n",
    "      padding: 16px;\n",
    "      margin-bottom: 20px;\n",
    "      box-shadow: 0 2px 6px rgba(0,0,0,0.1);\n",
    "    }\n",
    "    .example {\n",
    "      background: #f1f1f1;\n",
    "      padding: 10px;\n",
    "      border-radius: 5px;\n",
    "      margin-top: 10px;\n",
    "    }\n",
    "    ul {\n",
    "      margin: 8px 0;\n",
    "    }\n",
    "    .pros { color: green; }\n",
    "    .cons { color: red; }\n",
    "  </style>\n",
    "</head>\n",
    "<body>\n",
    "\n",
    "  <h1>🔹 N-grams Explained</h1>\n",
    "\n",
    "  <div class=\"card\">\n",
    "    <h2>What is an N-gram?</h2>\n",
    "    <p>\n",
    "      An <b>n-gram</b> is a sequence of <b>n words</b>.  \n",
    "      <br>👉 <b>Unigram (n=1)</b> = single words  \n",
    "      <br>👉 <b>Bigram (n=2)</b> = pairs of words  \n",
    "      <br>👉 <b>Trigram (n=3)</b> = triplets of words\n",
    "    </p>\n",
    "    <div class=\"example\">\n",
    "      <p><b>Sentence:</b> \"I love machine learning\"</p>\n",
    "      <p><b>Unigrams:</b> [I, love, machine, learning]</p>\n",
    "      <p><b>Bigrams:</b> [I love, love machine, machine learning]</p>\n",
    "      <p><b>Trigrams:</b> [I love machine, love machine learning]</p>\n",
    "    </div>\n",
    "  </div>\n",
    "\n",
    "  <div class=\"card\">\n",
    "    <h2>Why N-grams Matter</h2>\n",
    "    <div class=\"example\">\n",
    "      <p><b>Sentence 1:</b> \"Food is good\"</p>\n",
    "      <p><b>Sentence 2:</b> \"Food is not good\"</p>\n",
    "      <p>\n",
    "        - Using <b>unigrams</b>, both look similar (food, is, good).  \n",
    "        - Using <b>bigrams</b>, \"not good\" is captured, showing the true negative meaning.\n",
    "      </p>\n",
    "    </div>\n",
    "  </div>\n",
    "\n",
    "  <div class=\"card\">\n",
    "    <h2>✅ Pros</h2>\n",
    "    <ul class=\"pros\">\n",
    "      <li>Catches important phrases (e.g., \"not good\", \"New York\").</li>\n",
    "      <li>Improves sentiment analysis by capturing context.</li>\n",
    "      <li>Simple and easy to implement.</li>\n",
    "    </ul>\n",
    "\n",
    "    <h2>❌ Cons</h2>\n",
    "    <ul class=\"cons\">\n",
    "      <li>Vocabulary size grows quickly (memory heavy).</li>\n",
    "      <li>Results in sparse data → can lead to overfitting.</li>\n",
    "      <li>Still only captures short context (bigram/trigram, not full meaning).</li>\n",
    "    </ul>\n",
    "  </div>\n",
    "\n",
    "  <div class=\"card\">\n",
    "    <h2>📌 Common Use Cases</h2>\n",
    "    <ul>\n",
    "      <li><b>Sentiment Analysis</b>: Detect negations like \"not bad\".</li>\n",
    "      <li><b>Text Classification</b>: Identify key phrases like \"credit card\".</li>\n",
    "      <li><b>Search Engines</b>: Match phrase queries (\"New York hotels\").</li>\n",
    "      <li><b>Language Models</b>: Predict next word using word sequences.</li>\n",
    "    </ul>\n",
    "  </div>\n",
    "\n",
    "</body>\n",
    "</html>\n"
   ]
  },
  {
   "cell_type": "code",
   "execution_count": 60,
   "id": "d61c90f1-deb5-45ed-a665-d6d2a558900c",
   "metadata": {},
   "outputs": [
    {
     "data": {
      "text/plain": [
       "{'phone': np.int64(14),\n",
       " 'good': np.int64(13),\n",
       " 'ever': np.int64(11),\n",
       " 'battery': np.int64(1),\n",
       " 'dy': np.int64(9),\n",
       " 'decent': np.int64(6),\n",
       " 'camera': np.int64(3),\n",
       " 'cracked': np.int64(5),\n",
       " 'easily': np.int64(10),\n",
       " 'design': np.int64(8),\n",
       " 'average': np.int64(0),\n",
       " 'best': np.int64(2),\n",
       " 'charger': np.int64(4),\n",
       " 'fast': np.int64(12),\n",
       " 'delivery': np.int64(7)}"
      ]
     },
     "execution_count": 60,
     "metadata": {},
     "output_type": "execute_result"
    }
   ],
   "source": [
    "cv.vocabulary_"
   ]
  },
  {
   "cell_type": "code",
   "execution_count": 62,
   "id": "360fd136-87c7-4c30-8439-928b75d5c298",
   "metadata": {},
   "outputs": [
    {
     "data": {
      "text/plain": [
       "array([[0, 0, 0, 0, 0, 0, 0, 0, 0, 0, 0, 0, 0, 1, 1],\n",
       "       [0, 1, 0, 0, 0, 0, 0, 0, 0, 1, 0, 1, 0, 0, 1],\n",
       "       [0, 0, 0, 1, 0, 1, 1, 0, 0, 0, 1, 0, 0, 0, 0],\n",
       "       [0, 0, 0, 0, 0, 0, 0, 0, 1, 0, 0, 0, 0, 0, 0],\n",
       "       [0, 0, 0, 0, 0, 0, 0, 0, 0, 0, 0, 0, 0, 0, 0],\n",
       "       [1, 0, 0, 0, 0, 0, 0, 0, 0, 0, 0, 0, 0, 1, 0],\n",
       "       [0, 0, 1, 0, 0, 0, 0, 0, 0, 0, 0, 1, 0, 0, 0],\n",
       "       [0, 0, 0, 0, 0, 0, 0, 0, 0, 0, 0, 0, 0, 0, 0],\n",
       "       [0, 0, 0, 1, 1, 0, 0, 0, 0, 0, 0, 0, 0, 0, 0],\n",
       "       [0, 0, 0, 0, 0, 0, 0, 1, 0, 0, 0, 0, 1, 0, 0]])"
      ]
     },
     "execution_count": 62,
     "metadata": {},
     "output_type": "execute_result"
    }
   ],
   "source": [
    "from sklearn.feature_extraction.text import CountVectorizer\n",
    "cv=CountVectorizer(max_features=15,binary=True,ngram_range=(1,1))  # here a lot features like lower, binary(if binary BOW or count BOW), stopwords, ngram, max_features like how many top featurs are needed\n",
    "\n",
    "X=cv.fit_transform(corpus)\n",
    "X.toarray()\n",
    "\n"
   ]
  },
  {
   "cell_type": "code",
   "execution_count": 63,
   "id": "67294b68-3ba2-4033-a4b1-b36fb1d5a934",
   "metadata": {},
   "outputs": [
    {
     "data": {
      "text/plain": [
       "{'phone': np.int64(14),\n",
       " 'good': np.int64(13),\n",
       " 'ever': np.int64(11),\n",
       " 'battery': np.int64(1),\n",
       " 'dy': np.int64(9),\n",
       " 'decent': np.int64(6),\n",
       " 'camera': np.int64(3),\n",
       " 'cracked': np.int64(5),\n",
       " 'easily': np.int64(10),\n",
       " 'design': np.int64(8),\n",
       " 'average': np.int64(0),\n",
       " 'best': np.int64(2),\n",
       " 'charger': np.int64(4),\n",
       " 'fast': np.int64(12),\n",
       " 'delivery': np.int64(7)}"
      ]
     },
     "execution_count": 63,
     "metadata": {},
     "output_type": "execute_result"
    }
   ],
   "source": [
    "cv.vocabulary_"
   ]
  },
  {
   "cell_type": "code",
   "execution_count": 64,
   "id": "de78e51a-7fa4-425c-ac26-e4bfb62eded5",
   "metadata": {
    "scrolled": true
   },
   "outputs": [
    {
     "data": {
      "text/plain": [
       "array([[0, 0, 0, 0, 0, 0, 0, 0, 0, 0, 0, 0, 0, 1, 1],\n",
       "       [0, 0, 0, 1, 1, 0, 0, 0, 0, 0, 0, 0, 1, 0, 1],\n",
       "       [0, 0, 0, 0, 0, 0, 0, 1, 0, 1, 0, 0, 0, 0, 0],\n",
       "       [0, 0, 0, 0, 0, 0, 0, 0, 0, 0, 0, 0, 0, 0, 0],\n",
       "       [0, 0, 0, 0, 0, 0, 0, 0, 0, 0, 0, 0, 0, 0, 0],\n",
       "       [1, 0, 0, 0, 0, 0, 0, 0, 0, 0, 0, 0, 0, 1, 0],\n",
       "       [0, 0, 0, 0, 0, 1, 1, 0, 0, 0, 0, 0, 1, 0, 0],\n",
       "       [0, 1, 1, 0, 0, 0, 0, 0, 0, 0, 0, 0, 0, 0, 0],\n",
       "       [0, 0, 0, 0, 0, 0, 0, 1, 1, 0, 1, 1, 0, 0, 0],\n",
       "       [0, 0, 0, 0, 0, 0, 0, 0, 0, 0, 0, 0, 0, 0, 0]])"
      ]
     },
     "execution_count": 64,
     "metadata": {},
     "output_type": "execute_result"
    }
   ],
   "source": [
    "#unigram and bigram\n",
    "cv=CountVectorizer(max_features=15,binary=True,ngram_range=(1,2))  # here a lot features like lower, binary(if binary BOW or count BOW), stopwords, ngram, max_features like how many top featurs are needed\n",
    "\n",
    "X=cv.fit_transform(corpus)\n",
    "X.toarray()"
   ]
  },
  {
   "cell_type": "code",
   "execution_count": 65,
   "id": "2c5976f1-47b2-4d04-8d25-6feced907cb0",
   "metadata": {
    "scrolled": true
   },
   "outputs": [
    {
     "data": {
      "text/plain": [
       "{'phone': np.int64(14),\n",
       " 'good': np.int64(13),\n",
       " 'ever': np.int64(12),\n",
       " 'battery': np.int64(3),\n",
       " 'battery dy': np.int64(4),\n",
       " 'camera': np.int64(7),\n",
       " 'camera ok': np.int64(9),\n",
       " 'average': np.int64(0),\n",
       " 'best': np.int64(5),\n",
       " 'best purchase': np.int64(6),\n",
       " 'bad': np.int64(1),\n",
       " 'bad quality': np.int64(2),\n",
       " 'charger': np.int64(10),\n",
       " 'camera gr': np.int64(8),\n",
       " 'charger stopped': np.int64(11)}"
      ]
     },
     "execution_count": 65,
     "metadata": {},
     "output_type": "execute_result"
    }
   ],
   "source": [
    "cv.vocabulary_"
   ]
  },
  {
   "cell_type": "code",
   "execution_count": 66,
   "id": "b58cbfa4-2fcb-4cb7-98ca-68263dc77164",
   "metadata": {
    "scrolled": true
   },
   "outputs": [
    {
     "data": {
      "text/plain": [
       "array([[0, 0, 0, 0, 0, 0, 0, 0, 0, 0, 0, 0, 0, 0, 0],\n",
       "       [0, 0, 0, 0, 0, 0, 1, 1, 0, 0, 0, 0, 0, 0, 0],\n",
       "       [0, 0, 0, 0, 0, 0, 0, 0, 0, 0, 0, 0, 1, 1, 0],\n",
       "       [0, 0, 0, 0, 0, 0, 0, 0, 0, 0, 0, 0, 0, 0, 0],\n",
       "       [0, 0, 0, 0, 0, 0, 0, 0, 0, 0, 0, 0, 0, 0, 0],\n",
       "       [1, 0, 0, 0, 0, 0, 0, 0, 0, 0, 0, 0, 0, 0, 0],\n",
       "       [0, 0, 0, 0, 0, 0, 0, 0, 1, 1, 0, 0, 0, 0, 0],\n",
       "       [0, 1, 1, 1, 1, 1, 0, 0, 0, 0, 0, 0, 0, 0, 0],\n",
       "       [0, 0, 0, 0, 0, 0, 0, 0, 0, 0, 1, 1, 0, 0, 1],\n",
       "       [0, 0, 0, 0, 0, 0, 0, 0, 0, 0, 0, 0, 0, 0, 0]])"
      ]
     },
     "execution_count": 66,
     "metadata": {},
     "output_type": "execute_result"
    }
   ],
   "source": [
    "#bigram and trigram\n",
    "cv=CountVectorizer(max_features=15,binary=True,ngram_range=(2,3))  # here a lot features like lower, binary(if binary BOW or count BOW), stopwords, ngram, max_features like how many top featurs are needed\n",
    "\n",
    "X=cv.fit_transform(corpus)\n",
    "X.toarray()"
   ]
  },
  {
   "cell_type": "code",
   "execution_count": 67,
   "id": "cec1c579-cc90-42cf-b958-adb61e5a4bf2",
   "metadata": {
    "scrolled": true
   },
   "outputs": [
    {
     "data": {
      "text/plain": [
       "{'battery dy': np.int64(6),\n",
       " 'battery dy hr': np.int64(7),\n",
       " 'camera ok': np.int64(12),\n",
       " 'camera ok screen': np.int64(13),\n",
       " 'average lol': np.int64(0),\n",
       " 'best purchase': np.int64(8),\n",
       " 'best purchase ever': np.int64(9),\n",
       " 'bad bad': np.int64(1),\n",
       " 'bad quality': np.int64(4),\n",
       " 'bad bad bad': np.int64(2),\n",
       " 'bad bad quality': np.int64(3),\n",
       " 'bad quality waste': np.int64(5),\n",
       " 'camera gr': np.int64(10),\n",
       " 'charger stopped': np.int64(14),\n",
       " 'camera gr charger': np.int64(11)}"
      ]
     },
     "execution_count": 67,
     "metadata": {},
     "output_type": "execute_result"
    }
   ],
   "source": [
    "cv.vocabulary_"
   ]
  },
  {
   "cell_type": "markdown",
   "id": "d93d21fc-0d3e-4e14-b25b-2e3cd79496ef",
   "metadata": {},
   "source": [
    "<!DOCTYPE html>\n",
    "<html lang=\"en\">\n",
    "<head>\n",
    "  <meta charset=\"UTF-8\">\n",
    "  <title>N-grams and CountVectorizer Explained</title>\n",
    "  <style>\n",
    "    body { font-family: Arial, sans-serif; line-height: 1.6; padding: 20px; background: #fdfdfd; }\n",
    "    h2 { color: #2c3e50; border-bottom: 2px solid #ddd; padding-bottom: 5px; }\n",
    "    h3 { color: #34495e; }\n",
    "    .box { background: #f8f9fa; border-left: 6px solid #3498db; padding: 15px; margin: 20px 0; border-radius: 6px; }\n",
    "    code { background: #eef; padding: 2px 5px; border-radius: 3px; }\n",
    "    ul { margin: 0; padding-left: 20px; }\n",
    "    table { border-collapse: collapse; width: 100%; margin-top: 10px; }\n",
    "    table, th, td { border: 1px solid #ccc; }\n",
    "    th, td { padding: 8px; text-align: center; }\n",
    "    th { background: #e9ecef; }\n",
    "  </style>\n",
    "</head>\n",
    "<body>\n",
    "\n",
    "  <h2>Understanding N-grams and CountVectorizer</h2>\n",
    "\n",
    "  <!-- Question 1 -->\n",
    "  <div class=\"box\">\n",
    "    <h3>1. Do N-grams make all combinations or follow an order?</h3>\n",
    "    <ul>\n",
    "      <li><b>They do NOT make all possible combinations.</b></li>\n",
    "      <li>N-grams are created in the <b>exact order words appear in the text</b>.</li>\n",
    "      <li>Example sentence: <code>\"I love NLP\"</code></li>\n",
    "      <ul>\n",
    "        <li><b>Unigrams (n=1):</b> [\"I\", \"love\", \"NLP\"]</li>\n",
    "        <li><b>Bigrams (n=2):</b> [\"I love\", \"love NLP\"]</li>\n",
    "        <li><b>Trigrams (n=3):</b> [\"I love NLP\"]</li>\n",
    "      </ul>\n",
    "      <li>Notice: We only take <b>consecutive words in order</b>.  \n",
    "          We do NOT create random pairs like (\"I\", \"NLP\").</li>\n",
    "    </ul>\n",
    "  </div>\n",
    "\n",
    "  <!-- Question 2 -->\n",
    "  <div class=\"box\">\n",
    "    <h3>2. What does <code>cv.vocabulary_</code> output and how are 1/0 values assigned?</h3>\n",
    "    <ul>\n",
    "      <li><code>cv.vocabulary_</code> is a <b>dictionary</b> mapping each word/ngram to a column index in the feature matrix.</li>\n",
    "      <li><b>Order of indices:</b>\n",
    "        <ul>\n",
    "          <li>CountVectorizer scans text document by document, left to right.</li>\n",
    "          <li>When it finds a new word/ngram, it assigns the <b>next available column index</b>.</li>\n",
    "          <li>This means the order is <u>not alphabetical</u> but based on discovery order.</li>\n",
    "        </ul>\n",
    "      </li>\n",
    "      <li><b>How 1/0 is assigned in the feature matrix:</b>\n",
    "        <ul>\n",
    "          <li>Each row = one document.</li>\n",
    "          <li>Each column = one word/ngram from the vocabulary.</li>\n",
    "          <li>Each cell = <b>count</b> of how many times that word/ngram appears in the document.</li>\n",
    "          <li>Value is <code>0</code> if it doesn’t appear.</li>\n",
    "        </ul>\n",
    "      </li>\n",
    "    </ul>\n",
    "  </div>\n",
    "\n",
    "  <!-- Detailed Example -->\n",
    "  <h3>Example with Documents</h3>\n",
    "  <p>Suppose we have two documents:</p>\n",
    "  <ol>\n",
    "    <li>Doc1: <code>\"I love NLP\"</code></li>\n",
    "    <li>Doc2: <code>\"I love AI\"</code></li>\n",
    "  </ol>\n",
    "\n",
    "  <p>Vocabulary created (with bigrams and unigrams):</p>\n",
    "  <pre>\n",
    "  {\n",
    "    'ai': 0,\n",
    "    'i love': 1,\n",
    "    'i': 2,\n",
    "    'love': 3,\n",
    "    'nlp': 4,\n",
    "    'love nlp': 5,\n",
    "    'love ai': 6\n",
    "  }\n",
    "  </pre>\n",
    "\n",
    "  <p>Feature Matrix (<code>X.toarray()</code>):</p>\n",
    "  <table>\n",
    "    <tr>\n",
    "      <th>Document</th>\n",
    "      <th>ai (0)</th>\n",
    "      <th>i love (1)</th>\n",
    "      <th>i (2)</th>\n",
    "      <th>love (3)</th>\n",
    "      <th>nlp (4)</th>\n",
    "      <th>love nlp (5)</th>\n",
    "      <th>love ai (6)</th>\n",
    "    </tr>\n",
    "    <tr>\n",
    "      <td>Doc1: \"I love NLP\"</td>\n",
    "      <td>0</td>\n",
    "      <td>1</td>\n",
    "      <td>1</td>\n",
    "      <td>1</td>\n",
    "      <td>1</td>\n",
    "      <td>1</td>\n",
    "      <td>0</td>\n",
    "    </tr>\n",
    "    <tr>\n",
    "      <td>Doc2: \"I love AI\"</td>\n",
    "      <td>1</td>\n",
    "      <td>1</td>\n",
    "      <td>1</td>\n",
    "      <td>1</td>\n",
    "      <td>0</td>\n",
    "      <td>0</td>\n",
    "      <td>1</td>\n",
    "    </tr>\n",
    "  </table>\n",
    "\n",
    "  <p><b>How to read the table:</b></p>\n",
    "  <ul>\n",
    "    <li>Row = one document.</li>\n",
    "    <li>Column = one word/ngram.</li>\n",
    "    <li>Value = how many times that word/ngram appears in the doc.</li>\n",
    "    <li>Example: In Doc1, <code>\"love nlp\"</code> appears once → so column \"love nlp\" = 1.</li>\n",
    "    <li>In Doc2, <code>\"love nlp\"</code> does not appear → so column \"love nlp\" = 0.</li>\n",
    "  </ul>\n",
    "\n",
    "</body>\n",
    "</html>\n"
   ]
  },
  {
   "cell_type": "markdown",
   "id": "77e9e87b-b9d5-48b3-be71-304705d9e4b5",
   "metadata": {},
   "source": [
    "<!-- Paste this entire block into a Jupyter Notebook MARKDOWN cell (not a code cell).\n",
    "     If you want to render from a code cell, use IPython.display.HTML as explained above. -->\n",
    "\n",
    "<div style=\"font-family: Arial, Helvetica, sans-serif; max-width:920px; margin:12px auto; color:#222;\">\n",
    "  <h1 style=\"color:#0b57a4; margin-bottom:6px;\">TF-IDF — Detailed but Readable Summary</h1>\n",
    "  <p style=\"color:#555; margin-top:0;\">Term Frequency × Inverse Document Frequency: a way to score how important a word is to a document relative to a corpus. (Also captures <strong>word importance</strong>.)</p>\n",
    "\n",
    "  <h2 style=\"color:#0b57a4; margin-bottom:4px;\">Core idea (short)</h2>\n",
    "  <p style=\"margin-top:0.2rem;\">TF-IDF gives high weight to terms that appear often in a document (TF) but are rare across documents (IDF). This lets informative words stand out while downplaying very common words.</p>\n",
    "\n",
    "  <h2 style=\"color:#0b57a4; margin-bottom:4px;\">Definitions & formulas</h2>\n",
    "  <h3 style=\"margin:6px 0 2px;\">Term Frequency (TF)</h3>\n",
    "  <ul>\n",
    "    <li><strong>Raw count:</strong> <code>TF(t,d) = count of term t in document d</code></li>\n",
    "    <li><strong>Relative frequency:</strong> <code>TF(t,d) = count(t,d) / total_words(d)</code> (avoids bias toward long documents)</li>\n",
    "  </ul>\n",
    "\n",
    "  <h3 style=\"margin:6px 0 2px;\">Inverse Document Frequency (IDF)</h3>\n",
    "  <ul>\n",
    "    <li><strong>Basic:</strong> <code>IDF(t) = ln( N / df(t) )</code> where N = total docs, df(t) = docs containing t</li>\n",
    "    <li><strong>Smoothed (scikit-learn):</strong> <code>IDF(t) = ln((1+N)/(1+df(t))) + 1</code></li>\n",
    "  </ul>\n",
    "\n",
    "  <p><strong>TF-IDF:</strong> <code>TF-IDF(t,d) = TF(t,d) × IDF(t)</code></p>\n",
    "\n",
    "  <h2 style=\"color:#0b57a4; margin-bottom:4px;\">Worked example (step-by-step)</h2>\n",
    "  <p><strong>Corpus (N = 3 docs):</strong></p>\n",
    "  <ol>\n",
    "    <li>D1: <em>pizza is amazing</em> → tokens: pizza, is, amazing</li>\n",
    "    <li>D2: <em>pizza pizza pizza great</em> → tokens: pizza×3, great</li>\n",
    "    <li>D3: <em>delivery was slow pizza was cold</em> → tokens: delivery, was×2, slow, pizza, cold</li>\n",
    "  </ol>\n",
    "  <p style=\"color:#555\">We focus on terms: <strong>pizza, amazing, great, delivery, slow, cold</strong> (ignore stopwords for clarity).</p>\n",
    "\n",
    "  <h3 style=\"margin:8px 0 4px;\">1) Document frequency df(t)</h3>\n",
    "  <table style=\"width:100%; border-collapse:collapse; margin-bottom:10px;\">\n",
    "    <tr>\n",
    "      <th style=\"border:1px solid #ddd; padding:6px; background:#fafafa;\">Term</th>\n",
    "      <th style=\"border:1px solid #ddd; padding:6px; background:#fafafa;\">Docs it appears in</th>\n",
    "      <th style=\"border:1px solid #ddd; padding:6px; background:#fafafa;\">df(t)</th>\n",
    "    </tr>\n",
    "    <tr><td style=\"border:1px solid #ddd; padding:6px;\">pizza</td><td style=\"border:1px solid #ddd; padding:6px;\">D1, D2, D3</td><td style=\"border:1px solid #ddd; padding:6px;\">3</td></tr>\n",
    "    <tr><td style=\"border:1px solid #ddd; padding:6px;\">amazing</td><td style=\"border:1px solid #ddd; padding:6px;\">D1</td><td style=\"border:1px solid #ddd; padding:6px;\">1</td></tr>\n",
    "    <tr><td style=\"border:1px solid #ddd; padding:6px;\">great</td><td style=\"border:1px solid #ddd; padding:6px;\">D2</td><td style=\"border:1px solid #ddd; padding:6px;\">1</td></tr>\n",
    "    <tr><td style=\"border:1px solid #ddd; padding:6px;\">delivery</td><td style=\"border:1px solid #ddd; padding:6px;\">D3</td><td style=\"border:1px solid #ddd; padding:6px;\">1</td></tr>\n",
    "    <tr><td style=\"border:1px solid #ddd; padding:6px;\">slow</td><td style=\"border:1px solid #ddd; padding:6px;\">D3</td><td style=\"border:1px solid #ddd; padding:6px;\">1</td></tr>\n",
    "    <tr><td style=\"border:1px solid #ddd; padding:6px;\">cold</td><td style=\"border:1px solid #ddd; padding:6px;\">D3</td><td style=\"border:1px solid #ddd; padding:6px;\">1</td></tr>\n",
    "  </table>\n",
    "\n",
    "  <h3 style=\"margin:8px 0 4px;\">2) IDF (ln(N/df)) — N = 3</h3>\n",
    "  <table style=\"width:100%; border-collapse:collapse; margin-bottom:10px;\">\n",
    "    <tr>\n",
    "      <th style=\"border:1px solid #ddd; padding:6px; background:#fafafa;\">Term</th>\n",
    "      <th style=\"border:1px solid #ddd; padding:6px; background:#fafafa;\">IDF</th>\n",
    "    </tr>\n",
    "    <tr><td style=\"border:1px solid #ddd; padding:6px;\">pizza</td><td style=\"border:1px solid #ddd; padding:6px;\">ln(3/3) = 0.000</td></tr>\n",
    "    <tr><td style=\"border:1px solid #ddd; padding:6px;\">amazing</td><td style=\"border:1px solid #ddd; padding:6px;\">ln(3/1) ≈ 1.099</td></tr>\n",
    "    <tr><td style=\"border:1px solid #ddd; padding:6px;\">great</td><td style=\"border:1px solid #ddd; padding:6px;\">ln(3/1) ≈ 1.099</td></tr>\n",
    "    <tr><td style=\"border:1px solid #ddd; padding:6px;\">delivery</td><td style=\"border:1px solid #ddd; padding:6px;\">ln(3/1) ≈ 1.099</td></tr>\n",
    "    <tr><td style=\"border:1px solid #ddd; padding:6px;\">slow</td><td style=\"border:1px solid #ddd; padding:6px;\">ln(3/1) ≈ 1.099</td></tr>\n",
    "    <tr><td style=\"border:1px solid #ddd; padding:6px;\">cold</td><td style=\"border:1px solid #ddd; padding:6px;\">ln(3/1) ≈ 1.099</td></tr>\n",
    "  </table>\n",
    "\n",
    "  <h3 style=\"margin:8px 0 4px;\">3) TF options and TF-IDF calculations</h3>\n",
    "\n",
    "  <h4 style=\"margin:6px 0 4px;\">Raw count TF (table)</h4>\n",
    "  <table style=\"width:100%; border-collapse:collapse; margin-bottom:10px;\">\n",
    "    <tr><th style=\"border:1px solid #ddd; padding:6px; background:#fafafa;\">Term</th><th style=\"border:1px solid #ddd; padding:6px;\">D1</th><th style=\"border:1px solid #ddd; padding:6px;\">D2</th><th style=\"border:1px solid #ddd; padding:6px;\">D3</th></tr>\n",
    "    <tr><td style=\"border:1px solid #ddd; padding:6px;\">pizza</td><td style=\"border:1px solid #ddd; padding:6px;\">1</td><td style=\"border:1px solid #ddd; padding:6px;\">3</td><td style=\"border:1px solid #ddd; padding:6px;\">1</td></tr>\n",
    "    <tr><td style=\"border:1px solid #ddd; padding:6px;\">amazing</td><td style=\"border:1px solid #ddd; padding:6px;\">1</td><td style=\"border:1px solid #ddd; padding:6px;\">0</td><td style=\"border:1px solid #ddd; padding:6px;\">0</td></tr>\n",
    "    <tr><td style=\"border:1px solid #ddd; padding:6px;\">great</td><td style=\"border:1px solid #ddd; padding:6px;\">0</td><td style=\"border:1px solid #ddd; padding:6px;\">1</td><td style=\"border:1px solid #ddd; padding:6px;\">0</td></tr>\n",
    "    <tr><td style=\"border:1px solid #ddd; padding:6px;\">delivery</td><td style=\"border:1px solid #ddd; padding:6px;\">0</td><td style=\"border:1px solid #ddd; padding:6px;\">0</td><td style=\"border:1px solid #ddd; padding:6px;\">1</td></tr>\n",
    "    <tr><td style=\"border:1px solid #ddd; padding:6px;\">slow</td><td style=\"border:1px solid #ddd; padding:6px;\">0</td><td style=\"border:1px solid #ddd; padding:6px;\">0</td><td style=\"border:1px solid #ddd; padding:6px;\">1</td></tr>\n",
    "    <tr><td style=\"border:1px solid #ddd; padding:6px;\">cold</td><td style=\"border:1px solid #ddd; padding:6px;\">0</td><td style=\"border:1px solid #ddd; padding:6px;\">0</td><td style=\"border:1px solid #ddd; padding:6px;\">1</td></tr>\n",
    "  </table>\n",
    "\n",
    "  <h4 style=\"margin:6px 0 4px;\">TF-IDF (raw TF × IDF)</h4>\n",
    "  <p style=\"margin-top:0; color:#555;\">Because pizza's IDF = 0, its TF-IDF is 0 in all docs; rare words get non-zero weights.</p>\n",
    "  <table style=\"width:100%; border-collapse:collapse; margin-bottom:10px;\">\n",
    "    <tr><th style=\"border:1px solid #ddd; padding:6px; background:#fafafa;\">Term</th><th style=\"border:1px solid #ddd; padding:6px;\">D1</th><th style=\"border:1px solid #ddd; padding:6px;\">D2</th><th style=\"border:1px solid #ddd; padding:6px;\">D3</th></tr>\n",
    "    <tr><td style=\"border:1px solid #ddd; padding:6px;\">pizza</td><td style=\"border:1px solid #ddd; padding:6px;\">0.000</td><td style=\"border:1px solid #ddd; padding:6px;\">0.000</td><td style=\"border:1px solid #ddd; padding:6px;\">0.000</td></tr>\n",
    "    <tr><td style=\"border:1px solid #ddd; padding:6px;\">amazing</td><td style=\"border:1px solid #ddd; padding:6px;\">1.099</td><td style=\"border:1px solid #ddd; padding:6px;\">0.000</td><td style=\"border:1px solid #ddd; padding:6px;\">0.000</td></tr>\n",
    "    <tr><td style=\"border:1px solid #ddd; padding:6px;\">great</td><td style=\"border:1px solid #ddd; padding:6px;\">0.000</td><td style=\"border:1px solid #ddd; padding:6px;\">1.099</td><td style=\"border:1px solid #ddd; padding:6px;\">0.000</td></tr>\n",
    "    <tr><td style=\"border:1px solid #ddd; padding:6px;\">delivery</td><td style=\"border:1px solid #ddd; padding:6px;\">0.000</td><td style=\"border:1px solid #ddd; padding:6px;\">0.000</td><td style=\"border:1px solid #ddd; padding:6px;\">1.099</td></tr>\n",
    "    <tr><td style=\"border:1px solid #ddd; padding:6px;\">slow</td><td style=\"border:1px solid #ddd; padding:6px;\">0.000</td><td style=\"border:1px solid #ddd; padding:6px;\">0.000</td><td style=\"border:1px solid #ddd; padding:6px;\">1.099</td></tr>\n",
    "    <tr><td style=\"border:1px solid #ddd; padding:6px;\">cold</td><td style=\"border:1px solid #ddd; padding:6px;\">0.000</td><td style=\"border:1px solid #ddd; padding:6px;\">0.000</td><td style=\"border:1px solid #ddd; padding:6px;\">1.099</td></tr>\n",
    "  </table>\n",
    "\n",
    "  <div style=\"border-left:4px solid #0b57a4; background:#f4f8ff; padding:8px 12px; border-radius:6px; margin-top:8px;\">\n",
    "    <strong style=\"display:block; margin-bottom:6px;\">Note:</strong>\n",
    "    Document vectors are often normalized (L2) after TF-IDF so comparisons (like cosine similarity) are fair across different document lengths.\n",
    "  </div>\n",
    "\n",
    "  <h2 style=\"color:#0b57a4; margin-top:14px;\">Pros & Cons</h2>\n",
    "  <div style=\"display:flex; gap:12px; flex-wrap:wrap;\">\n",
    "    <div style=\"flex:1; min-width:260px;\">\n",
    "      <h3 style=\"margin:6px 0 4px;\">✅ Pros</h3>\n",
    "      <ul>\n",
    "        <li><strong>Word importance is getting captured</strong> — rare/informative terms get higher weights.</li>\n",
    "        <li>Strong, simple baseline for search and classification.</li>\n",
    "        <li>Fast to compute and works well with linear models.</li>\n",
    "        <li>No task-specific training required beyond counting.</li>\n",
    "      </ul>\n",
    "    </div>\n",
    "    <div style=\"flex:1; min-width:260px;\">\n",
    "      <h3 style=\"margin:6px 0 4px;\">❌ Cons</h3>\n",
    "      <ul>\n",
    "        <li>No order or deep semantic understanding (bag-of-words).</li>\n",
    "        <li>Sparse, high-dimensional vectors → memory and overfitting risk on huge vocabularies.</li>\n",
    "        <li>Fixed vocabulary: OOV words are ignored unless you rebuild the vectorizer.</li>\n",
    "        <li>Sensitive to preprocessing choices (tokenization, casing, stemming, typos).</li>\n",
    "      </ul>\n",
    "    </div>\n",
    "  </div>\n",
    "\n",
    "  <h2 style=\"color:#0b57a4; margin-top:14px;\">Common Use Cases & Tips</h2>\n",
    "  <ul>\n",
    "    <li><strong>Search/ranking</strong> (TF-IDF or BM25 variants): match queries to documents.</li>\n",
    "    <li><strong>Text classification</strong>: sentiment, topic, intent (TF-IDF + Logistic Regression often works well).</li>\n",
    "    <li><strong>Keyword extraction</strong>: top TF-IDF terms per document.</li>\n",
    "    <li><strong>Similarity & clustering</strong>: near-duplicate detection, grouping similar docs.</li>\n",
    "    <li><strong>Practical tip:</strong> start with <code>TfidfVectorizer(ngram_range=(1,2), min_df=2, max_df=0.9)</code>; normalize vectors for cosine similarity.</li>\n",
    "  </ul>\n",
    "\n",
    "  <h3 style=\"margin-top:8px;\">Quick Python demo (paste into a code cell)</h3>\n",
    "  <pre style=\"background:#0b1220; color:#e5e7eb; padding:10px; border-radius:6px;\"><code>from sklearn.feature_extraction.text import TfidfVectorizer\n",
    "\n",
    "docs = [\n",
    "    \"pizza is amazing\",\n",
    "    \"pizza pizza pizza great\",\n",
    "    \"delivery was slow pizza was cold\"\n",
    "]\n",
    "\n",
    "vec = TfidfVectorizer(ngram_range=(1,2), min_df=1)\n",
    "X = vec.fit_transform(docs)\n",
    "\n",
    "print(vec.get_feature_names_out())\n",
    "print(X.toarray())</code></pre>\n",
    "\n"
   ]
  },
  {
   "cell_type": "code",
   "execution_count": 71,
   "id": "03eae85a-8ec8-4075-a065-b1615eaba245",
   "metadata": {},
   "outputs": [
    {
     "data": {
      "text/plain": [
       "array([[0.        , 0.        , 0.        , 0.        , 0.        ,\n",
       "        0.        , 0.        , 0.        , 0.        , 0.        ,\n",
       "        0.        , 0.        , 0.        , 0.        , 0.45798516,\n",
       "        0.        , 0.        , 0.        , 0.        , 0.        ,\n",
       "        0.        , 0.        , 0.        , 0.53874817, 0.        ,\n",
       "        0.        , 0.45798516, 0.        , 0.        , 0.        ,\n",
       "        0.        , 0.        , 0.        , 0.        , 0.        ,\n",
       "        0.        , 0.53874817, 0.        , 0.        , 0.        ,\n",
       "        0.        , 0.        , 0.        , 0.        , 0.        ,\n",
       "        0.        ],\n",
       "       [0.        , 0.        , 0.42853734, 0.        , 0.        ,\n",
       "        0.        , 0.        , 0.        , 0.        , 0.        ,\n",
       "        0.42853734, 0.        , 0.36429589, 0.        , 0.        ,\n",
       "        0.        , 0.        , 0.42853734, 0.        , 0.        ,\n",
       "        0.        , 0.        , 0.        , 0.        , 0.        ,\n",
       "        0.        , 0.36429589, 0.        , 0.        , 0.        ,\n",
       "        0.        , 0.        , 0.        , 0.        , 0.        ,\n",
       "        0.        , 0.        , 0.        , 0.        , 0.        ,\n",
       "        0.        , 0.        , 0.        , 0.        , 0.42853734,\n",
       "        0.        ],\n",
       "       [0.        , 0.        , 0.        , 0.        , 0.32786509,\n",
       "        0.        , 0.38568218, 0.38568218, 0.        , 0.        ,\n",
       "        0.        , 0.38568218, 0.        , 0.        , 0.        ,\n",
       "        0.        , 0.        , 0.        , 0.        , 0.        ,\n",
       "        0.        , 0.        , 0.        , 0.        , 0.        ,\n",
       "        0.38568218, 0.        , 0.        , 0.38568218, 0.        ,\n",
       "        0.        , 0.        , 0.        , 0.38568218, 0.        ,\n",
       "        0.        , 0.        , 0.        , 0.        , 0.        ,\n",
       "        0.        , 0.        , 0.        , 0.        , 0.        ,\n",
       "        0.        ],\n",
       "       [0.        , 0.        , 0.        , 0.        , 0.        ,\n",
       "        0.        , 0.        , 0.        , 0.        , 0.4472136 ,\n",
       "        0.        , 0.        , 0.        , 0.        , 0.        ,\n",
       "        0.        , 0.4472136 , 0.        , 0.        , 0.        ,\n",
       "        0.        , 0.        , 0.4472136 , 0.        , 0.        ,\n",
       "        0.        , 0.        , 0.        , 0.        , 0.        ,\n",
       "        0.        , 0.        , 0.        , 0.        , 0.        ,\n",
       "        0.4472136 , 0.        , 0.        , 0.        , 0.        ,\n",
       "        0.4472136 , 0.        , 0.        , 0.        , 0.        ,\n",
       "        0.        ],\n",
       "       [0.        , 0.        , 0.        , 0.        , 0.        ,\n",
       "        0.        , 0.        , 0.        , 0.        , 0.        ,\n",
       "        0.        , 0.        , 0.        , 0.        , 0.        ,\n",
       "        0.        , 0.        , 0.        , 0.4472136 , 0.4472136 ,\n",
       "        0.4472136 , 0.        , 0.        , 0.        , 0.        ,\n",
       "        0.        , 0.        , 0.4472136 , 0.        , 0.        ,\n",
       "        0.        , 0.        , 0.        , 0.        , 0.        ,\n",
       "        0.        , 0.        , 0.        , 0.        , 0.        ,\n",
       "        0.        , 0.        , 0.        , 0.        , 0.        ,\n",
       "        0.4472136 ],\n",
       "       [0.46015789, 0.        , 0.        , 0.        , 0.        ,\n",
       "        0.        , 0.        , 0.        , 0.        , 0.        ,\n",
       "        0.        , 0.        , 0.        , 0.        , 0.39117625,\n",
       "        0.        , 0.        , 0.        , 0.        , 0.        ,\n",
       "        0.        , 0.46015789, 0.        , 0.        , 0.        ,\n",
       "        0.        , 0.        , 0.        , 0.        , 0.46015789,\n",
       "        0.        , 0.        , 0.        , 0.        , 0.46015789,\n",
       "        0.        , 0.        , 0.        , 0.        , 0.        ,\n",
       "        0.        , 0.        , 0.        , 0.        , 0.        ,\n",
       "        0.        ],\n",
       "       [0.        , 0.        , 0.        , 0.5182909 , 0.        ,\n",
       "        0.        , 0.        , 0.        , 0.        , 0.        ,\n",
       "        0.        , 0.        , 0.44059462, 0.        , 0.        ,\n",
       "        0.        , 0.        , 0.        , 0.        , 0.        ,\n",
       "        0.        , 0.        , 0.        , 0.        , 0.        ,\n",
       "        0.        , 0.        , 0.        , 0.        , 0.        ,\n",
       "        0.5182909 , 0.        , 0.5182909 , 0.        , 0.        ,\n",
       "        0.        , 0.        , 0.        , 0.        , 0.        ,\n",
       "        0.        , 0.        , 0.        , 0.        , 0.        ,\n",
       "        0.        ],\n",
       "       [0.        , 0.8660254 , 0.        , 0.        , 0.        ,\n",
       "        0.        , 0.        , 0.        , 0.        , 0.        ,\n",
       "        0.        , 0.        , 0.        , 0.        , 0.        ,\n",
       "        0.        , 0.        , 0.        , 0.        , 0.        ,\n",
       "        0.        , 0.        , 0.        , 0.        , 0.28867513,\n",
       "        0.        , 0.        , 0.        , 0.        , 0.        ,\n",
       "        0.        , 0.28867513, 0.        , 0.        , 0.        ,\n",
       "        0.        , 0.        , 0.        , 0.        , 0.        ,\n",
       "        0.        , 0.28867513, 0.        , 0.        , 0.        ,\n",
       "        0.        ],\n",
       "       [0.        , 0.        , 0.        , 0.        , 0.35535858,\n",
       "        0.41802399, 0.        , 0.        , 0.        , 0.        ,\n",
       "        0.        , 0.        , 0.        , 0.        , 0.        ,\n",
       "        0.41802399, 0.        , 0.        , 0.        , 0.        ,\n",
       "        0.        , 0.        , 0.        , 0.        , 0.        ,\n",
       "        0.        , 0.        , 0.        , 0.        , 0.        ,\n",
       "        0.        , 0.        , 0.        , 0.        , 0.        ,\n",
       "        0.        , 0.        , 0.41802399, 0.        , 0.        ,\n",
       "        0.        , 0.        , 0.41802399, 0.41802399, 0.        ,\n",
       "        0.        ],\n",
       "       [0.        , 0.        , 0.        , 0.        , 0.        ,\n",
       "        0.        , 0.        , 0.        , 0.5       , 0.        ,\n",
       "        0.        , 0.        , 0.        , 0.5       , 0.        ,\n",
       "        0.        , 0.        , 0.        , 0.        , 0.        ,\n",
       "        0.        , 0.        , 0.        , 0.        , 0.        ,\n",
       "        0.        , 0.        , 0.        , 0.        , 0.        ,\n",
       "        0.        , 0.        , 0.        , 0.        , 0.        ,\n",
       "        0.        , 0.        , 0.        , 0.5       , 0.5       ,\n",
       "        0.        , 0.        , 0.        , 0.        , 0.        ,\n",
       "        0.        ]])"
      ]
     },
     "execution_count": 71,
     "metadata": {},
     "output_type": "execute_result"
    }
   ],
   "source": [
    "from sklearn.feature_extraction.text import TfidfVectorizer\n",
    "tfidf = TfidfVectorizer(max_features=100)\n",
    "x = tfidf.fit_transform(corpus).toarray()\n",
    "x"
   ]
  },
  {
   "cell_type": "code",
   "execution_count": 72,
   "id": "16afa3df-198b-4c15-9094-37719281f68a",
   "metadata": {
    "scrolled": true
   },
   "outputs": [
    {
     "data": {
      "text/plain": [
       "array([[0.        , 0.        , 0.        , 0.        , 0.        ],\n",
       "       [0.        , 0.        , 0.        , 0.        , 0.        ],\n",
       "       [0.        , 0.        , 0.        , 0.        , 0.        ],\n",
       "       [0.        , 0.        , 0.        , 0.        , 0.        ],\n",
       "       [0.        , 0.        , 0.        , 0.        , 0.        ],\n",
       "       [1.        , 0.        , 0.        , 0.        , 0.        ],\n",
       "       [0.        , 0.        , 0.        , 0.        , 0.        ],\n",
       "       [0.        , 0.75592895, 0.37796447, 0.37796447, 0.37796447],\n",
       "       [0.        , 0.        , 0.        , 0.        , 0.        ],\n",
       "       [0.        , 0.        , 0.        , 0.        , 0.        ]])"
      ]
     },
     "execution_count": 72,
     "metadata": {},
     "output_type": "execute_result"
    }
   ],
   "source": [
    "from sklearn.feature_extraction.text import TfidfVectorizer\n",
    "tfidf = TfidfVectorizer(max_features=5,ngram_range=(2,3))\n",
    "x = tfidf.fit_transform(corpus).toarray()\n",
    "x"
   ]
  },
  {
   "cell_type": "code",
   "execution_count": 73,
   "id": "d7625d50-d50e-4e49-b2da-60f415f6fdbb",
   "metadata": {},
   "outputs": [
    {
     "data": {
      "text/plain": [
       "{'average lol': np.int64(0),\n",
       " 'bad bad': np.int64(1),\n",
       " 'bad quality': np.int64(4),\n",
       " 'bad bad bad': np.int64(2),\n",
       " 'bad bad quality': np.int64(3)}"
      ]
     },
     "execution_count": 73,
     "metadata": {},
     "output_type": "execute_result"
    }
   ],
   "source": [
    "tfidf.vocabulary_"
   ]
  },
  {
   "attachments": {
    "d192ccf5-f7e1-40aa-a882-4f208f353922.png": {
     "image/png": "[encoded data removed]"
    }
   },
   "cell_type": "markdown",
   "id": "ebe2e12c-1988-4529-ac0d-16b1897b99b7",
   "metadata": {},
   "source": [
    "![image.png](attachment:d192ccf5-f7e1-40aa-a882-4f208f353922.png)"
   ]
  }
 ],
 "metadata": {
  "kernelspec": {
   "display_name": "Python 3 (ipykernel)",
   "language": "python",
   "name": "python3"
  },
  "language_info": {
   "codemirror_mode": {
    "name": "ipython",
    "version": 3
   },
   "file_extension": ".py",
   "mimetype": "text/x-python",
   "name": "python",
   "nbconvert_exporter": "python",
   "pygments_lexer": "ipython3",
   "version": "3.13.5"
  }
 },
 "nbformat": 4,
 "nbformat_minor": 5
}
